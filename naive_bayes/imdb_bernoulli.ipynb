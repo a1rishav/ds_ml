{
 "cells": [
  {
   "cell_type": "code",
   "execution_count": 46,
   "id": "b4e3ea37",
   "metadata": {},
   "outputs": [],
   "source": [
    "import sys\n",
    "sys.path.append(\"/media/data/anaconda3/envs/upgrad/lib/python3.8/site-packages/\")"
   ]
  },
  {
   "cell_type": "code",
   "execution_count": 47,
   "id": "a91f44b1",
   "metadata": {},
   "outputs": [],
   "source": [
    "import numpy as np\n",
    "import pandas as pd\n",
    "import sklearn"
   ]
  },
  {
   "cell_type": "code",
   "execution_count": 48,
   "id": "1d28991c",
   "metadata": {},
   "outputs": [
    {
     "data": {
      "text/html": [
       "<div>\n",
       "<style scoped>\n",
       "    .dataframe tbody tr th:only-of-type {\n",
       "        vertical-align: middle;\n",
       "    }\n",
       "\n",
       "    .dataframe tbody tr th {\n",
       "        vertical-align: top;\n",
       "    }\n",
       "\n",
       "    .dataframe thead th {\n",
       "        text-align: right;\n",
       "    }\n",
       "</style>\n",
       "<table border=\"1\" class=\"dataframe\">\n",
       "  <thead>\n",
       "    <tr style=\"text-align: right;\">\n",
       "      <th></th>\n",
       "      <th>class</th>\n",
       "      <th>text</th>\n",
       "    </tr>\n",
       "  </thead>\n",
       "  <tbody>\n",
       "    <tr>\n",
       "      <th>0</th>\n",
       "      <td>Pos</td>\n",
       "      <td>a common complaint amongst film critics is   ...</td>\n",
       "    </tr>\n",
       "    <tr>\n",
       "      <th>1</th>\n",
       "      <td>Pos</td>\n",
       "      <td>whew   this film oozes energy   the kind of b...</td>\n",
       "    </tr>\n",
       "    <tr>\n",
       "      <th>2</th>\n",
       "      <td>Pos</td>\n",
       "      <td>steven spielberg s   amistad     which is bas...</td>\n",
       "    </tr>\n",
       "    <tr>\n",
       "      <th>3</th>\n",
       "      <td>Pos</td>\n",
       "      <td>he has spent his entire life in an awful litt...</td>\n",
       "    </tr>\n",
       "    <tr>\n",
       "      <th>4</th>\n",
       "      <td>Pos</td>\n",
       "      <td>being that it is a foreign language film with...</td>\n",
       "    </tr>\n",
       "  </tbody>\n",
       "</table>\n",
       "</div>"
      ],
      "text/plain": [
       "  class                                               text\n",
       "0   Pos   a common complaint amongst film critics is   ...\n",
       "1   Pos   whew   this film oozes energy   the kind of b...\n",
       "2   Pos   steven spielberg s   amistad     which is bas...\n",
       "3   Pos   he has spent his entire life in an awful litt...\n",
       "4   Pos   being that it is a foreign language film with..."
      ]
     },
     "execution_count": 48,
     "metadata": {},
     "output_type": "execute_result"
    }
   ],
   "source": [
    "# training data\n",
    "train_docs = pd.read_csv('movie_review_train.csv') \n",
    "train_docs.head()"
   ]
  },
  {
   "cell_type": "code",
   "execution_count": 49,
   "id": "ec542fcb",
   "metadata": {},
   "outputs": [
    {
     "data": {
      "text/plain": [
       "Pos    800\n",
       "Neg    800\n",
       "Name: class, dtype: int64"
      ]
     },
     "execution_count": 49,
     "metadata": {},
     "output_type": "execute_result"
    }
   ],
   "source": [
    "train_docs['class'].value_counts()"
   ]
  },
  {
   "cell_type": "code",
   "execution_count": 50,
   "id": "83f8cbf9",
   "metadata": {},
   "outputs": [
    {
     "name": "stdout",
     "output_type": "stream",
     "text": [
      "X_train\n",
      "[' a common complaint amongst film critics is   why aren t there more literate scripts available      quiz show gives signs of hope that the art of writing isn t dead in hollywood and that we need not only look to independent films for thoughtful content    paul attanasio s script takes what could have been a tepid thriller   the quiz show scandals of the late 50s   and delivers a telling parable about the emptiness of the post war american dream and the golden bubble that surrounds and protects tv networks and their sponsors    the film is riddled with telling symbols   e   g    a  58 chrysler   a radio announcement of sputnik   but is never heavy handed    deft direction by robert redford and keen performances by ralph fiennes   john turturro and rob morrow dovetail perfectly with the carefully honed script    redford departs from the usually overlight     cable tv quality   sets and camera work so common in recent 20th century period pieces    quiz show perfectly captures the colors and textures of the eisenhower years    although i was only 4 years old when the   twenty one   scandal broke   enough of the 50s icons survived throughout my childhood for me to recognize the authenticity of redford s almost tangible palette    from plastic covered furniture to carefully coifed contestants   the images ring true from that era of rampant consumerism   of a generation that had gone through 15 years of depression and world war without   disposable income     before the manifestation of its american dream    the film deftly weaves several themes together   from assimilation and exclusion of jews from   the good life     to the lengths that a scion of a literary family will go to to match his father s fame    though the 50s audience that is   rocked   by this scandal may initially seem naive to us   they should appear all too familiar   with our current national passion for the rise and fall of icons like michael jackson or tonya harding    charles van doren and herbie stemple were the overnight mega celebrities of their day    the tv audience is almost a fourth main character   always at the center of the decisions being made on their behalf    at the film s end   the credits roll past slow motion footage of that same 50s tv audience   mindlessly laughing at some piece of fluff    like the distorted mirror that captured a blurred swastika at the end of cabaret   this   mirror   may reflect an image we re not all that comfortable with    '\n",
      " ' whew   this film oozes energy   the kind of breakneck   no  holds barred   in your face risk taking filmmaking that is seldom seen on screen these days    like the marginal   motley bunch of post apocalyptic youths director danny boyle tries to depict   trainspotting veers on the edge of utter mayhem but ultimately retains its footing and control    the result   a movie that is a delightful example of how the medium is the message    the message   a bunch of losers with loser names   mark renton   ewan mcgregor     spud   ewan bremner     sick boy   jonny lee miller     tommy   kevin mckidd     and begbie   robert carlyle      bored   aimless and restless   their routine consists of getting drunk at the local pub   grooving to techno or glam rock at the local disco and getting shots up the arm at the local den and procuring cash through a variety of methods   some ingenious   others plainly dumb and desperate    not part of the daily dose if obtained   sex is a bonus    you can find these characters as they are   foul mouthed   dirty   pathetic   ugly perhaps but definitely interesting   in irvin welsh s cult novel of the same name    what makes the film a completely different experience is how director boyle uses every tool at his disposal to make the filmic medium synchronous with the message    one of the first things you ll notice is how the camera seems to dart around restlessly    it ll truck into a character s pimple   just as soon as it will dolly out to an establishing shot    distracted and curious   it ll maintain a character s eye level or drop right to the ground to show the doped out eye view    you ll even find characters peering into the camera   their faces smeared across the wide angle lens    this film camera is just another one of the guys    tiptoeing that indistinguishable line between fantasy and reality   boyle employs a healthy dose of surrealism to get the message across    bored kids daydream and bored kids deprived of a heroin fix have nightmares    i don t want to give too much away   but if you cross chuckie from child s play with some of the wacky fantasies in heavenly creatures   you might have an idea just how fun or pants wetting scary the alternate state of consciouness can be    that said   this film has a good share of drugs   consumed   vomitted   defecated   pissed off   exchanged   bought   sold   injected   smuggled   enjoyed and regretted    if that isn t your cup of tea   nobody forced you to see the film    stay at home and rent up close and personal    and what s a buzz without tunes    from pulp to iggy pop   yes   he s still alive     the aural landscape is as engaging as the visual energy permeating the film    good and bad vibrations tangle like the conflicting desires and values of the message    every once in a while   a film comes along with the kind of energetic filmmaking that matches the intensity of its characters it hopes to depict    trainspotting is that shooting star that burns across a sky littered with static constellations    dom is a part time filmmaker who graduated from northwestern university s radio/tv/film programme not too long ago    he has laboured on various music videos and short films in and around campus and chicago    nowhere town   a 26min short film that he shot   co directed and co produced recently scooped up the grand jury prize at the charleston international film festival for best student production    he is currently finishing a couple of small projects    with his minute amounts of leisure time   dom does nell impersonations    '\n",
      " ' steven spielberg s   amistad     which is based on the true story of a group of africans who revolted on board a slave ship   then were captured and taken to america where a legal dispute ensued over who   owned   them   is concerned with several different aspects of this story    first   the film addresses the issue of the inherent evils of slavery    second   it deals with the historical involvement of several american politicians in the case   including president martin van buren and former president john quincy adams   anthony hopkins      last   and most importantly   it examines the cultural confusion experienced by the africans who were forced into slavery and the damage done to their native culture in africa by the slave trade       amistad   succeeds at least partly with all three of these elements    i have to admit that i was a little skeptical as to how much i could really get out of another   anti slavery   movie    having seen several other movies and documentaries about slavery   i doubted that there was much i didn t already know about it    fortunately   i turned out to be wrong    for one thing   spielberg s camera never once gets near a southern plantation and instead sticks to the slave ships and the slave traders  operations in africa   so   amistad   was dealing with a different part of the history of slavery from the very beginning    and some of the images here are   in fact   much more harrowing than what we usually see in movies about slavery    one scene in the middle   in which the crew of a slave ship dispose of some of their   excess   slaves by throwing them overboard to drown   has to be one of the most disturbing film images of the year    spielberg digs farther into the evils of slavery than i was expecting he would   and in fact he probably goes about as far as a movie director can without getting an nc 17 rating    the stark suffering of the africans is contrasted sharply with the shallow luxury of the politicians   such as president van buren and queen isabella of spain   whose naval officers were involved in the legal dispute and who was only a small child at the time    exposing politicians as narrow minded   opportunistic hypocrites is fairly standard stuff   of course   but spielberg and writer david franzoni do it well enough that it still comes off as something more than just a simple exercise in audience manipulation    the film also examines the contentious nature of the slavery issue at the time   such that john quincy adams   and probably other politicians like him     who clearly disapproved of the practice   was reluctant to get involved in the case until it was appealed all the way to the supreme court    the biggest success of   amistad   is probably the characterization of cinque   djimon hounsou     who emerges as the de facto leader of the kidnapped africans and struggles to communicate with baldwin   matthew mcconaughey     the lawyer who represents them in court    through cinque   we are given a window into the native culture   as he and the displaced africans try to explain to the prison guards what they need for a proper burial of a dead tribe member   or find an illustrated version of the bible and try to understand the story of jesus christ    cinque sees the dispute with a clarity and simplicity that   again   contrasts with the technicalities and mechanics of the legal process and of the political squabbles       what kind of country is this   where laws  almost  work     he asks baldwin in bewilderment   when he learns that the case must be re tried before the supreme court    spielberg s direction tends a little bit towards the manipulative side at times   such as when he adds a heavy orchestral swell to cinque s angry outburst in the court room    still   there isn t enough of this for it to be a serious problem    the main flaw in this film   which prevents it from earning four stars   is that it seems like spielberg and franzoni can t quite handle all of these issues at the same time   so instead they settle for addressing each one separately and simply editing the results into the same movie    this summer s contact   for example   dealt with several issues at once   but each of them was somehow present in almost every scene and   most importantly   all of them were resolved at once       amistad   tries to pull it all together in the end with a speech from adams   but it somehow feels a little forced   and in any case the speech itself   which lasts almost fifteen minutes   wears out its welcome about halfway through    perhaps the best way to describe it is this     amistad   is three four star films edited into one    almost every individual scene works   but the final product is lacking the necessary focus and coherence   and thus is less than the sum of its parts    however   i can t honestly say how it could have been done differently   and in any case the story comes through with enough raw emotional power that it is still a very good film   and thus i recommend it to anyone who can handle the disturbing imagery    '\n",
      " ' he has spent his entire life in an awful little apartment   raised and cared for and imprisoned by his domineering mother    she inspires his love and his fear   and instills in him a similar love and fear of jesus    he has a rudimentary grasp of language   mouthing monosyllables and repetitions of his mother s phrases    he is taught that the world outside is fatally poisonous   his mother dons a gasmask whenever she goes out the door    he is 35 years old in body   but a child in mind and spirit    he is the premise for bad boy bubby   a defiantly original australian movie about a man called bubby   nicholas hope   who has spent his entire life in an awful little apartment   etc     etc   then one day his father   ralph cotterill   appears    his father is a shabby down at heels priest who appears to have permanently misplaced his religion    unsurprisingly   he is not thrilled with the way   his   boy has turned out    he is   however   rather pleased at renewing his acquaintance with the mother   claire benito     and   more to the point   her ample breasts    soon they are copulating on the dingy couch   while bubby crouches   confused   in the next room   acutely aware that the mother who had devoted all her attention to him has a new interest    bubby s relationship to the world may be warped   but it is at least stable    the father s arrival disturbs his precarious balance   causing an oedipal conflict which ends  freud would be pleased  in violence and   as a result   freedom    bubby intuits from his father s arrival that the air outside is breathable   he leaves the apartment   his past   his world   behind    so far   so good    the first thirty minutes or so of bad boy bubby   which bring us to this point   are quite brilliant    the movie is at its best when its stays within the constraints of bubby s hermetic two room universe    it follows through unrelentingly on the implications of its premise   bubby is used by his mother for sex   he unwittingly suffocates the pet cat with cellophane   he is terrifed by the notion that jesus will beat him senseless if he sins    it is grim and savage and appalling   but also strangely tender  de heer   having imagined a life as bizarre as bubby s   does not exaggerate for comic or grotesqe purposes   but simply empathizes    he observes what it might be like    the intensity of these opening scenes   with their minimalist mise en scene   immerses us in a claustrophobic environment which seems to be a decayed stratum of our own world   and owes much to david lynch s eraserhead   not least the ambient industrial white noise of the soundtrack    for thirty minutes   the movie maintains the feel and mood of a reality that does not seem far removed from our own    then de heer lets bubby out   brings him into contact with our world   and the film never quite recovers    our unlikely hero finds himself in port adelaide   where he wanders the streets and meets people   where he suffers and learns and survives    he is seduced by a young woman from a salvation army band   how an anti social half wit with no sense of hygiene manages to get laid mere hours after his escape is not the sort of question the film encourages   wisely     he is given free pizza by a sympathetic waitress   he insults a traffic cop and is punched in the stomach   he shares a few beers in the back of a truck with a rock group   he is imprisoned and raped   he becomes a translator for mentally handicapped people whose speech is impaired beyond comprehension   he is loved by a motherly large breasted nurse   carmel johnson              it goes on   by turns inventive   silly   tasteless   endearing   and sometimes all of these things at once    de heer never seems to be sure how bubby should interface with the real world   the tone shifts   uneasily   from fable to realism to satire and back again    the scenes which try to touch base with a believable version of reality are the weakest   the film is best understood as a kind of parable   and   indeed   the religious implications of bubby s experiences are foregrounded   icons of jesus on the cross hang from the mother s walls   bubby dons a priest s collar stolen from his father   a church organ playing atheist lectures him on the necessity of unbelief   the woman who redeems him is named angel    the manifold stresses of our world do not shatter bubby s mind   do not fragment him into psychosis   rather   the world accomodates him   and heals him    although de heer s touch is at times overbearing   bubby s salvation is touching   what seemd at first a harsh lesson in the damaging effects of the social construction of reality becomes a na   ve humanist tale of improbable hope    a hapless rock group write a song about bubby and sing it for him and so give him the gift of community    he returns the favour when he steps on stage one night and becomes their frontman   turning the fragmented impressions of his experiences into performance art   and turning the band into a popular draw    innocence triumphs    bubby becomes a holy fool   an idiot savant   and graces us with wisdom    it s a strange turn of events   but by now we shouldn t be surprised   because bad boy bubby ain t like other movies    '\n",
      " ' being that it is a foreign language film with no known names with a select number theaters showing it     shall we dance   won t be seen by that many people    and that s a shame   this is a funny   enchanting   and goofy movie full of laughs   surprises   and wonderful dance sequences    the surprising thing about   shall we dance   is the universal appeal of the story    a us version is in the works   and it s no wonder   it s not really all that culture specific    although there is a narrated set up that adds some extra resonance to the proceedings   about the view the japanese culture has about ballroom dancing     the movie is so rich in character and appeal that this added layer isn t at all necessary to understand or enjoy the film    the only important unexplained japanese specific reference that may leave some a bit puzzled is that 1000 yen is roughly $10   when you see the film   and you should see this film   you ll know why      a middle aged company man realizes that achieving all the goals he set for himself in life   a house   a child   and good marriage   still doesn t translate into a fulfilled life    after glimpsing a melancholy beauty looking out from a dance studio window while on the train home from work   sugiyana   koji yakusho   decides after some trepidation to take up ballroom dance lessons in order to meet the woman who has stirred something in himself    after finding the weekly fees for private lessons from the elegant and beautiful mai   tamiyo kusakari   too rich for his blood   sugiyama opts for groups lessons simply to be near her    we then meet the players in this gem of a movie   who all have their own reasons for joining the class    later on   we meet aoki at the dance studio   naoto takenaka     a co worker and all out weirdo and one of the laugh riot highlights of the film    the story   laughs   and touching scenes evolve as the movie goes along    it s a pleasure to watch such a wonderful film that is propelled almost solely by the characters and performances    it s difficult to explain the charms of the film without revealing too much   the movie abounds with little revelations that subtly shape the characters   and in the end   each one is that much fuller and more understood by the time you leave the theater    it s one of those movies that only the french seem to make anymore   no big plot   no special effects   no gunplay   no tragic consequences   no forced examinations of the nature of love   and no insights into the nature of evil    just a warm   funny   endearing film that will charm the pants off of you    when was the last time you left a theater feeling all warm and fuzzy inside       shall we dance   will do that to you without any treacly aftertaste    ']\n",
      "y_train\n",
      "[1 1 1 1 1]\n"
     ]
    }
   ],
   "source": [
    "# split X and y\n",
    "train_docs['class'] = train_docs['class'].map({'Neg':0, 'Pos':1})\n",
    "\n",
    "train_array = train_docs.values\n",
    "\n",
    "X_train = train_array[:,1]\n",
    "y_train = train_array[:,0]\n",
    "y_train = y_train.astype('int') # sklearn needs y as integers\n",
    "\n",
    "print(\"X_train\")\n",
    "print(X_train[:5])\n",
    "print(\"y_train\")\n",
    "print(y_train[:5])"
   ]
  },
  {
   "cell_type": "code",
   "execution_count": 51,
   "id": "d780e4ed",
   "metadata": {},
   "outputs": [
    {
     "data": {
      "text/html": [
       "<div>\n",
       "<style scoped>\n",
       "    .dataframe tbody tr th:only-of-type {\n",
       "        vertical-align: middle;\n",
       "    }\n",
       "\n",
       "    .dataframe tbody tr th {\n",
       "        vertical-align: top;\n",
       "    }\n",
       "\n",
       "    .dataframe thead th {\n",
       "        text-align: right;\n",
       "    }\n",
       "</style>\n",
       "<table border=\"1\" class=\"dataframe\">\n",
       "  <thead>\n",
       "    <tr style=\"text-align: right;\">\n",
       "      <th></th>\n",
       "      <th>class</th>\n",
       "      <th>text</th>\n",
       "    </tr>\n",
       "  </thead>\n",
       "  <tbody>\n",
       "    <tr>\n",
       "      <th>0</th>\n",
       "      <td>1</td>\n",
       "      <td>a common complaint amongst film critics is   ...</td>\n",
       "    </tr>\n",
       "    <tr>\n",
       "      <th>1</th>\n",
       "      <td>1</td>\n",
       "      <td>whew   this film oozes energy   the kind of b...</td>\n",
       "    </tr>\n",
       "    <tr>\n",
       "      <th>2</th>\n",
       "      <td>1</td>\n",
       "      <td>steven spielberg s   amistad     which is bas...</td>\n",
       "    </tr>\n",
       "    <tr>\n",
       "      <th>3</th>\n",
       "      <td>1</td>\n",
       "      <td>he has spent his entire life in an awful litt...</td>\n",
       "    </tr>\n",
       "    <tr>\n",
       "      <th>4</th>\n",
       "      <td>1</td>\n",
       "      <td>being that it is a foreign language film with...</td>\n",
       "    </tr>\n",
       "  </tbody>\n",
       "</table>\n",
       "</div>"
      ],
      "text/plain": [
       "   class                                               text\n",
       "0      1   a common complaint amongst film critics is   ...\n",
       "1      1   whew   this film oozes energy   the kind of b...\n",
       "2      1   steven spielberg s   amistad     which is bas...\n",
       "3      1   he has spent his entire life in an awful litt...\n",
       "4      1   being that it is a foreign language film with..."
      ]
     },
     "execution_count": 51,
     "metadata": {},
     "output_type": "execute_result"
    }
   ],
   "source": [
    "train_docs.head()"
   ]
  },
  {
   "cell_type": "code",
   "execution_count": 52,
   "id": "ab8471b3",
   "metadata": {},
   "outputs": [
    {
     "data": {
      "text/plain": [
       "35858"
      ]
     },
     "execution_count": 52,
     "metadata": {},
     "output_type": "execute_result"
    }
   ],
   "source": [
    "# create an object of CountVectorizer() class \n",
    "from sklearn.feature_extraction.text import CountVectorizer \n",
    "# help(CountVectorizer)\n",
    "vec = CountVectorizer(stop_words='english')\n",
    "vec.fit(X_train)\n",
    "len(vec.vocabulary_)\n"
   ]
  },
  {
   "cell_type": "code",
   "execution_count": 53,
   "id": "c8d80bdf",
   "metadata": {},
   "outputs": [
    {
     "data": {
      "text/plain": [
       "1643"
      ]
     },
     "execution_count": 53,
     "metadata": {},
     "output_type": "execute_result"
    }
   ],
   "source": [
    "vec = CountVectorizer(stop_words='english', min_df=.03, max_df=.8)\n",
    "vec.fit(X_train)\n",
    "len(vec.vocabulary_)"
   ]
  },
  {
   "cell_type": "code",
   "execution_count": 60,
   "id": "589a36f7",
   "metadata": {},
   "outputs": [],
   "source": [
    "test_docs = pd.read_csv('movie_review_test.csv') \n",
    "test_docs['class'] = test_docs['class'].map({'Neg':0, 'Pos':1})\n",
    "\n",
    "test_array = test_docs.values\n",
    "\n",
    "X_test = test_array[:,1]\n",
    "y_test = test_array[:,0]\n",
    "y_test = y_test.astype('int') # sklearn needs y as integers\n"
   ]
  },
  {
   "cell_type": "code",
   "execution_count": 61,
   "id": "6bb686cd",
   "metadata": {},
   "outputs": [
    {
     "data": {
      "text/plain": [
       "1643"
      ]
     },
     "execution_count": 61,
     "metadata": {},
     "output_type": "execute_result"
    }
   ],
   "source": [
    "X_train_transformed = vec.transform(X_train)\n",
    "X_test_transformed = vec.transform(X_test)\n",
    "len(vec.vocabulary_)"
   ]
  },
  {
   "cell_type": "code",
   "execution_count": 56,
   "id": "b37daf07",
   "metadata": {},
   "outputs": [
    {
     "data": {
      "text/plain": [
       "<1600x1643 sparse matrix of type '<class 'numpy.int64'>'\n",
       "\twith 217396 stored elements in Compressed Sparse Row format>"
      ]
     },
     "execution_count": 56,
     "metadata": {},
     "output_type": "execute_result"
    }
   ],
   "source": [
    "X_train_transformed"
   ]
  },
  {
   "cell_type": "code",
   "execution_count": 57,
   "id": "b389670f",
   "metadata": {},
   "outputs": [
    {
     "data": {
      "text/plain": [
       "<400x1643 sparse matrix of type '<class 'numpy.int64'>'\n",
       "\twith 51663 stored elements in Compressed Sparse Row format>"
      ]
     },
     "execution_count": 57,
     "metadata": {},
     "output_type": "execute_result"
    }
   ],
   "source": [
    "X_test_transformed"
   ]
  },
  {
   "cell_type": "code",
   "execution_count": 58,
   "id": "88525a25",
   "metadata": {},
   "outputs": [
    {
     "data": {
      "text/plain": [
       "array([1, 1, 1, 1, 1])"
      ]
     },
     "execution_count": 58,
     "metadata": {},
     "output_type": "execute_result"
    }
   ],
   "source": [
    "y_train[:5]"
   ]
  },
  {
   "cell_type": "code",
   "execution_count": 63,
   "id": "c8397f37",
   "metadata": {},
   "outputs": [],
   "source": [
    "# Bernoulli Naive Bayes\n",
    "from sklearn.naive_bayes import BernoulliNB\n",
    "\n",
    "# instantiate bernoulli NB object\n",
    "bnb = BernoulliNB()\n",
    "\n",
    "# fit \n",
    "bnb.fit(X_train_transformed.toarray(),y_train)\n",
    "\n",
    "# predict class\n",
    "y_pred_class = bnb.predict(X_test_transformed)\n",
    "\n",
    "# predict probability\n",
    "y_pred_proba =bnb.predict_proba(X_test_transformed)\n"
   ]
  },
  {
   "cell_type": "code",
   "execution_count": 64,
   "id": "d7bdbaff",
   "metadata": {},
   "outputs": [
    {
     "data": {
      "text/plain": [
       "0.79"
      ]
     },
     "execution_count": 64,
     "metadata": {},
     "output_type": "execute_result"
    }
   ],
   "source": [
    "# accuracy\n",
    "from sklearn import metrics\n",
    "metrics.accuracy_score(y_test, y_pred_class)"
   ]
  },
  {
   "cell_type": "code",
   "execution_count": 65,
   "id": "77ea60bc",
   "metadata": {},
   "outputs": [
    {
     "data": {
      "text/plain": [
       "array([[177,  23],\n",
       "       [ 61, 139]])"
      ]
     },
     "execution_count": 65,
     "metadata": {},
     "output_type": "execute_result"
    }
   ],
   "source": [
    "metrics.confusion_matrix(y_test, y_pred_class)"
   ]
  },
  {
   "cell_type": "code",
   "execution_count": 67,
   "id": "d33c6b9d",
   "metadata": {},
   "outputs": [
    {
     "name": "stdout",
     "output_type": "stream",
     "text": [
      "sensitivity 0.695\n"
     ]
    }
   ],
   "source": [
    "sensitivity = TP / float(FN + TP)\n",
    "print(\"sensitivity\",sensitivity)"
   ]
  },
  {
   "cell_type": "code",
   "execution_count": 68,
   "id": "b7a6949e",
   "metadata": {},
   "outputs": [
    {
     "name": "stdout",
     "output_type": "stream",
     "text": [
      "specificity 0.885\n"
     ]
    }
   ],
   "source": [
    "specificity = TN / float(TN + FP)\n",
    "\n",
    "print(\"specificity\",specificity)"
   ]
  }
 ],
 "metadata": {
  "kernelspec": {
   "display_name": "Python 3",
   "language": "python",
   "name": "python3"
  },
  "language_info": {
   "codemirror_mode": {
    "name": "ipython",
    "version": 3
   },
   "file_extension": ".py",
   "mimetype": "text/x-python",
   "name": "python",
   "nbconvert_exporter": "python",
   "pygments_lexer": "ipython3",
   "version": "3.6.9"
  }
 },
 "nbformat": 4,
 "nbformat_minor": 5
}
