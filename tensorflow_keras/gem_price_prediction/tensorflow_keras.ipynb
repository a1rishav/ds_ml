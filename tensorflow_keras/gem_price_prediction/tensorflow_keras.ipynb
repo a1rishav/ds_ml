{
 "cells": [
  {
   "cell_type": "markdown",
   "id": "3c6917de",
   "metadata": {},
   "source": [
    "## Gem Price Prediction (NN implementation of regression)"
   ]
  },
  {
   "cell_type": "code",
   "execution_count": 2,
   "id": "34f14222",
   "metadata": {},
   "outputs": [],
   "source": [
    "import sys\n",
    "sys.path.append(\"/media/data/anaconda3/envs/upgrad/lib/python3.8/site-packages/\")"
   ]
  },
  {
   "cell_type": "code",
   "execution_count": 3,
   "id": "b77d8e96",
   "metadata": {},
   "outputs": [],
   "source": [
    "import warnings\n",
    "warnings.filterwarnings('ignore')"
   ]
  },
  {
   "cell_type": "code",
   "execution_count": 3,
   "id": "b6efe37c",
   "metadata": {},
   "outputs": [
    {
     "name": "stdout",
     "output_type": "stream",
     "text": [
      "Requirement already satisfied: pip in /media/data/anaconda3/envs/ml_pneumonia_3.6/lib/python3.6/site-packages (21.1.2)\n",
      "Collecting pip\n",
      "  Downloading pip-21.2.4-py3-none-any.whl (1.6 MB)\n",
      "\u001b[K     |████████████████████████████████| 1.6 MB 1.4 MB/s eta 0:00:01\n",
      "\u001b[?25hInstalling collected packages: pip\n",
      "  Attempting uninstall: pip\n",
      "    Found existing installation: pip 21.1.2\n",
      "    Uninstalling pip-21.1.2:\n",
      "      Successfully uninstalled pip-21.1.2\n",
      "Successfully installed pip-21.2.4\n",
      "Note: you may need to restart the kernel to use updated packages.\n",
      "Collecting tensorflow==2.6\n",
      "  Downloading tensorflow-2.6.0-cp36-cp36m-manylinux2010_x86_64.whl (458.3 MB)\n",
      "\u001b[K     |████████████████████████████████| 458.3 MB 52 kB/s  eta 0:00:011     |████████▎                       | 118.9 MB 10.8 MB/s eta 0:00:32     |████████████▊                   | 182.5 MB 8.8 MB/s eta 0:00:32     |███████████████████████████▍    | 392.9 MB 12.6 MB/s eta 0:00:06     |███████████████████████████▊    | 396.5 MB 14.4 MB/s eta 0:00:05     |██████████████████████████████  | 428.1 MB 9.9 MB/s eta 0:00:04\n",
      "\u001b[?25hRequirement already satisfied: six~=1.15.0 in /media/data/anaconda3/envs/ml_pneumonia_3.6/lib/python3.6/site-packages (from tensorflow==2.6) (1.15.0)\n",
      "Requirement already satisfied: google-pasta~=0.2 in /media/data/anaconda3/envs/ml_pneumonia_3.6/lib/python3.6/site-packages (from tensorflow==2.6) (0.2.0)\n",
      "Collecting tensorboard~=2.6\n",
      "  Using cached tensorboard-2.6.0-py3-none-any.whl (5.6 MB)\n",
      "Requirement already satisfied: keras-preprocessing~=1.1.2 in /media/data/anaconda3/envs/ml_pneumonia_3.6/lib/python3.6/site-packages (from tensorflow==2.6) (1.1.2)\n",
      "Requirement already satisfied: absl-py~=0.10 in /media/data/anaconda3/envs/ml_pneumonia_3.6/lib/python3.6/site-packages (from tensorflow==2.6) (0.13.0)\n",
      "Requirement already satisfied: astunparse~=1.6.3 in /media/data/anaconda3/envs/ml_pneumonia_3.6/lib/python3.6/site-packages (from tensorflow==2.6) (1.6.3)\n",
      "Requirement already satisfied: wrapt~=1.12.1 in /media/data/anaconda3/envs/ml_pneumonia_3.6/lib/python3.6/site-packages (from tensorflow==2.6) (1.12.1)\n",
      "Requirement already satisfied: typing-extensions~=3.7.4 in /media/data/anaconda3/envs/ml_pneumonia_3.6/lib/python3.6/site-packages (from tensorflow==2.6) (3.7.4.3)\n",
      "Requirement already satisfied: gast==0.4.0 in /media/data/anaconda3/envs/ml_pneumonia_3.6/lib/python3.6/site-packages (from tensorflow==2.6) (0.4.0)\n",
      "Requirement already satisfied: h5py~=3.1.0 in /media/data/anaconda3/envs/ml_pneumonia_3.6/lib/python3.6/site-packages (from tensorflow==2.6) (3.1.0)\n",
      "Collecting tensorflow-estimator~=2.6\n",
      "  Using cached tensorflow_estimator-2.6.0-py2.py3-none-any.whl (462 kB)\n",
      "Collecting numpy~=1.19.2\n",
      "  Using cached numpy-1.19.5-cp36-cp36m-manylinux2010_x86_64.whl (14.8 MB)\n",
      "Requirement already satisfied: opt-einsum~=3.3.0 in /media/data/anaconda3/envs/ml_pneumonia_3.6/lib/python3.6/site-packages (from tensorflow==2.6) (3.3.0)\n",
      "Requirement already satisfied: protobuf>=3.9.2 in /media/data/anaconda3/envs/ml_pneumonia_3.6/lib/python3.6/site-packages (from tensorflow==2.6) (3.9.2)\n",
      "Collecting keras~=2.6\n",
      "  Using cached keras-2.6.0-py2.py3-none-any.whl (1.3 MB)\n",
      "Requirement already satisfied: wheel~=0.35 in /media/data/anaconda3/envs/ml_pneumonia_3.6/lib/python3.6/site-packages (from tensorflow==2.6) (0.36.2)\n",
      "Requirement already satisfied: flatbuffers~=1.12.0 in /media/data/anaconda3/envs/ml_pneumonia_3.6/lib/python3.6/site-packages (from tensorflow==2.6) (1.12)\n",
      "Collecting grpcio<2.0,>=1.37.0\n",
      "  Downloading grpcio-1.39.0-cp36-cp36m-manylinux2014_x86_64.whl (4.3 MB)\n",
      "\u001b[K     |████████████████████████████████| 4.3 MB 13.6 MB/s eta 0:00:01\n",
      "\u001b[?25hCollecting clang~=5.0\n",
      "  Using cached clang-5.0.tar.gz (30 kB)\n",
      "Requirement already satisfied: termcolor~=1.1.0 in /media/data/anaconda3/envs/ml_pneumonia_3.6/lib/python3.6/site-packages (from tensorflow==2.6) (1.1.0)\n",
      "Requirement already satisfied: cached-property in /media/data/anaconda3/envs/ml_pneumonia_3.6/lib/python3.6/site-packages (from h5py~=3.1.0->tensorflow==2.6) (1.5.2)\n",
      "Requirement already satisfied: setuptools in /home/rishav/.local/lib/python3.6/site-packages (from protobuf>=3.9.2->tensorflow==2.6) (41.2.0)\n",
      "Requirement already satisfied: werkzeug>=0.11.15 in /home/rishav/.local/lib/python3.6/site-packages (from tensorboard~=2.6->tensorflow==2.6) (0.15.4)\n",
      "Requirement already satisfied: tensorboard-data-server<0.7.0,>=0.6.0 in /media/data/anaconda3/envs/ml_pneumonia_3.6/lib/python3.6/site-packages (from tensorboard~=2.6->tensorflow==2.6) (0.6.1)\n",
      "Requirement already satisfied: tensorboard-plugin-wit>=1.6.0 in /media/data/anaconda3/envs/ml_pneumonia_3.6/lib/python3.6/site-packages (from tensorboard~=2.6->tensorflow==2.6) (1.8.0)\n",
      "Requirement already satisfied: google-auth<2,>=1.6.3 in /media/data/anaconda3/envs/ml_pneumonia_3.6/lib/python3.6/site-packages (from tensorboard~=2.6->tensorflow==2.6) (1.31.0)\n",
      "Requirement already satisfied: requests<3,>=2.21.0 in /home/rishav/.local/lib/python3.6/site-packages (from tensorboard~=2.6->tensorflow==2.6) (2.22.0)\n",
      "Requirement already satisfied: markdown>=2.6.8 in /media/data/anaconda3/envs/ml_pneumonia_3.6/lib/python3.6/site-packages (from tensorboard~=2.6->tensorflow==2.6) (3.1.1)\n",
      "Requirement already satisfied: google-auth-oauthlib<0.5,>=0.4.1 in /media/data/anaconda3/envs/ml_pneumonia_3.6/lib/python3.6/site-packages (from tensorboard~=2.6->tensorflow==2.6) (0.4.4)\n",
      "Requirement already satisfied: rsa<5,>=3.1.4 in /media/data/anaconda3/envs/ml_pneumonia_3.6/lib/python3.6/site-packages (from google-auth<2,>=1.6.3->tensorboard~=2.6->tensorflow==2.6) (4.7.2)\n",
      "Requirement already satisfied: pyasn1-modules>=0.2.1 in /media/data/anaconda3/envs/ml_pneumonia_3.6/lib/python3.6/site-packages (from google-auth<2,>=1.6.3->tensorboard~=2.6->tensorflow==2.6) (0.2.8)\n",
      "Requirement already satisfied: cachetools<5.0,>=2.0.0 in /media/data/anaconda3/envs/ml_pneumonia_3.6/lib/python3.6/site-packages (from google-auth<2,>=1.6.3->tensorboard~=2.6->tensorflow==2.6) (4.2.2)\n",
      "Requirement already satisfied: requests-oauthlib>=0.7.0 in /media/data/anaconda3/envs/ml_pneumonia_3.6/lib/python3.6/site-packages (from google-auth-oauthlib<0.5,>=0.4.1->tensorboard~=2.6->tensorflow==2.6) (1.3.0)\n",
      "Requirement already satisfied: pyasn1<0.5.0,>=0.4.6 in /media/data/anaconda3/envs/ml_pneumonia_3.6/lib/python3.6/site-packages (from pyasn1-modules>=0.2.1->google-auth<2,>=1.6.3->tensorboard~=2.6->tensorflow==2.6) (0.4.8)\n",
      "Requirement already satisfied: chardet<3.1.0,>=3.0.2 in /home/rishav/.local/lib/python3.6/site-packages (from requests<3,>=2.21.0->tensorboard~=2.6->tensorflow==2.6) (3.0.4)\n",
      "Requirement already satisfied: certifi>=2017.4.17 in /home/rishav/.local/lib/python3.6/site-packages (from requests<3,>=2.21.0->tensorboard~=2.6->tensorflow==2.6) (2019.6.16)\n",
      "Requirement already satisfied: idna<2.9,>=2.5 in /home/rishav/.local/lib/python3.6/site-packages (from requests<3,>=2.21.0->tensorboard~=2.6->tensorflow==2.6) (2.8)\n",
      "Requirement already satisfied: urllib3!=1.25.0,!=1.25.1,<1.26,>=1.21.1 in /home/rishav/.local/lib/python3.6/site-packages (from requests<3,>=2.21.0->tensorboard~=2.6->tensorflow==2.6) (1.25.3)\n",
      "Requirement already satisfied: oauthlib>=3.0.0 in /media/data/anaconda3/envs/ml_pneumonia_3.6/lib/python3.6/site-packages (from requests-oauthlib>=0.7.0->google-auth-oauthlib<0.5,>=0.4.1->tensorboard~=2.6->tensorflow==2.6) (3.1.1)\n",
      "Building wheels for collected packages: clang\n",
      "  Building wheel for clang (setup.py) ... \u001b[?25ldone\n",
      "\u001b[?25h  Created wheel for clang: filename=clang-5.0-py3-none-any.whl size=30702 sha256=175fbe13cb0b8051e2af1ca543708e891052c8bd0b5d7b4738c81dcc3cfbb33e\n",
      "  Stored in directory: /home/rishav/.cache/pip/wheels/22/4c/94/0583f60c9c5b6024ed64f290cb2d43b06bb4f75577dc3c93a7\n",
      "Successfully built clang\n",
      "Installing collected packages: numpy, grpcio, tensorflow-estimator, tensorboard, keras, clang, tensorflow\n",
      "  Attempting uninstall: numpy\n",
      "    Found existing installation: numpy 1.16.4\n",
      "    Uninstalling numpy-1.16.4:\n",
      "      Successfully uninstalled numpy-1.16.4\n",
      "  Attempting uninstall: grpcio\n",
      "    Found existing installation: grpcio 1.34.1\n",
      "    Uninstalling grpcio-1.34.1:\n",
      "      Successfully uninstalled grpcio-1.34.1\n",
      "  Attempting uninstall: tensorflow-estimator\n",
      "    Found existing installation: tensorflow-estimator 2.5.0\n"
     ]
    },
    {
     "name": "stdout",
     "output_type": "stream",
     "text": [
      "    Uninstalling tensorflow-estimator-2.5.0:\n",
      "      Successfully uninstalled tensorflow-estimator-2.5.0\n",
      "  Attempting uninstall: tensorboard\n",
      "    Found existing installation: tensorboard 2.5.0\n",
      "    Uninstalling tensorboard-2.5.0:\n",
      "      Successfully uninstalled tensorboard-2.5.0\n",
      "  Attempting uninstall: keras\n",
      "    Found existing installation: Keras 2.3.0\n",
      "    Uninstalling Keras-2.3.0:\n",
      "      Successfully uninstalled Keras-2.3.0\n",
      "  Attempting uninstall: tensorflow\n",
      "    Found existing installation: tensorflow 2.5.0\n",
      "    Uninstalling tensorflow-2.5.0:\n",
      "      Successfully uninstalled tensorflow-2.5.0\n",
      "Successfully installed clang-5.0 grpcio-1.39.0 keras-2.6.0 numpy-1.19.5 tensorboard-2.6.0 tensorflow-2.6.0 tensorflow-estimator-2.6.0\n",
      "Note: you may need to restart the kernel to use updated packages.\n"
     ]
    }
   ],
   "source": [
    "# %pip install --upgrade pip\n",
    "# %pip install tensorflow==2.6\n",
    "# restart kernel"
   ]
  },
  {
   "cell_type": "code",
   "execution_count": 4,
   "id": "8deb6c96",
   "metadata": {},
   "outputs": [
    {
     "name": "stdout",
     "output_type": "stream",
     "text": [
      "tensorflow==2.6.0\n",
      "tensorflow-estimator==2.6.0\n",
      "Note: you may need to restart the kernel to use updated packages.\n"
     ]
    }
   ],
   "source": [
    "%pip freeze | grep tensorflow"
   ]
  },
  {
   "cell_type": "code",
   "execution_count": 1,
   "id": "c94aac25",
   "metadata": {},
   "outputs": [
    {
     "ename": "ModuleNotFoundError",
     "evalue": "No module named 'seaborn'",
     "output_type": "error",
     "traceback": [
      "\u001b[0;31m---------------------------------------------------------------------------\u001b[0m",
      "\u001b[0;31mModuleNotFoundError\u001b[0m                       Traceback (most recent call last)",
      "\u001b[0;32m<ipython-input-1-6bd77c65cac8>\u001b[0m in \u001b[0;36m<module>\u001b[0;34m\u001b[0m\n\u001b[1;32m      1\u001b[0m \u001b[0;32mimport\u001b[0m \u001b[0mpandas\u001b[0m \u001b[0;32mas\u001b[0m \u001b[0mpd\u001b[0m\u001b[0;34m\u001b[0m\u001b[0;34m\u001b[0m\u001b[0m\n\u001b[1;32m      2\u001b[0m \u001b[0;32mimport\u001b[0m \u001b[0mnumpy\u001b[0m \u001b[0;32mas\u001b[0m \u001b[0mnp\u001b[0m\u001b[0;34m\u001b[0m\u001b[0;34m\u001b[0m\u001b[0m\n\u001b[0;32m----> 3\u001b[0;31m \u001b[0;32mimport\u001b[0m \u001b[0mseaborn\u001b[0m \u001b[0;32mas\u001b[0m \u001b[0msns\u001b[0m\u001b[0;34m\u001b[0m\u001b[0;34m\u001b[0m\u001b[0m\n\u001b[0m\u001b[1;32m      4\u001b[0m \u001b[0;32mimport\u001b[0m \u001b[0msklearn\u001b[0m\u001b[0;34m\u001b[0m\u001b[0;34m\u001b[0m\u001b[0m\n\u001b[1;32m      5\u001b[0m \u001b[0;32mimport\u001b[0m \u001b[0mtensorflow\u001b[0m \u001b[0;32mas\u001b[0m \u001b[0mtf\u001b[0m\u001b[0;34m\u001b[0m\u001b[0;34m\u001b[0m\u001b[0m\n",
      "\u001b[0;31mModuleNotFoundError\u001b[0m: No module named 'seaborn'"
     ]
    }
   ],
   "source": [
    "import pandas as pd\n",
    "import numpy as np\n",
    "import seaborn as sns\n",
    "import sklearn\n",
    "import tensorflow as tf"
   ]
  },
  {
   "cell_type": "code",
   "execution_count": 7,
   "id": "7dcb2f8c",
   "metadata": {},
   "outputs": [
    {
     "data": {
      "text/plain": [
       "'2.5.0'"
      ]
     },
     "execution_count": 7,
     "metadata": {},
     "output_type": "execute_result"
    }
   ],
   "source": [
    "tf.__version__"
   ]
  },
  {
   "cell_type": "code",
   "execution_count": 8,
   "id": "0dd8da33",
   "metadata": {},
   "outputs": [],
   "source": [
    "import warnings\n",
    "warnings.filterwarnings('ignore')"
   ]
  },
  {
   "cell_type": "code",
   "execution_count": 9,
   "id": "80dac855",
   "metadata": {},
   "outputs": [],
   "source": [
    "df = pd.read_csv(\"../data/fake_reg.csv\")"
   ]
  },
  {
   "cell_type": "markdown",
   "id": "a66c7cae",
   "metadata": {},
   "source": [
    "### Visualize"
   ]
  },
  {
   "cell_type": "code",
   "execution_count": 10,
   "id": "66070f3c",
   "metadata": {},
   "outputs": [
    {
     "data": {
      "text/html": [
       "<div>\n",
       "<style scoped>\n",
       "    .dataframe tbody tr th:only-of-type {\n",
       "        vertical-align: middle;\n",
       "    }\n",
       "\n",
       "    .dataframe tbody tr th {\n",
       "        vertical-align: top;\n",
       "    }\n",
       "\n",
       "    .dataframe thead th {\n",
       "        text-align: right;\n",
       "    }\n",
       "</style>\n",
       "<table border=\"1\" class=\"dataframe\">\n",
       "  <thead>\n",
       "    <tr style=\"text-align: right;\">\n",
       "      <th></th>\n",
       "      <th>price</th>\n",
       "      <th>feature1</th>\n",
       "      <th>feature2</th>\n",
       "    </tr>\n",
       "  </thead>\n",
       "  <tbody>\n",
       "    <tr>\n",
       "      <th>0</th>\n",
       "      <td>461.527929</td>\n",
       "      <td>999.787558</td>\n",
       "      <td>999.766096</td>\n",
       "    </tr>\n",
       "    <tr>\n",
       "      <th>1</th>\n",
       "      <td>548.130011</td>\n",
       "      <td>998.861615</td>\n",
       "      <td>1001.042403</td>\n",
       "    </tr>\n",
       "    <tr>\n",
       "      <th>2</th>\n",
       "      <td>410.297162</td>\n",
       "      <td>1000.070267</td>\n",
       "      <td>998.844015</td>\n",
       "    </tr>\n",
       "    <tr>\n",
       "      <th>3</th>\n",
       "      <td>540.382220</td>\n",
       "      <td>999.952251</td>\n",
       "      <td>1000.440940</td>\n",
       "    </tr>\n",
       "    <tr>\n",
       "      <th>4</th>\n",
       "      <td>546.024553</td>\n",
       "      <td>1000.446011</td>\n",
       "      <td>1000.338531</td>\n",
       "    </tr>\n",
       "  </tbody>\n",
       "</table>\n",
       "</div>"
      ],
      "text/plain": [
       "        price     feature1     feature2\n",
       "0  461.527929   999.787558   999.766096\n",
       "1  548.130011   998.861615  1001.042403\n",
       "2  410.297162  1000.070267   998.844015\n",
       "3  540.382220   999.952251  1000.440940\n",
       "4  546.024553  1000.446011  1000.338531"
      ]
     },
     "execution_count": 10,
     "metadata": {},
     "output_type": "execute_result"
    }
   ],
   "source": [
    "df.head()"
   ]
  },
  {
   "cell_type": "code",
   "execution_count": 11,
   "id": "b1e6830c",
   "metadata": {},
   "outputs": [
    {
     "data": {
      "text/plain": [
       "<seaborn.axisgrid.PairGrid at 0x7fb89b2f6390>"
      ]
     },
     "execution_count": 11,
     "metadata": {},
     "output_type": "execute_result"
    },
    {
     "data": {
      "image/png": "[encoded data removed]",
      "text/plain": [
       "<Figure size 540x540 with 12 Axes>"
      ]
     },
     "metadata": {
      "needs_background": "light"
     },
     "output_type": "display_data"
    }
   ],
   "source": [
    "sns.pairplot(df)"
   ]
  },
  {
   "cell_type": "markdown",
   "id": "323b8430",
   "metadata": {},
   "source": [
    "### Split data "
   ]
  },
  {
   "cell_type": "code",
   "execution_count": 12,
   "id": "8e8bd872",
   "metadata": {},
   "outputs": [],
   "source": [
    "from sklearn.model_selection import train_test_split"
   ]
  },
  {
   "cell_type": "code",
   "execution_count": 13,
   "id": "2d614df0",
   "metadata": {},
   "outputs": [],
   "source": [
    "X = df[['feature1', 'feature2']].values"
   ]
  },
  {
   "cell_type": "code",
   "execution_count": 14,
   "id": "4ed1fbcb",
   "metadata": {},
   "outputs": [],
   "source": [
    "y = df['price'].values"
   ]
  },
  {
   "cell_type": "code",
   "execution_count": 15,
   "id": "414def4f",
   "metadata": {},
   "outputs": [],
   "source": [
    "X_train, X_test, y_train, y_test = train_test_split(X, y, test_size=0.30, random_state=42)"
   ]
  },
  {
   "cell_type": "code",
   "execution_count": 16,
   "id": "bc936d7b",
   "metadata": {},
   "outputs": [
    {
     "data": {
      "text/plain": [
       "(700, 2)"
      ]
     },
     "execution_count": 16,
     "metadata": {},
     "output_type": "execute_result"
    }
   ],
   "source": [
    "X_train.shape"
   ]
  },
  {
   "cell_type": "code",
   "execution_count": 17,
   "id": "6f0deb15",
   "metadata": {},
   "outputs": [
    {
     "data": {
      "text/plain": [
       "(300, 2)"
      ]
     },
     "execution_count": 17,
     "metadata": {},
     "output_type": "execute_result"
    }
   ],
   "source": [
    "X_test.shape"
   ]
  },
  {
   "cell_type": "markdown",
   "id": "eb8db87a",
   "metadata": {},
   "source": [
    "### Transform data"
   ]
  },
  {
   "cell_type": "code",
   "execution_count": 18,
   "id": "0e0a1c65",
   "metadata": {},
   "outputs": [],
   "source": [
    "from sklearn.preprocessing import MinMaxScaler"
   ]
  },
  {
   "cell_type": "code",
   "execution_count": 19,
   "id": "aa534f95",
   "metadata": {},
   "outputs": [
    {
     "name": "stdout",
     "output_type": "stream",
     "text": [
      "Help on class MinMaxScaler in module sklearn.preprocessing.data:\n",
      "\n",
      "class MinMaxScaler(sklearn.base.BaseEstimator, sklearn.base.TransformerMixin)\n",
      " |  Transforms features by scaling each feature to a given range.\n",
      " |  \n",
      " |  This estimator scales and translates each feature individually such\n",
      " |  that it is in the given range on the training set, e.g. between\n",
      " |  zero and one.\n",
      " |  \n",
      " |  The transformation is given by::\n",
      " |  \n",
      " |      X_std = (X - X.min(axis=0)) / (X.max(axis=0) - X.min(axis=0))\n",
      " |      X_scaled = X_std * (max - min) + min\n",
      " |  \n",
      " |  where min, max = feature_range.\n",
      " |  \n",
      " |  The transformation is calculated as::\n",
      " |  \n",
      " |      X_scaled = scale * X + min - X.min(axis=0) * scale\n",
      " |      where scale = (max - min) / (X.max(axis=0) - X.min(axis=0))\n",
      " |  \n",
      " |  This transformation is often used as an alternative to zero mean,\n",
      " |  unit variance scaling.\n",
      " |  \n",
      " |  Read more in the :ref:`User Guide <preprocessing_scaler>`.\n",
      " |  \n",
      " |  Parameters\n",
      " |  ----------\n",
      " |  feature_range : tuple (min, max), default=(0, 1)\n",
      " |      Desired range of transformed data.\n",
      " |  \n",
      " |  copy : boolean, optional, default True\n",
      " |      Set to False to perform inplace row normalization and avoid a\n",
      " |      copy (if the input is already a numpy array).\n",
      " |  \n",
      " |  Attributes\n",
      " |  ----------\n",
      " |  min_ : ndarray, shape (n_features,)\n",
      " |      Per feature adjustment for minimum. Equivalent to\n",
      " |      ``min - X.min(axis=0) * self.scale_``\n",
      " |  \n",
      " |  scale_ : ndarray, shape (n_features,)\n",
      " |      Per feature relative scaling of the data. Equivalent to\n",
      " |      ``(max - min) / (X.max(axis=0) - X.min(axis=0))``\n",
      " |  \n",
      " |      .. versionadded:: 0.17\n",
      " |         *scale_* attribute.\n",
      " |  \n",
      " |  data_min_ : ndarray, shape (n_features,)\n",
      " |      Per feature minimum seen in the data\n",
      " |  \n",
      " |      .. versionadded:: 0.17\n",
      " |         *data_min_*\n",
      " |  \n",
      " |  data_max_ : ndarray, shape (n_features,)\n",
      " |      Per feature maximum seen in the data\n",
      " |  \n",
      " |      .. versionadded:: 0.17\n",
      " |         *data_max_*\n",
      " |  \n",
      " |  data_range_ : ndarray, shape (n_features,)\n",
      " |      Per feature range ``(data_max_ - data_min_)`` seen in the data\n",
      " |  \n",
      " |      .. versionadded:: 0.17\n",
      " |         *data_range_*\n",
      " |  \n",
      " |  Examples\n",
      " |  --------\n",
      " |  >>> from sklearn.preprocessing import MinMaxScaler\n",
      " |  >>> data = [[-1, 2], [-0.5, 6], [0, 10], [1, 18]]\n",
      " |  >>> scaler = MinMaxScaler()\n",
      " |  >>> print(scaler.fit(data))\n",
      " |  MinMaxScaler(copy=True, feature_range=(0, 1))\n",
      " |  >>> print(scaler.data_max_)\n",
      " |  [ 1. 18.]\n",
      " |  >>> print(scaler.transform(data))\n",
      " |  [[0.   0.  ]\n",
      " |   [0.25 0.25]\n",
      " |   [0.5  0.5 ]\n",
      " |   [1.   1.  ]]\n",
      " |  >>> print(scaler.transform([[2, 2]]))\n",
      " |  [[1.5 0. ]]\n",
      " |  \n",
      " |  See also\n",
      " |  --------\n",
      " |  minmax_scale: Equivalent function without the estimator API.\n",
      " |  \n",
      " |  Notes\n",
      " |  -----\n",
      " |  NaNs are treated as missing values: disregarded in fit, and maintained in\n",
      " |  transform.\n",
      " |  \n",
      " |  For a comparison of the different scalers, transformers, and normalizers,\n",
      " |  see :ref:`examples/preprocessing/plot_all_scaling.py\n",
      " |  <sphx_glr_auto_examples_preprocessing_plot_all_scaling.py>`.\n",
      " |  \n",
      " |  Method resolution order:\n",
      " |      MinMaxScaler\n",
      " |      sklearn.base.BaseEstimator\n",
      " |      sklearn.base.TransformerMixin\n",
      " |      builtins.object\n",
      " |  \n",
      " |  Methods defined here:\n",
      " |  \n",
      " |  __init__(self, feature_range=(0, 1), copy=True)\n",
      " |      Initialize self.  See help(type(self)) for accurate signature.\n",
      " |  \n",
      " |  fit(self, X, y=None)\n",
      " |      Compute the minimum and maximum to be used for later scaling.\n",
      " |      \n",
      " |      Parameters\n",
      " |      ----------\n",
      " |      X : array-like, shape [n_samples, n_features]\n",
      " |          The data used to compute the per-feature minimum and maximum\n",
      " |          used for later scaling along the features axis.\n",
      " |  \n",
      " |  inverse_transform(self, X)\n",
      " |      Undo the scaling of X according to feature_range.\n",
      " |      \n",
      " |      Parameters\n",
      " |      ----------\n",
      " |      X : array-like, shape [n_samples, n_features]\n",
      " |          Input data that will be transformed. It cannot be sparse.\n",
      " |  \n",
      " |  partial_fit(self, X, y=None)\n",
      " |      Online computation of min and max on X for later scaling.\n",
      " |      All of X is processed as a single batch. This is intended for cases\n",
      " |      when `fit` is not feasible due to very large number of `n_samples`\n",
      " |      or because X is read from a continuous stream.\n",
      " |      \n",
      " |      Parameters\n",
      " |      ----------\n",
      " |      X : array-like, shape [n_samples, n_features]\n",
      " |          The data used to compute the mean and standard deviation\n",
      " |          used for later scaling along the features axis.\n",
      " |      \n",
      " |      y\n",
      " |          Ignored\n",
      " |  \n",
      " |  transform(self, X)\n",
      " |      Scaling features of X according to feature_range.\n",
      " |      \n",
      " |      Parameters\n",
      " |      ----------\n",
      " |      X : array-like, shape [n_samples, n_features]\n",
      " |          Input data that will be transformed.\n",
      " |  \n",
      " |  ----------------------------------------------------------------------\n",
      " |  Methods inherited from sklearn.base.BaseEstimator:\n",
      " |  \n",
      " |  __getstate__(self)\n",
      " |  \n",
      " |  __repr__(self, N_CHAR_MAX=700)\n",
      " |      Return repr(self).\n",
      " |  \n",
      " |  __setstate__(self, state)\n",
      " |  \n",
      " |  get_params(self, deep=True)\n",
      " |      Get parameters for this estimator.\n",
      " |      \n",
      " |      Parameters\n",
      " |      ----------\n",
      " |      deep : boolean, optional\n",
      " |          If True, will return the parameters for this estimator and\n",
      " |          contained subobjects that are estimators.\n",
      " |      \n",
      " |      Returns\n",
      " |      -------\n",
      " |      params : mapping of string to any\n",
      " |          Parameter names mapped to their values.\n",
      " |  \n",
      " |  set_params(self, **params)\n",
      " |      Set the parameters of this estimator.\n",
      " |      \n",
      " |      The method works on simple estimators as well as on nested objects\n",
      " |      (such as pipelines). The latter have parameters of the form\n",
      " |      ``<component>__<parameter>`` so that it's possible to update each\n",
      " |      component of a nested object.\n",
      " |      \n",
      " |      Returns\n",
      " |      -------\n",
      " |      self\n",
      " |  \n",
      " |  ----------------------------------------------------------------------\n",
      " |  Data descriptors inherited from sklearn.base.BaseEstimator:\n",
      " |  \n",
      " |  __dict__\n",
      " |      dictionary for instance variables (if defined)\n",
      " |  \n",
      " |  __weakref__\n",
      " |      list of weak references to the object (if defined)\n",
      " |  \n",
      " |  ----------------------------------------------------------------------\n",
      " |  Methods inherited from sklearn.base.TransformerMixin:\n",
      " |  \n",
      " |  fit_transform(self, X, y=None, **fit_params)\n",
      " |      Fit to data, then transform it.\n",
      " |      \n",
      " |      Fits transformer to X and y with optional parameters fit_params\n",
      " |      and returns a transformed version of X.\n",
      " |      \n",
      " |      Parameters\n",
      " |      ----------\n",
      " |      X : numpy array of shape [n_samples, n_features]\n",
      " |          Training set.\n",
      " |      \n",
      " |      y : numpy array of shape [n_samples]\n",
      " |          Target values.\n",
      " |      \n",
      " |      Returns\n",
      " |      -------\n",
      " |      X_new : numpy array of shape [n_samples, n_features_new]\n",
      " |          Transformed array.\n",
      "\n"
     ]
    }
   ],
   "source": [
    "help(MinMaxScaler)"
   ]
  },
  {
   "cell_type": "code",
   "execution_count": 20,
   "id": "de72e9c9",
   "metadata": {},
   "outputs": [],
   "source": [
    "scaler = MinMaxScaler()"
   ]
  },
  {
   "cell_type": "code",
   "execution_count": 21,
   "id": "8296460d",
   "metadata": {},
   "outputs": [
    {
     "data": {
      "text/plain": [
       "MinMaxScaler(copy=True, feature_range=(0, 1))"
      ]
     },
     "execution_count": 21,
     "metadata": {},
     "output_type": "execute_result"
    }
   ],
   "source": [
    "scaler.fit(X_train)"
   ]
  },
  {
   "cell_type": "code",
   "execution_count": 22,
   "id": "4c864ee4",
   "metadata": {},
   "outputs": [],
   "source": [
    "X_train = scaler.transform(X_train)"
   ]
  },
  {
   "cell_type": "code",
   "execution_count": 23,
   "id": "de12cb3f",
   "metadata": {},
   "outputs": [],
   "source": [
    "X_test = scaler.transform(X_test)"
   ]
  },
  {
   "cell_type": "code",
   "execution_count": 24,
   "id": "1192812b",
   "metadata": {},
   "outputs": [
    {
     "data": {
      "text/plain": [
       "array([[0.74046017, 0.32583248],\n",
       "       [0.43166001, 0.2555088 ],\n",
       "       [0.18468554, 0.70500664],\n",
       "       ...,\n",
       "       [0.54913363, 0.79933822],\n",
       "       [0.2834197 , 0.38818708],\n",
       "       [0.56282703, 0.42371827]])"
      ]
     },
     "execution_count": 24,
     "metadata": {},
     "output_type": "execute_result"
    }
   ],
   "source": [
    "X_train"
   ]
  },
  {
   "cell_type": "code",
   "execution_count": 25,
   "id": "c7bc7a8e",
   "metadata": {},
   "outputs": [
    {
     "data": {
      "text/plain": [
       "(1.0, 0.0)"
      ]
     },
     "execution_count": 25,
     "metadata": {},
     "output_type": "execute_result"
    }
   ],
   "source": [
    "X_train.max(), X_train.min()"
   ]
  },
  {
   "cell_type": "markdown",
   "id": "9f60d24e",
   "metadata": {},
   "source": [
    "### Train a neural network"
   ]
  },
  {
   "cell_type": "code",
   "execution_count": 26,
   "id": "dac306ff",
   "metadata": {},
   "outputs": [],
   "source": [
    "from tensorflow.keras.models import Sequential\n",
    "from tensorflow.keras.layers import Dense"
   ]
  },
  {
   "cell_type": "code",
   "execution_count": 27,
   "id": "0cefe16b",
   "metadata": {},
   "outputs": [
    {
     "name": "stdout",
     "output_type": "stream",
     "text": [
      "2.5.0\n"
     ]
    }
   ],
   "source": [
    "import tensorflow as tf\n",
    "print(tf.__version__)"
   ]
  },
  {
   "cell_type": "code",
   "execution_count": 28,
   "id": "44409680",
   "metadata": {},
   "outputs": [],
   "source": [
    "model = Sequential()\n",
    "\n",
    "model.add(Dense(4, activation='relu'))\n",
    "model.add(Dense(4, activation='relu'))\n",
    "model.add(Dense(4, activation='relu'))\n",
    "\n",
    "model.add(Dense(1))\n",
    "          \n",
    "model.compile(optimizer='rmsprop', loss='mse') "
   ]
  },
  {
   "cell_type": "code",
   "execution_count": 29,
   "id": "920741d3",
   "metadata": {},
   "outputs": [
    {
     "name": "stdout",
     "output_type": "stream",
     "text": [
      "Epoch 1/250\n",
      "22/22 [==============================] - 2s 3ms/step - loss: 256554.7656\n",
      "Epoch 2/250\n",
      "22/22 [==============================] - 0s 2ms/step - loss: 256384.5938\n",
      "Epoch 3/250\n",
      "22/22 [==============================] - 0s 1ms/step - loss: 256203.0469\n",
      "Epoch 4/250\n",
      "22/22 [==============================] - 0s 2ms/step - loss: 255998.4531\n",
      "Epoch 5/250\n",
      "22/22 [==============================] - 0s 1ms/step - loss: 255770.5312\n",
      "Epoch 6/250\n",
      "22/22 [==============================] - 0s 1ms/step - loss: 255514.9219\n",
      "Epoch 7/250\n",
      "22/22 [==============================] - 0s 1ms/step - loss: 255232.7031\n",
      "Epoch 8/250\n",
      "22/22 [==============================] - 0s 2ms/step - loss: 254921.2969\n",
      "Epoch 9/250\n",
      "22/22 [==============================] - 0s 1ms/step - loss: 254580.1094\n",
      "Epoch 10/250\n",
      "22/22 [==============================] - 0s 1ms/step - loss: 254206.8281\n",
      "Epoch 11/250\n",
      "22/22 [==============================] - 0s 1ms/step - loss: 253798.8750\n",
      "Epoch 12/250\n",
      "22/22 [==============================] - 0s 2ms/step - loss: 253358.2344\n",
      "Epoch 13/250\n",
      "22/22 [==============================] - 0s 1ms/step - loss: 252881.6875\n",
      "Epoch 14/250\n",
      "22/22 [==============================] - 0s 1ms/step - loss: 252366.6562\n",
      "Epoch 15/250\n",
      "22/22 [==============================] - 0s 1ms/step - loss: 251812.5469\n",
      "Epoch 16/250\n",
      "22/22 [==============================] - 0s 1ms/step - loss: 251221.0469\n",
      "Epoch 17/250\n",
      "22/22 [==============================] - 0s 2ms/step - loss: 250596.0469\n",
      "Epoch 18/250\n",
      "22/22 [==============================] - 0s 1ms/step - loss: 249938.6094\n",
      "Epoch 19/250\n",
      "22/22 [==============================] - 0s 2ms/step - loss: 249241.9688\n",
      "Epoch 20/250\n",
      "22/22 [==============================] - 0s 1ms/step - loss: 248500.3594\n",
      "Epoch 21/250\n",
      "22/22 [==============================] - 0s 1ms/step - loss: 247707.9844\n",
      "Epoch 22/250\n",
      "22/22 [==============================] - 0s 1ms/step - loss: 246870.3281\n",
      "Epoch 23/250\n",
      "22/22 [==============================] - 0s 1ms/step - loss: 245971.4688\n",
      "Epoch 24/250\n",
      "22/22 [==============================] - 0s 1ms/step - loss: 245017.8906\n",
      "Epoch 25/250\n",
      "22/22 [==============================] - 0s 1ms/step - loss: 244011.1562\n",
      "Epoch 26/250\n",
      "22/22 [==============================] - 0s 1ms/step - loss: 242941.5312\n",
      "Epoch 27/250\n",
      "22/22 [==============================] - 0s 1ms/step - loss: 241807.6875\n",
      "Epoch 28/250\n",
      "22/22 [==============================] - 0s 2ms/step - loss: 240600.9844\n",
      "Epoch 29/250\n",
      "22/22 [==============================] - 0s 1ms/step - loss: 239321.1875\n",
      "Epoch 30/250\n",
      "22/22 [==============================] - 0s 1ms/step - loss: 237966.6562\n",
      "Epoch 31/250\n",
      "22/22 [==============================] - 0s 1ms/step - loss: 236536.0000\n",
      "Epoch 32/250\n",
      "22/22 [==============================] - 0s 1ms/step - loss: 235021.8906\n",
      "Epoch 33/250\n",
      "22/22 [==============================] - 0s 1ms/step - loss: 233420.8906\n",
      "Epoch 34/250\n",
      "22/22 [==============================] - 0s 2ms/step - loss: 231742.0625\n",
      "Epoch 35/250\n",
      "22/22 [==============================] - 0s 1ms/step - loss: 229975.7656\n",
      "Epoch 36/250\n",
      "22/22 [==============================] - 0s 1ms/step - loss: 228112.7812\n",
      "Epoch 37/250\n",
      "22/22 [==============================] - 0s 1ms/step - loss: 226159.6094\n",
      "Epoch 38/250\n",
      "22/22 [==============================] - 0s 1ms/step - loss: 224113.5312\n",
      "Epoch 39/250\n",
      "22/22 [==============================] - 0s 1ms/step - loss: 221965.6406\n",
      "Epoch 40/250\n",
      "22/22 [==============================] - 0s 1ms/step - loss: 219725.4219\n",
      "Epoch 41/250\n",
      "22/22 [==============================] - 0s 1ms/step - loss: 217380.0000\n",
      "Epoch 42/250\n",
      "22/22 [==============================] - 0s 2ms/step - loss: 214931.7031\n",
      "Epoch 43/250\n",
      "22/22 [==============================] - 0s 1ms/step - loss: 212362.7188\n",
      "Epoch 44/250\n",
      "22/22 [==============================] - 0s 1ms/step - loss: 209706.2188\n",
      "Epoch 45/250\n",
      "22/22 [==============================] - 0s 2ms/step - loss: 206941.0469\n",
      "Epoch 46/250\n",
      "22/22 [==============================] - 0s 1ms/step - loss: 204063.9062\n",
      "Epoch 47/250\n",
      "22/22 [==============================] - 0s 2ms/step - loss: 201094.3750\n",
      "Epoch 48/250\n",
      "22/22 [==============================] - 0s 1ms/step - loss: 198016.5312\n",
      "Epoch 49/250\n",
      "22/22 [==============================] - 0s 1ms/step - loss: 194799.5156\n",
      "Epoch 50/250\n",
      "22/22 [==============================] - 0s 1ms/step - loss: 191479.4219\n",
      "Epoch 51/250\n",
      "22/22 [==============================] - 0s 1ms/step - loss: 188042.4062\n",
      "Epoch 52/250\n",
      "22/22 [==============================] - 0s 2ms/step - loss: 184493.1719\n",
      "Epoch 53/250\n",
      "22/22 [==============================] - 0s 1ms/step - loss: 180832.7969\n",
      "Epoch 54/250\n",
      "22/22 [==============================] - 0s 1ms/step - loss: 177063.4375\n",
      "Epoch 55/250\n",
      "22/22 [==============================] - 0s 2ms/step - loss: 173175.1406\n",
      "Epoch 56/250\n",
      "22/22 [==============================] - 0s 1ms/step - loss: 169179.0000\n",
      "Epoch 57/250\n",
      "22/22 [==============================] - 0s 1ms/step - loss: 165065.8125\n",
      "Epoch 58/250\n",
      "22/22 [==============================] - 0s 1ms/step - loss: 160857.4688\n",
      "Epoch 59/250\n",
      "22/22 [==============================] - 0s 1ms/step - loss: 156545.8438\n",
      "Epoch 60/250\n",
      "22/22 [==============================] - 0s 2ms/step - loss: 152130.5000\n",
      "Epoch 61/250\n",
      "22/22 [==============================] - 0s 2ms/step - loss: 147633.4219\n",
      "Epoch 62/250\n",
      "22/22 [==============================] - 0s 2ms/step - loss: 143042.0312\n",
      "Epoch 63/250\n",
      "22/22 [==============================] - 0s 2ms/step - loss: 138341.2188\n",
      "Epoch 64/250\n",
      "22/22 [==============================] - 0s 2ms/step - loss: 133540.7500\n",
      "Epoch 65/250\n",
      "22/22 [==============================] - 0s 1ms/step - loss: 128670.4453\n",
      "Epoch 66/250\n",
      "22/22 [==============================] - 0s 2ms/step - loss: 123719.6797\n",
      "Epoch 67/250\n",
      "22/22 [==============================] - 0s 2ms/step - loss: 118717.6484\n",
      "Epoch 68/250\n",
      "22/22 [==============================] - 0s 1ms/step - loss: 113663.4375\n",
      "Epoch 69/250\n",
      "22/22 [==============================] - 0s 1ms/step - loss: 108530.9844\n",
      "Epoch 70/250\n",
      "22/22 [==============================] - 0s 1ms/step - loss: 103363.2891\n",
      "Epoch 71/250\n",
      "22/22 [==============================] - 0s 1ms/step - loss: 98148.9375\n",
      "Epoch 72/250\n",
      "22/22 [==============================] - 0s 1ms/step - loss: 92936.4375\n",
      "Epoch 73/250\n",
      "22/22 [==============================] - 0s 1ms/step - loss: 87672.6562\n",
      "Epoch 74/250\n",
      "22/22 [==============================] - 0s 1ms/step - loss: 82455.4375\n",
      "Epoch 75/250\n",
      "22/22 [==============================] - 0s 1ms/step - loss: 77240.8672\n",
      "Epoch 76/250\n",
      "22/22 [==============================] - 0s 1ms/step - loss: 72014.2500\n",
      "Epoch 77/250\n",
      "22/22 [==============================] - 0s 1ms/step - loss: 66829.4141\n",
      "Epoch 78/250\n",
      "22/22 [==============================] - 0s 1ms/step - loss: 61703.8398\n",
      "Epoch 79/250\n",
      "22/22 [==============================] - 0s 1ms/step - loss: 56666.6641\n",
      "Epoch 80/250\n",
      "22/22 [==============================] - 0s 1ms/step - loss: 51719.4336\n",
      "Epoch 81/250\n",
      "22/22 [==============================] - 0s 1ms/step - loss: 46856.4805\n",
      "Epoch 82/250\n",
      "22/22 [==============================] - 0s 1ms/step - loss: 42148.4844\n",
      "Epoch 83/250\n",
      "22/22 [==============================] - 0s 1ms/step - loss: 37547.2070\n",
      "Epoch 84/250\n",
      "22/22 [==============================] - 0s 1ms/step - loss: 33125.0039\n",
      "Epoch 85/250\n",
      "22/22 [==============================] - 0s 1ms/step - loss: 28906.6855\n",
      "Epoch 86/250\n",
      "22/22 [==============================] - 0s 1ms/step - loss: 24879.6113\n",
      "Epoch 87/250\n",
      "22/22 [==============================] - 0s 1ms/step - loss: 21107.8027\n",
      "Epoch 88/250\n",
      "22/22 [==============================] - 0s 2ms/step - loss: 17581.3066\n",
      "Epoch 89/250\n",
      "22/22 [==============================] - 0s 2ms/step - loss: 14370.7461\n",
      "Epoch 90/250\n",
      "22/22 [==============================] - 0s 1ms/step - loss: 11478.9951\n",
      "Epoch 91/250\n",
      "22/22 [==============================] - 0s 1ms/step - loss: 8931.1025\n",
      "Epoch 92/250\n",
      "22/22 [==============================] - 0s 2ms/step - loss: 6751.4487\n",
      "Epoch 93/250\n",
      "22/22 [==============================] - 0s 981us/step - loss: 4978.4580\n",
      "Epoch 94/250\n",
      "22/22 [==============================] - 0s 729us/step - loss: 3605.7695\n",
      "Epoch 95/250\n",
      "22/22 [==============================] - 0s 764us/step - loss: 2668.9070\n",
      "Epoch 96/250\n",
      "22/22 [==============================] - 0s 859us/step - loss: 2130.9905\n",
      "Epoch 97/250\n",
      "22/22 [==============================] - 0s 758us/step - loss: 1931.8855\n",
      "Epoch 98/250\n",
      "22/22 [==============================] - 0s 760us/step - loss: 1882.5909\n",
      "Epoch 99/250\n",
      "22/22 [==============================] - 0s 837us/step - loss: 1852.9980\n",
      "Epoch 100/250\n",
      "22/22 [==============================] - 0s 738us/step - loss: 1818.4370\n",
      "Epoch 101/250\n",
      "22/22 [==============================] - 0s 791us/step - loss: 1786.3618\n",
      "Epoch 102/250\n",
      "22/22 [==============================] - 0s 785us/step - loss: 1754.7427\n",
      "Epoch 103/250\n",
      "22/22 [==============================] - 0s 1ms/step - loss: 1725.0479\n",
      "Epoch 104/250\n",
      "22/22 [==============================] - 0s 1ms/step - loss: 1699.3988\n",
      "Epoch 105/250\n",
      "22/22 [==============================] - 0s 1ms/step - loss: 1672.1581\n",
      "Epoch 106/250\n",
      "22/22 [==============================] - 0s 1ms/step - loss: 1644.0939\n",
      "Epoch 107/250\n",
      "22/22 [==============================] - 0s 1ms/step - loss: 1613.3430\n",
      "Epoch 108/250\n",
      "22/22 [==============================] - 0s 1ms/step - loss: 1583.0923\n",
      "Epoch 109/250\n",
      "22/22 [==============================] - 0s 1ms/step - loss: 1559.8990\n",
      "Epoch 110/250\n",
      "22/22 [==============================] - 0s 1ms/step - loss: 1533.0620\n",
      "Epoch 111/250\n",
      "22/22 [==============================] - 0s 1ms/step - loss: 1505.0909\n",
      "Epoch 112/250\n",
      "22/22 [==============================] - 0s 1ms/step - loss: 1477.5626\n",
      "Epoch 113/250\n",
      "22/22 [==============================] - 0s 1ms/step - loss: 1450.8240\n",
      "Epoch 114/250\n",
      "22/22 [==============================] - 0s 1ms/step - loss: 1425.5946\n",
      "Epoch 115/250\n",
      "22/22 [==============================] - 0s 1ms/step - loss: 1398.1482\n",
      "Epoch 116/250\n",
      "22/22 [==============================] - 0s 1ms/step - loss: 1373.8802\n",
      "Epoch 117/250\n",
      "22/22 [==============================] - 0s 1ms/step - loss: 1345.0612\n",
      "Epoch 118/250\n",
      "22/22 [==============================] - 0s 1ms/step - loss: 1318.5802\n",
      "Epoch 119/250\n",
      "22/22 [==============================] - 0s 1ms/step - loss: 1295.8617\n",
      "Epoch 120/250\n",
      "22/22 [==============================] - 0s 1ms/step - loss: 1269.1270\n",
      "Epoch 121/250\n",
      "22/22 [==============================] - 0s 1ms/step - loss: 1243.7103\n",
      "Epoch 122/250\n",
      "22/22 [==============================] - 0s 1ms/step - loss: 1215.5626\n",
      "Epoch 123/250\n",
      "22/22 [==============================] - 0s 1ms/step - loss: 1190.6174\n",
      "Epoch 124/250\n",
      "22/22 [==============================] - 0s 1ms/step - loss: 1161.5874\n",
      "Epoch 125/250\n",
      "22/22 [==============================] - 0s 1ms/step - loss: 1135.0455\n",
      "Epoch 126/250\n",
      "22/22 [==============================] - 0s 1ms/step - loss: 1110.3456\n",
      "Epoch 127/250\n",
      "22/22 [==============================] - 0s 1ms/step - loss: 1079.9780\n",
      "Epoch 128/250\n",
      "22/22 [==============================] - 0s 1ms/step - loss: 1054.4354\n",
      "Epoch 129/250\n",
      "22/22 [==============================] - 0s 1ms/step - loss: 1029.7040\n",
      "Epoch 130/250\n",
      "22/22 [==============================] - 0s 1ms/step - loss: 1003.1682\n",
      "Epoch 131/250\n",
      "22/22 [==============================] - 0s 1ms/step - loss: 979.1083\n",
      "Epoch 132/250\n",
      "22/22 [==============================] - 0s 1ms/step - loss: 956.7790\n",
      "Epoch 133/250\n",
      "22/22 [==============================] - 0s 1ms/step - loss: 932.3815\n",
      "Epoch 134/250\n",
      "22/22 [==============================] - 0s 1ms/step - loss: 908.5368\n",
      "Epoch 135/250\n",
      "22/22 [==============================] - 0s 1ms/step - loss: 886.8906\n",
      "Epoch 136/250\n",
      "22/22 [==============================] - 0s 1ms/step - loss: 862.0928\n",
      "Epoch 137/250\n",
      "22/22 [==============================] - 0s 1ms/step - loss: 838.9256\n",
      "Epoch 138/250\n",
      "22/22 [==============================] - 0s 1ms/step - loss: 815.3056\n",
      "Epoch 139/250\n",
      "22/22 [==============================] - 0s 1ms/step - loss: 793.2519\n",
      "Epoch 140/250\n",
      "22/22 [==============================] - 0s 1ms/step - loss: 771.5754\n",
      "Epoch 141/250\n",
      "22/22 [==============================] - 0s 1ms/step - loss: 747.4122\n",
      "Epoch 142/250\n",
      "22/22 [==============================] - 0s 1ms/step - loss: 725.5974\n",
      "Epoch 143/250\n",
      "22/22 [==============================] - 0s 1ms/step - loss: 703.6682\n",
      "Epoch 144/250\n",
      "22/22 [==============================] - 0s 1ms/step - loss: 682.2590\n",
      "Epoch 145/250\n",
      "22/22 [==============================] - 0s 1ms/step - loss: 664.8392\n",
      "Epoch 146/250\n",
      "22/22 [==============================] - 0s 1ms/step - loss: 647.7314\n",
      "Epoch 147/250\n",
      "22/22 [==============================] - 0s 1ms/step - loss: 628.1430\n",
      "Epoch 148/250\n",
      "22/22 [==============================] - 0s 1ms/step - loss: 606.9346\n",
      "Epoch 149/250\n",
      "22/22 [==============================] - 0s 1ms/step - loss: 591.1312\n",
      "Epoch 150/250\n",
      "22/22 [==============================] - 0s 1ms/step - loss: 573.7042\n",
      "Epoch 151/250\n",
      "22/22 [==============================] - 0s 1ms/step - loss: 554.2528\n",
      "Epoch 152/250\n",
      "22/22 [==============================] - 0s 1ms/step - loss: 534.9683\n",
      "Epoch 153/250\n",
      "22/22 [==============================] - 0s 1ms/step - loss: 516.1227\n",
      "Epoch 154/250\n",
      "22/22 [==============================] - 0s 1ms/step - loss: 497.5661\n",
      "Epoch 155/250\n",
      "22/22 [==============================] - 0s 1ms/step - loss: 480.4290\n",
      "Epoch 156/250\n",
      "22/22 [==============================] - 0s 1ms/step - loss: 464.5456\n",
      "Epoch 157/250\n",
      "22/22 [==============================] - 0s 1ms/step - loss: 443.5424\n",
      "Epoch 158/250\n",
      "22/22 [==============================] - 0s 1ms/step - loss: 430.6066\n",
      "Epoch 159/250\n",
      "22/22 [==============================] - 0s 1ms/step - loss: 415.6208\n",
      "Epoch 160/250\n",
      "22/22 [==============================] - 0s 1ms/step - loss: 400.0823\n",
      "Epoch 161/250\n",
      "22/22 [==============================] - 0s 1ms/step - loss: 383.3574\n",
      "Epoch 162/250\n",
      "22/22 [==============================] - 0s 1ms/step - loss: 367.1598\n",
      "Epoch 163/250\n",
      "22/22 [==============================] - 0s 1ms/step - loss: 350.8571\n",
      "Epoch 164/250\n",
      "22/22 [==============================] - 0s 1ms/step - loss: 335.4085\n",
      "Epoch 165/250\n",
      "22/22 [==============================] - 0s 1ms/step - loss: 319.9910\n",
      "Epoch 166/250\n",
      "22/22 [==============================] - 0s 1ms/step - loss: 304.8584\n",
      "Epoch 167/250\n",
      "22/22 [==============================] - 0s 1ms/step - loss: 291.4041\n",
      "Epoch 168/250\n",
      "22/22 [==============================] - 0s 1ms/step - loss: 275.5714\n",
      "Epoch 169/250\n",
      "22/22 [==============================] - 0s 1ms/step - loss: 264.9547\n",
      "Epoch 170/250\n",
      "22/22 [==============================] - 0s 1ms/step - loss: 253.1059\n",
      "Epoch 171/250\n",
      "22/22 [==============================] - 0s 2ms/step - loss: 241.5483\n",
      "Epoch 172/250\n",
      "22/22 [==============================] - 0s 1ms/step - loss: 229.0388\n",
      "Epoch 173/250\n",
      "22/22 [==============================] - 0s 1ms/step - loss: 216.9184\n",
      "Epoch 174/250\n",
      "22/22 [==============================] - 0s 1ms/step - loss: 205.2449\n",
      "Epoch 175/250\n",
      "22/22 [==============================] - 0s 1ms/step - loss: 193.9048\n",
      "Epoch 176/250\n",
      "22/22 [==============================] - 0s 1ms/step - loss: 182.3108\n",
      "Epoch 177/250\n",
      "22/22 [==============================] - 0s 1ms/step - loss: 172.4605\n",
      "Epoch 178/250\n",
      "22/22 [==============================] - 0s 1ms/step - loss: 161.8115\n",
      "Epoch 179/250\n",
      "22/22 [==============================] - 0s 1ms/step - loss: 151.0222\n",
      "Epoch 180/250\n",
      "22/22 [==============================] - 0s 1ms/step - loss: 140.8881\n",
      "Epoch 181/250\n",
      "22/22 [==============================] - 0s 1ms/step - loss: 131.2946\n",
      "Epoch 182/250\n",
      "22/22 [==============================] - 0s 1ms/step - loss: 121.7300\n",
      "Epoch 183/250\n",
      "22/22 [==============================] - 0s 1ms/step - loss: 113.4602\n",
      "Epoch 184/250\n",
      "22/22 [==============================] - 0s 1ms/step - loss: 105.9710\n",
      "Epoch 185/250\n",
      "22/22 [==============================] - 0s 1ms/step - loss: 99.7360\n",
      "Epoch 186/250\n",
      "22/22 [==============================] - 0s 1ms/step - loss: 92.9562\n",
      "Epoch 187/250\n",
      "22/22 [==============================] - 0s 1ms/step - loss: 86.9971\n",
      "Epoch 188/250\n",
      "22/22 [==============================] - 0s 1ms/step - loss: 81.4597\n",
      "Epoch 189/250\n",
      "22/22 [==============================] - 0s 1ms/step - loss: 76.5602\n",
      "Epoch 190/250\n",
      "22/22 [==============================] - 0s 1ms/step - loss: 71.3537\n",
      "Epoch 191/250\n",
      "22/22 [==============================] - 0s 1ms/step - loss: 66.6456\n",
      "Epoch 192/250\n",
      "22/22 [==============================] - 0s 1ms/step - loss: 62.4886\n",
      "Epoch 193/250\n"
     ]
    },
    {
     "name": "stdout",
     "output_type": "stream",
     "text": [
      "22/22 [==============================] - 0s 1ms/step - loss: 58.2790\n",
      "Epoch 194/250\n",
      "22/22 [==============================] - 0s 1ms/step - loss: 54.5774\n",
      "Epoch 195/250\n",
      "22/22 [==============================] - 0s 1ms/step - loss: 51.0262\n",
      "Epoch 196/250\n",
      "22/22 [==============================] - 0s 1ms/step - loss: 47.7479\n",
      "Epoch 197/250\n",
      "22/22 [==============================] - 0s 1ms/step - loss: 44.8410\n",
      "Epoch 198/250\n",
      "22/22 [==============================] - 0s 1ms/step - loss: 41.6848\n",
      "Epoch 199/250\n",
      "22/22 [==============================] - 0s 1ms/step - loss: 39.5167\n",
      "Epoch 200/250\n",
      "22/22 [==============================] - 0s 1ms/step - loss: 37.4254\n",
      "Epoch 201/250\n",
      "22/22 [==============================] - 0s 1ms/step - loss: 35.8411\n",
      "Epoch 202/250\n",
      "22/22 [==============================] - 0s 1ms/step - loss: 34.3054\n",
      "Epoch 203/250\n",
      "22/22 [==============================] - 0s 1ms/step - loss: 32.6350\n",
      "Epoch 204/250\n",
      "22/22 [==============================] - 0s 1ms/step - loss: 31.1772\n",
      "Epoch 205/250\n",
      "22/22 [==============================] - 0s 1ms/step - loss: 30.0673\n",
      "Epoch 206/250\n",
      "22/22 [==============================] - 0s 2ms/step - loss: 29.3680\n",
      "Epoch 207/250\n",
      "22/22 [==============================] - 0s 1ms/step - loss: 28.6657\n",
      "Epoch 208/250\n",
      "22/22 [==============================] - 0s 797us/step - loss: 27.8116\n",
      "Epoch 209/250\n",
      "22/22 [==============================] - 0s 764us/step - loss: 27.3869\n",
      "Epoch 210/250\n",
      "22/22 [==============================] - 0s 797us/step - loss: 26.6813\n",
      "Epoch 211/250\n",
      "22/22 [==============================] - 0s 734us/step - loss: 26.3284\n",
      "Epoch 212/250\n",
      "22/22 [==============================] - 0s 795us/step - loss: 26.0233\n",
      "Epoch 213/250\n",
      "22/22 [==============================] - 0s 759us/step - loss: 25.9300\n",
      "Epoch 214/250\n",
      "22/22 [==============================] - 0s 778us/step - loss: 25.1136\n",
      "Epoch 215/250\n",
      "22/22 [==============================] - 0s 757us/step - loss: 25.3770\n",
      "Epoch 216/250\n",
      "22/22 [==============================] - 0s 782us/step - loss: 24.9143\n",
      "Epoch 217/250\n",
      "22/22 [==============================] - 0s 778us/step - loss: 24.7574\n",
      "Epoch 218/250\n",
      "22/22 [==============================] - 0s 790us/step - loss: 24.7781\n",
      "Epoch 219/250\n",
      "22/22 [==============================] - 0s 736us/step - loss: 24.6386\n",
      "Epoch 220/250\n",
      "22/22 [==============================] - 0s 796us/step - loss: 24.5225\n",
      "Epoch 221/250\n",
      "22/22 [==============================] - 0s 757us/step - loss: 24.2748\n",
      "Epoch 222/250\n",
      "22/22 [==============================] - 0s 760us/step - loss: 24.4381\n",
      "Epoch 223/250\n",
      "22/22 [==============================] - 0s 809us/step - loss: 24.2285\n",
      "Epoch 224/250\n",
      "22/22 [==============================] - 0s 812us/step - loss: 24.3528\n",
      "Epoch 225/250\n",
      "22/22 [==============================] - 0s 798us/step - loss: 24.6082\n",
      "Epoch 226/250\n",
      "22/22 [==============================] - 0s 831us/step - loss: 24.1945\n",
      "Epoch 227/250\n",
      "22/22 [==============================] - 0s 838us/step - loss: 24.5417\n",
      "Epoch 228/250\n",
      "22/22 [==============================] - 0s 819us/step - loss: 24.2930\n",
      "Epoch 229/250\n",
      "22/22 [==============================] - 0s 843us/step - loss: 23.8380\n",
      "Epoch 230/250\n",
      "22/22 [==============================] - 0s 880us/step - loss: 24.3486\n",
      "Epoch 231/250\n",
      "22/22 [==============================] - 0s 830us/step - loss: 24.1084\n",
      "Epoch 232/250\n",
      "22/22 [==============================] - 0s 801us/step - loss: 24.1599\n",
      "Epoch 233/250\n",
      "22/22 [==============================] - 0s 703us/step - loss: 24.1134\n",
      "Epoch 234/250\n",
      "22/22 [==============================] - 0s 712us/step - loss: 24.1046\n",
      "Epoch 235/250\n",
      "22/22 [==============================] - 0s 702us/step - loss: 24.1462\n",
      "Epoch 236/250\n",
      "22/22 [==============================] - 0s 725us/step - loss: 24.3002\n",
      "Epoch 237/250\n",
      "22/22 [==============================] - 0s 726us/step - loss: 23.9325\n",
      "Epoch 238/250\n",
      "22/22 [==============================] - 0s 753us/step - loss: 24.5121\n",
      "Epoch 239/250\n",
      "22/22 [==============================] - 0s 739us/step - loss: 24.2291\n",
      "Epoch 240/250\n",
      "22/22 [==============================] - 0s 720us/step - loss: 24.3895\n",
      "Epoch 241/250\n",
      "22/22 [==============================] - 0s 742us/step - loss: 24.2134\n",
      "Epoch 242/250\n",
      "22/22 [==============================] - 0s 749us/step - loss: 24.1246\n",
      "Epoch 243/250\n",
      "22/22 [==============================] - 0s 772us/step - loss: 24.4109\n",
      "Epoch 244/250\n",
      "22/22 [==============================] - 0s 734us/step - loss: 24.2529\n",
      "Epoch 245/250\n",
      "22/22 [==============================] - 0s 723us/step - loss: 24.1089\n",
      "Epoch 246/250\n",
      "22/22 [==============================] - 0s 787us/step - loss: 24.3030\n",
      "Epoch 247/250\n",
      "22/22 [==============================] - 0s 869us/step - loss: 24.3001\n",
      "Epoch 248/250\n",
      "22/22 [==============================] - 0s 703us/step - loss: 24.7447\n",
      "Epoch 249/250\n",
      "22/22 [==============================] - 0s 755us/step - loss: 23.8926\n",
      "Epoch 250/250\n",
      "22/22 [==============================] - 0s 745us/step - loss: 24.1245\n"
     ]
    },
    {
     "data": {
      "text/plain": [
       "<tensorflow.python.keras.callbacks.History at 0x7fb8884b84a8>"
      ]
     },
     "execution_count": 29,
     "metadata": {},
     "output_type": "execute_result"
    }
   ],
   "source": [
    "model.fit(x= X_train,y= y_train, epochs=250, workers=-1)"
   ]
  },
  {
   "cell_type": "code",
   "execution_count": 30,
   "id": "6f7141e2",
   "metadata": {},
   "outputs": [],
   "source": [
    "loss_df = pd.DataFrame(model.history.history)"
   ]
  },
  {
   "cell_type": "code",
   "execution_count": 31,
   "id": "9a02a4a7",
   "metadata": {},
   "outputs": [
    {
     "data": {
      "text/html": [
       "<div>\n",
       "<style scoped>\n",
       "    .dataframe tbody tr th:only-of-type {\n",
       "        vertical-align: middle;\n",
       "    }\n",
       "\n",
       "    .dataframe tbody tr th {\n",
       "        vertical-align: top;\n",
       "    }\n",
       "\n",
       "    .dataframe thead th {\n",
       "        text-align: right;\n",
       "    }\n",
       "</style>\n",
       "<table border=\"1\" class=\"dataframe\">\n",
       "  <thead>\n",
       "    <tr style=\"text-align: right;\">\n",
       "      <th></th>\n",
       "      <th>loss</th>\n",
       "    </tr>\n",
       "  </thead>\n",
       "  <tbody>\n",
       "    <tr>\n",
       "      <th>0</th>\n",
       "      <td>256554.765625</td>\n",
       "    </tr>\n",
       "    <tr>\n",
       "      <th>1</th>\n",
       "      <td>256384.593750</td>\n",
       "    </tr>\n",
       "    <tr>\n",
       "      <th>2</th>\n",
       "      <td>256203.046875</td>\n",
       "    </tr>\n",
       "    <tr>\n",
       "      <th>3</th>\n",
       "      <td>255998.453125</td>\n",
       "    </tr>\n",
       "    <tr>\n",
       "      <th>4</th>\n",
       "      <td>255770.531250</td>\n",
       "    </tr>\n",
       "  </tbody>\n",
       "</table>\n",
       "</div>"
      ],
      "text/plain": [
       "            loss\n",
       "0  256554.765625\n",
       "1  256384.593750\n",
       "2  256203.046875\n",
       "3  255998.453125\n",
       "4  255770.531250"
      ]
     },
     "execution_count": 31,
     "metadata": {},
     "output_type": "execute_result"
    }
   ],
   "source": [
    "loss_df.head()"
   ]
  },
  {
   "cell_type": "code",
   "execution_count": 32,
   "id": "30b2d4b8",
   "metadata": {},
   "outputs": [
    {
     "data": {
      "text/plain": [
       "<matplotlib.axes._subplots.AxesSubplot at 0x7fb888313fd0>"
      ]
     },
     "execution_count": 32,
     "metadata": {},
     "output_type": "execute_result"
    },
    {
     "data": {
      "image/png": "[encoded data removed]",
      "text/plain": [
       "<Figure size 432x288 with 1 Axes>"
      ]
     },
     "metadata": {
      "needs_background": "light"
     },
     "output_type": "display_data"
    }
   ],
   "source": [
    "loss_df.plot()"
   ]
  },
  {
   "cell_type": "markdown",
   "id": "581effa5",
   "metadata": {},
   "source": [
    "### Evaluate model"
   ]
  },
  {
   "cell_type": "code",
   "execution_count": 33,
   "id": "a01b54ee",
   "metadata": {},
   "outputs": [
    {
     "name": "stdout",
     "output_type": "stream",
     "text": [
      "10/10 [==============================] - 0s 633us/step - loss: 24.9433\n"
     ]
    },
    {
     "data": {
      "text/plain": [
       "24.943328857421875"
      ]
     },
     "execution_count": 33,
     "metadata": {},
     "output_type": "execute_result"
    }
   ],
   "source": [
    "model.evaluate(X_test, y_test)"
   ]
  },
  {
   "cell_type": "code",
   "execution_count": 34,
   "id": "a4a314e1",
   "metadata": {},
   "outputs": [
    {
     "name": "stdout",
     "output_type": "stream",
     "text": [
      "22/22 [==============================] - 0s 617us/step - loss: 23.8763\n"
     ]
    },
    {
     "data": {
      "text/plain": [
       "23.8763427734375"
      ]
     },
     "execution_count": 34,
     "metadata": {},
     "output_type": "execute_result"
    }
   ],
   "source": [
    "model.evaluate(X_train, y_train)"
   ]
  },
  {
   "cell_type": "markdown",
   "id": "95f64022",
   "metadata": {},
   "source": [
    "## Predict on test set"
   ]
  },
  {
   "cell_type": "code",
   "execution_count": 35,
   "id": "9ed76850",
   "metadata": {},
   "outputs": [],
   "source": [
    "test_predictions = model.predict(X_test)"
   ]
  },
  {
   "cell_type": "code",
   "execution_count": 36,
   "id": "2463dea4",
   "metadata": {},
   "outputs": [
    {
     "data": {
      "text/plain": [
       "array([[405.23807],\n",
       "       [623.47723],\n",
       "       [592.06354],\n",
       "       [572.1834 ],\n",
       "       [366.59955]], dtype=float32)"
      ]
     },
     "execution_count": 36,
     "metadata": {},
     "output_type": "execute_result"
    }
   ],
   "source": [
    "test_predictions[:5]"
   ]
  },
  {
   "cell_type": "code",
   "execution_count": 37,
   "id": "895d6cac",
   "metadata": {},
   "outputs": [
    {
     "data": {
      "text/plain": [
       "(300, 300)"
      ]
     },
     "execution_count": 37,
     "metadata": {},
     "output_type": "execute_result"
    }
   ],
   "source": [
    "len(X_test), len(test_predictions)"
   ]
  },
  {
   "cell_type": "code",
   "execution_count": 38,
   "id": "d3e9b9a0",
   "metadata": {},
   "outputs": [],
   "source": [
    "test_predicitions = pd.Series(test_predictions.reshape(300,))"
   ]
  },
  {
   "cell_type": "code",
   "execution_count": 39,
   "id": "b20fb6d9",
   "metadata": {},
   "outputs": [
    {
     "data": {
      "text/plain": [
       "((300,), (300,))"
      ]
     },
     "execution_count": 39,
     "metadata": {},
     "output_type": "execute_result"
    }
   ],
   "source": [
    "test_predicitions.shape, y_test.shape"
   ]
  },
  {
   "cell_type": "code",
   "execution_count": 40,
   "id": "359c5b8f",
   "metadata": {},
   "outputs": [],
   "source": [
    "pred_df = pd.DataFrame(y_test, columns=['True Y'])\n",
    "pred_df['Pred Y'] = test_predictions"
   ]
  },
  {
   "cell_type": "code",
   "execution_count": 41,
   "id": "8fe3ff37",
   "metadata": {},
   "outputs": [
    {
     "data": {
      "text/html": [
       "<div>\n",
       "<style scoped>\n",
       "    .dataframe tbody tr th:only-of-type {\n",
       "        vertical-align: middle;\n",
       "    }\n",
       "\n",
       "    .dataframe tbody tr th {\n",
       "        vertical-align: top;\n",
       "    }\n",
       "\n",
       "    .dataframe thead th {\n",
       "        text-align: right;\n",
       "    }\n",
       "</style>\n",
       "<table border=\"1\" class=\"dataframe\">\n",
       "  <thead>\n",
       "    <tr style=\"text-align: right;\">\n",
       "      <th></th>\n",
       "      <th>True Y</th>\n",
       "      <th>Pred Y</th>\n",
       "    </tr>\n",
       "  </thead>\n",
       "  <tbody>\n",
       "    <tr>\n",
       "      <th>0</th>\n",
       "      <td>402.296319</td>\n",
       "      <td>405.238068</td>\n",
       "    </tr>\n",
       "    <tr>\n",
       "      <th>1</th>\n",
       "      <td>624.156198</td>\n",
       "      <td>623.477234</td>\n",
       "    </tr>\n",
       "    <tr>\n",
       "      <th>2</th>\n",
       "      <td>582.455066</td>\n",
       "      <td>592.063538</td>\n",
       "    </tr>\n",
       "    <tr>\n",
       "      <th>3</th>\n",
       "      <td>578.588606</td>\n",
       "      <td>572.183411</td>\n",
       "    </tr>\n",
       "    <tr>\n",
       "      <th>4</th>\n",
       "      <td>371.224104</td>\n",
       "      <td>366.599548</td>\n",
       "    </tr>\n",
       "  </tbody>\n",
       "</table>\n",
       "</div>"
      ],
      "text/plain": [
       "       True Y      Pred Y\n",
       "0  402.296319  405.238068\n",
       "1  624.156198  623.477234\n",
       "2  582.455066  592.063538\n",
       "3  578.588606  572.183411\n",
       "4  371.224104  366.599548"
      ]
     },
     "execution_count": 41,
     "metadata": {},
     "output_type": "execute_result"
    }
   ],
   "source": [
    "pred_df.head()"
   ]
  },
  {
   "cell_type": "code",
   "execution_count": 42,
   "id": "b164995a",
   "metadata": {},
   "outputs": [
    {
     "data": {
      "text/plain": [
       "<matplotlib.axes._subplots.AxesSubplot at 0x7fb8604de668>"
      ]
     },
     "execution_count": 42,
     "metadata": {},
     "output_type": "execute_result"
    },
    {
     "data": {
      "image/png": "[encoded data removed]",
      "text/plain": [
       "<Figure size 432x288 with 1 Axes>"
      ]
     },
     "metadata": {
      "needs_background": "light"
     },
     "output_type": "display_data"
    }
   ],
   "source": [
    "sns.scatterplot(data=pred_df, x='True Y', y='Pred Y')"
   ]
  },
  {
   "cell_type": "code",
   "execution_count": 43,
   "id": "3edc903f",
   "metadata": {},
   "outputs": [],
   "source": [
    "from sklearn.metrics import mean_squared_error, mean_absolute_error"
   ]
  },
  {
   "cell_type": "code",
   "execution_count": 44,
   "id": "9bf4c616",
   "metadata": {},
   "outputs": [
    {
     "data": {
      "text/plain": [
       "3.9997306406875714"
      ]
     },
     "execution_count": 44,
     "metadata": {},
     "output_type": "execute_result"
    }
   ],
   "source": [
    "mean_absolute_error(pred_df['True Y'], pred_df['Pred Y'])"
   ]
  },
  {
   "cell_type": "code",
   "execution_count": 45,
   "id": "3c258327",
   "metadata": {},
   "outputs": [
    {
     "data": {
      "text/plain": [
       "4.994329804095452"
      ]
     },
     "execution_count": 45,
     "metadata": {},
     "output_type": "execute_result"
    }
   ],
   "source": [
    "mean_squared_error(pred_df['True Y'], pred_df['Pred Y']) ** 0.5"
   ]
  },
  {
   "cell_type": "code",
   "execution_count": 46,
   "id": "d71d47ec",
   "metadata": {},
   "outputs": [
    {
     "data": {
      "text/html": [
       "<div>\n",
       "<style scoped>\n",
       "    .dataframe tbody tr th:only-of-type {\n",
       "        vertical-align: middle;\n",
       "    }\n",
       "\n",
       "    .dataframe tbody tr th {\n",
       "        vertical-align: top;\n",
       "    }\n",
       "\n",
       "    .dataframe thead th {\n",
       "        text-align: right;\n",
       "    }\n",
       "</style>\n",
       "<table border=\"1\" class=\"dataframe\">\n",
       "  <thead>\n",
       "    <tr style=\"text-align: right;\">\n",
       "      <th></th>\n",
       "      <th>price</th>\n",
       "      <th>feature1</th>\n",
       "      <th>feature2</th>\n",
       "    </tr>\n",
       "  </thead>\n",
       "  <tbody>\n",
       "    <tr>\n",
       "      <th>count</th>\n",
       "      <td>1000.000000</td>\n",
       "      <td>1000.000000</td>\n",
       "      <td>1000.000000</td>\n",
       "    </tr>\n",
       "    <tr>\n",
       "      <th>mean</th>\n",
       "      <td>498.673029</td>\n",
       "      <td>1000.014171</td>\n",
       "      <td>999.979847</td>\n",
       "    </tr>\n",
       "    <tr>\n",
       "      <th>std</th>\n",
       "      <td>93.785431</td>\n",
       "      <td>0.974018</td>\n",
       "      <td>0.948330</td>\n",
       "    </tr>\n",
       "    <tr>\n",
       "      <th>min</th>\n",
       "      <td>223.346793</td>\n",
       "      <td>997.058347</td>\n",
       "      <td>996.995651</td>\n",
       "    </tr>\n",
       "    <tr>\n",
       "      <th>25%</th>\n",
       "      <td>433.025732</td>\n",
       "      <td>999.332068</td>\n",
       "      <td>999.316106</td>\n",
       "    </tr>\n",
       "    <tr>\n",
       "      <th>50%</th>\n",
       "      <td>502.382117</td>\n",
       "      <td>1000.009915</td>\n",
       "      <td>1000.002243</td>\n",
       "    </tr>\n",
       "    <tr>\n",
       "      <th>75%</th>\n",
       "      <td>564.921588</td>\n",
       "      <td>1000.637580</td>\n",
       "      <td>1000.645380</td>\n",
       "    </tr>\n",
       "    <tr>\n",
       "      <th>max</th>\n",
       "      <td>774.407854</td>\n",
       "      <td>1003.207934</td>\n",
       "      <td>1002.666308</td>\n",
       "    </tr>\n",
       "  </tbody>\n",
       "</table>\n",
       "</div>"
      ],
      "text/plain": [
       "             price     feature1     feature2\n",
       "count  1000.000000  1000.000000  1000.000000\n",
       "mean    498.673029  1000.014171   999.979847\n",
       "std      93.785431     0.974018     0.948330\n",
       "min     223.346793   997.058347   996.995651\n",
       "25%     433.025732   999.332068   999.316106\n",
       "50%     502.382117  1000.009915  1000.002243\n",
       "75%     564.921588  1000.637580  1000.645380\n",
       "max     774.407854  1003.207934  1002.666308"
      ]
     },
     "execution_count": 46,
     "metadata": {},
     "output_type": "execute_result"
    }
   ],
   "source": [
    "df.describe()"
   ]
  },
  {
   "cell_type": "code",
   "execution_count": 70,
   "id": "b318ced8",
   "metadata": {},
   "outputs": [],
   "source": [
    "new_gem = [[998,1000]]\n",
    "new_gem = scaler.transform(new_gem)"
   ]
  },
  {
   "cell_type": "code",
   "execution_count": 72,
   "id": "10866efb",
   "metadata": {},
   "outputs": [
    {
     "data": {
      "text/plain": [
       "array([[0.14117652, 0.53968792]])"
      ]
     },
     "execution_count": 72,
     "metadata": {},
     "output_type": "execute_result"
    }
   ],
   "source": [
    "new_gem"
   ]
  },
  {
   "cell_type": "code",
   "execution_count": 73,
   "id": "3b7c1e07",
   "metadata": {},
   "outputs": [
    {
     "data": {
      "text/plain": [
       "array([[419.66476]], dtype=float32)"
      ]
     },
     "execution_count": 73,
     "metadata": {},
     "output_type": "execute_result"
    }
   ],
   "source": [
    "model.predict(new_gem)"
   ]
  },
  {
   "cell_type": "markdown",
   "id": "3a64eb86",
   "metadata": {},
   "source": [
    "### Save and retrieve model"
   ]
  },
  {
   "cell_type": "code",
   "execution_count": 74,
   "id": "70c2f351",
   "metadata": {},
   "outputs": [],
   "source": [
    "from tensorflow.keras.models import load_model"
   ]
  },
  {
   "cell_type": "code",
   "execution_count": 75,
   "id": "ef828dd4",
   "metadata": {},
   "outputs": [],
   "source": [
    "model.save(\"my_gem.h5\")"
   ]
  },
  {
   "cell_type": "code",
   "execution_count": 77,
   "id": "c6827c6f",
   "metadata": {},
   "outputs": [],
   "source": [
    "loaded_model = load_model(\"my_gem.h5\")"
   ]
  },
  {
   "cell_type": "code",
   "execution_count": 78,
   "id": "9dae4936",
   "metadata": {},
   "outputs": [
    {
     "data": {
      "text/plain": [
       "array([[419.66476]], dtype=float32)"
      ]
     },
     "execution_count": 78,
     "metadata": {},
     "output_type": "execute_result"
    }
   ],
   "source": [
    "loaded_model.predict(new_gem)"
   ]
  }
 ],
 "metadata": {
  "kernelspec": {
   "display_name": "Python 3",
   "language": "python",
   "name": "python3"
  },
  "language_info": {
   "codemirror_mode": {
    "name": "ipython",
    "version": 3
   },
   "file_extension": ".py",
   "mimetype": "text/x-python",
   "name": "python",
   "nbconvert_exporter": "python",
   "pygments_lexer": "ipython3",
   "version": "3.6.9"
  }
 },
 "nbformat": 4,
 "nbformat_minor": 5
}
