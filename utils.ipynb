{
 "cells": [
  {
   "cell_type": "code",
   "execution_count": 1,
   "id": "62628a47",
   "metadata": {},
   "outputs": [],
   "source": [
    "import sys\n",
    "sys.path.append(\"/media/data/anaconda3/envs/upgrad/lib/python3.8/site-packages/\")\n",
    "\n",
    "import numpy as np"
   ]
  },
  {
   "cell_type": "markdown",
   "id": "706c6ebd",
   "metadata": {},
   "source": [
    "## Contents"
   ]
  },
  {
   "cell_type": "markdown",
   "id": "d68478ab",
   "metadata": {},
   "source": [
    "### Summary statistics\n",
    "- df.head()\n",
    "- df.info()\n",
    "- Numerical column summary\n",
    "```\n",
    "df.describe().transpose()\n",
    "```\n",
    "- Categorical column summary\n",
    "```\n",
    "df.describe(include=['O']).transpose()\n",
    "```\n",
    "- df.shape\n",
    "- Get columns with missing values\n",
    "```\n",
    "missing_value_df = round(df.isnull().sum() / len(df)  * 100,2)\n",
    "missing_value_df[missing_value_df > 0].sort_values(ascending=False)\n",
    "```"
   ]
  },
  {
   "cell_type": "markdown",
   "id": "4e322ba3",
   "metadata": {},
   "source": [
    "### Data Cleaning"
   ]
  },
  {
   "cell_type": "markdown",
   "id": "7f255a2b",
   "metadata": {},
   "source": [
    "#### 1. Duplicate rows\n",
    "df[df.duplicated()]\n",
    "\n",
    "#### 2. Drop columns where all values are same\n",
    "df.columns[df.nunique() <= 1]\n",
    "\n",
    "#### 1. Duplicate rows\n",
    "\n",
    "\n",
    "\n",
    "\n",
    "\n",
    "\n"
   ]
  },
  {
   "cell_type": "markdown",
   "id": "2e5461c6",
   "metadata": {},
   "source": [
    "### Dataframe Ops"
   ]
  },
  {
   "cell_type": "markdown",
   "id": "83667f8f",
   "metadata": {},
   "source": [
    "####  1. Drop columns\n",
    "df.drop(columns=column_list)\n",
    "\n",
    "####  2. Get columns whose name starting with\n",
    "```\n",
    "fb_user_cols = [col for col in df.columns if 'fb_user' in col]\n",
    "df[fb_user_cols]\n",
    "```\n",
    "#### 3. Filter column\n",
    "```\n",
    "df[['count_rech_3g_6', 'arpu_3g_6', 'monthly_3g_6', 'sachet_3g_6']][df.arpu_3g_6.isnull()][:5]\n",
    "```\n",
    "#### 4. Row wise sum \n",
    "```\n",
    "df['churn'] = df[['total_ic_mou_9', 'total_og_mou_9', 'vol_2g_mb_9', 'vol_3g_mb_9']].sum(axis = 1) == 0\n",
    "```\n",
    "#### 5. Column wise sum \n",
    "```\n",
    "df['churn'] = df[['total_ic_mou_9', 'total_og_mou_9', 'vol_2g_mb_9', 'vol_3g_mb_9']].sum(axis = 0) == 0\n",
    "```"
   ]
  },
  {
   "cell_type": "markdown",
   "id": "63bc61bd",
   "metadata": {},
   "source": [
    "### Missing value handling\n",
    "- Fill null with 0\n",
    "```\n",
    "df[rech_cols] = df[rech_cols].apply(lambda x: x.fillna(0))\n",
    "```\n",
    "- Value counts percentage\n",
    "```\n",
    "(df.churn.value_counts() / len(df) * 100).sort_values(ascending=False)\n",
    "```"
   ]
  },
  {
   "cell_type": "markdown",
   "id": "1ac72528",
   "metadata": {},
   "source": [
    "### EDA\n",
    "\n",
    "- Univariate analysis\n",
    "```\n",
    "def uni(col):\n",
    "    '''\n",
    "        distplot for numerical\n",
    "        countplot for categorical\n",
    "    '''\n",
    "    if 'int' in str(col.dtype):\n",
    "        sns.distplot(col)\n",
    "    elif 'int' in str(col.dtype):\n",
    "        sns.countplot(col)\n",
    "```\n",
    "- Sub plots\n",
    "```\n",
    "plt.figure(figsize=(16, 12))\n",
    "uni_cols = list(get_col(high_value_cust_df, 'net'))\n",
    "for col in uni_cols:\n",
    "    plt.subplot(3,3, uni_cols.index(col) + 1)\n",
    "    uni(high_value_cust_df[col])\n",
    "```"
   ]
  },
  {
   "cell_type": "markdown",
   "id": "3edeabc8",
   "metadata": {},
   "source": [
    "## Numpy"
   ]
  },
  {
   "cell_type": "code",
   "execution_count": 8,
   "id": "a9cdd2e5",
   "metadata": {},
   "outputs": [],
   "source": [
    "### 1. "
   ]
  },
  {
   "cell_type": "code",
   "execution_count": 3,
   "id": "6289567b",
   "metadata": {},
   "outputs": [],
   "source": [
    "w = np.array([3,1,5,7,4])"
   ]
  },
  {
   "cell_type": "code",
   "execution_count": 7,
   "id": "b256a6ba",
   "metadata": {},
   "outputs": [
    {
     "data": {
      "text/plain": [
       "(5,)"
      ]
     },
     "execution_count": 7,
     "metadata": {},
     "output_type": "execute_result"
    }
   ],
   "source": [
    "w.shape"
   ]
  },
  {
   "cell_type": "code",
   "execution_count": null,
   "id": "10232f0e",
   "metadata": {},
   "outputs": [],
   "source": []
  }
 ],
 "metadata": {
  "kernelspec": {
   "display_name": "Python 3",
   "language": "python",
   "name": "python3"
  },
  "language_info": {
   "codemirror_mode": {
    "name": "ipython",
    "version": 3
   },
   "file_extension": ".py",
   "mimetype": "text/x-python",
   "name": "python",
   "nbconvert_exporter": "python",
   "pygments_lexer": "ipython3",
   "version": "3.6.9"
  }
 },
 "nbformat": 4,
 "nbformat_minor": 5
}
