{
 "cells": [
  {
   "cell_type": "code",
   "execution_count": 4,
   "metadata": {},
   "outputs": [],
   "source": [
    "import re\n",
    "from collections import Counter"
   ]
  },
  {
   "cell_type": "code",
   "execution_count": 5,
   "metadata": {},
   "outputs": [],
   "source": [
    "# function to tokenise words\n",
    "def words(document):\n",
    "    \"Convert text to lower case and tokenise the document\"\n",
    "    return re.findall(r'\\w+', document.lower())"
   ]
  },
  {
   "cell_type": "code",
   "execution_count": 6,
   "metadata": {},
   "outputs": [],
   "source": [
    "# create a frequency table of all the words of the document\n",
    "all_words = Counter(words(open('data/big.txt').read()))"
   ]
  },
  {
   "cell_type": "code",
   "execution_count": 7,
   "metadata": {},
   "outputs": [
    {
     "data": {
      "text/plain": [
       "135"
      ]
     },
     "execution_count": 7,
     "metadata": {},
     "output_type": "execute_result"
    }
   ],
   "source": [
    "# check frequency of a random word, say, 'chair'\n",
    "all_words['chair']"
   ]
  },
  {
   "cell_type": "code",
   "execution_count": 8,
   "metadata": {},
   "outputs": [
    {
     "data": {
      "text/plain": [
       "[('the', 79809),\n",
       " ('of', 40024),\n",
       " ('and', 38312),\n",
       " ('to', 28765),\n",
       " ('in', 22023),\n",
       " ('a', 21124),\n",
       " ('that', 12512),\n",
       " ('he', 12401),\n",
       " ('was', 11410),\n",
       " ('it', 10681)]"
      ]
     },
     "execution_count": 8,
     "metadata": {},
     "output_type": "execute_result"
    }
   ],
   "source": [
    "# look at top 10 frequent words\n",
    "all_words.most_common(10)"
   ]
  },
  {
   "cell_type": "code",
   "execution_count": 9,
   "metadata": {},
   "outputs": [],
   "source": [
    "def edits_one(word):\n",
    "    \"Create all edits that are one edit away from `word`.\"\n",
    "    alphabets    = 'abcdefghijklmnopqrstuvwxyz'\n",
    "    splits     = [(word[:i], word[i:])                   for i in range(len(word) + 1)]\n",
    "    deletes    = [left + right[1:]                       for left, right in splits if right]\n",
    "    inserts    = [left + c + right                       for left, right in splits for c in alphabets]\n",
    "    replaces   = [left + c + right[1:]                   for left, right in splits if right for c in alphabets]\n",
    "    transposes = [left + right[1] + right[0] + right[2:] for left, right in splits if len(right)>1]\n",
    "    return set(deletes + inserts + replaces + transposes)"
   ]
  },
  {
   "cell_type": "code",
   "execution_count": 10,
   "metadata": {},
   "outputs": [],
   "source": [
    "def edits_two(word):\n",
    "    \"Create all edits that are two edits away from `word`.\"\n",
    "    return (e2 for e1 in edits_one(word) for e2 in edits_one(e1))"
   ]
  },
  {
   "cell_type": "code",
   "execution_count": 11,
   "metadata": {},
   "outputs": [],
   "source": [
    "def known(words):\n",
    "    \"The subset of `words` that appear in the `all_words`.\"\n",
    "    return set(word for word in words if word in all_words)"
   ]
  },
  {
   "cell_type": "code",
   "execution_count": 12,
   "metadata": {},
   "outputs": [],
   "source": [
    "def possible_corrections(word):\n",
    "    \"Generate possible spelling corrections for word.\"\n",
    "    return (known([word]) or known(edits_one(word)) or known(edits_two(word)) or [word])"
   ]
  },
  {
   "cell_type": "code",
   "execution_count": 13,
   "metadata": {},
   "outputs": [],
   "source": [
    "def prob(word, N=sum(all_words.values())): \n",
    "    \"Probability of `word`: Number of appearances of 'word' / total number of tokens\"\n",
    "    return all_words[word] / N"
   ]
  },
  {
   "cell_type": "code",
   "execution_count": 27,
   "metadata": {},
   "outputs": [
    {
     "name": "stdout",
     "output_type": "stream",
     "text": [
      "90902\n"
     ]
    }
   ],
   "source": [
    "print(len(set(edits_one(\"emfasize\"))))\n",
    "print(len(set(edits_two(\"emfasize\"))))"
   ]
  },
  {
   "cell_type": "code",
   "execution_count": 14,
   "metadata": {},
   "outputs": [
    {
     "name": "stdout",
     "output_type": "stream",
     "text": [
      "336\n",
      "{'ymonney', 'mynney', 'mognney', 'moqney', 'monnepy', 'mongey', 'monmey', 'monnesy', 'mjnney', 'monnly', 'monnkey', 'monmney', 'monhney', 'monnejy', 'yonney', 'monngy', 'monneyx', 'monfney', 'momnney', 'monnexy', 'mzonney', 'moneny', 'mfnney', 'monnecy', 'xmonney', 'mconney', 'monnez', 'mohney', 'monwney', 'wonney', 'monpey', 'mouney', 'moinney', 'mqonney', 'monnen', 'monneyc', 'meonney', 'monneyy', 'monnky', 'gmonney', 'mqnney', 'montey', 'monner', 'mobnney', 'mgonney', 'monzney', 'mdnney', 'monnewy', 'moaney', 'monvey', 'moknney', 'monneny', 'nonney', 'monrey', 'xonney', 'honney', 'monnjey', 'moanney', 'tmonney', 'monnmy', 'monned', 'monnsey', 'moneey', 'monlney', 'monnaey', 'monsey', 'monneyk', 'uonney', 'monnjy', 'moonney', 'monny', 'monnwey', 'monney', 'molnney', 'monnzy', 'monneyn', 'sonney', 'movney', 'monnpey', 'monnew', 'monneg', 'mosnney', 'mlnney', 'monyney', 'monneyg', 'monngey', 'moniney', 'mronney', 'monnfey', 'mooney', 'mkonney', 'mownney', 'ionney', 'monnely', 'moiney', 'monnoy', 'mongney', 'mofney', 'moqnney', 'monntey', 'monjney', 'monwey', 'omonney', 'monnezy', 'mbnney', 'mgnney', 'monndey', 'lmonney', 'monneyq', 'mnnney', 'monnqy', 'monhey', 'zmonney', 'monneqy', 'mobney', 'mozney', 'mondney', 'monnehy', 'monniey', 'mvnney', 'money', 'mfonney', 'moznney', 'monnhy', 'monnuy', 'monncy', 'monnee', 'monndy', 'mxnney', 'mmnney', 'mjonney', 'mokney', 'monnvy', 'ponney', 'modnney', 'monneyv', 'monnwy', 'monnoey', 'monley', 'monneo', 'monneyl', 'monneb', 'mvonney', 'gonney', 'monnxey', 'monnbey', 'monneyu', 'monbney', 'hmonney', 'monneyf', 'monnej', 'monne', 'mhnney', 'mlonney', 'monneyr', 'zonney', 'maonney', 'moeney', 'mxonney', 'conney', 'monneby', 'fmonney', 'mowney', 'monuney', 'monneu', 'monnedy', 'umonney', 'cmonney', 'monneye', 'monnex', 'moniey', 'jonney', 'monnegy', 'mwnney', 'monnay', 'monqney', 'msonney', 'nmonney', 'muonney', 'monbey', 'mdonney', 'monneyt', 'monnes', 'monnefy', 'monnry', 'mogney', 'monnzey', 'mopney', 'monjey', 'moxney', 'monneoy', 'monpney', 'mznney', 'montney', 'monnet', 'monnqey', 'myonney', 'monnny', 'mcnney', 'monnhey', 'konney', 'monneiy', 'monzey', 'oonney', 'dmonney', 'monnery', 'monkey', 'monneh', 'monnev', 'pmonney', 'monneq', 'monnfy', 'moneney', 'monnty', 'monnei', 'monnvey', 'monneuy', 'monncey', 'monnec', 'mwonney', 'moncey', 'mopnney', 'imonney', 'monxey', 'monnyey', 'monneys', 'monuey', 'morney', 'mornney', 'amonney', 'monnemy', 'moenney', 'mbonney', 'mojney', 'motney', 'monkney', 'ronney', 'monneym', 'mnney', 'monfey', 'jmonney', 'qonney', 'modney', 'lonney', 'monnpy', 'monneyo', 'monneyw', 'monnek', 'vmonney', 'monnevy', 'onney', 'mmonney', 'monnel', 'monneyz', 'moncney', 'monnuey', 'smonney', 'momney', 'monneyd', 'mosney', 'mnoney', 'monneyj', 'tonney', 'monneey', 'rmonney', 'aonney', 'monnby', 'monnney', 'monniy', 'monnley', 'monneyi', 'monnef', 'motnney', 'mocney', 'monnyy', 'mknney', 'eonney', 'qmonney', 'mondey', 'monnep', 'mofnney', 'mnonney', 'bmonney', 'monxney', 'monneya', 'monneyh', 'donney', 'mponney', 'vonney', 'monyey', 'monvney', 'monnrey', 'msnney', 'monneky', 'bonney', 'monoey', 'mrnney', 'wmonney', 'monnem', 'mocnney', 'mojnney', 'monneay', 'mhonney', 'monnety', 'monneyb', 'monaey', 'moyney', 'mounney', 'monnea', 'monaney', 'fonney', 'moynney', 'monneyp', 'monrney', 'munney', 'molney', 'mohnney', 'monnmey', 'mtnney', 'monnye', 'mpnney', 'omnney', 'manney', 'monqey', 'mononey', 'monnxy', 'movnney', 'kmonney', 'moxnney', 'monsney', 'monnsy', 'mionney', 'emonney', 'minney', 'mtonney', 'menney'}\n"
     ]
    }
   ],
   "source": [
    "print(len(set(edits_one(\"monney\"))))\n",
    "print(edits_one(\"monney\"))"
   ]
  },
  {
   "cell_type": "code",
   "execution_count": 15,
   "metadata": {},
   "outputs": [
    {
     "name": "stdout",
     "output_type": "stream",
     "text": [
      "{'money', 'monkey'}\n"
     ]
    }
   ],
   "source": [
    "print(known(edits_one(\"monney\")))"
   ]
  },
  {
   "cell_type": "code",
   "execution_count": 16,
   "metadata": {},
   "outputs": [
    {
     "name": "stdout",
     "output_type": "stream",
     "text": [
      "51013\n",
      "{'money', 'monkey'}\n"
     ]
    }
   ],
   "source": [
    "# Let's look at words that are two edits away\n",
    "print(len(set(edits_two(\"monney\"))))\n",
    "print(known(edits_one(\"monney\")))"
   ]
  },
  {
   "cell_type": "code",
   "execution_count": 28,
   "metadata": {},
   "outputs": [
    {
     "name": "stdout",
     "output_type": "stream",
     "text": [
      "{'emphasize'}\n"
     ]
    }
   ],
   "source": [
    "# Let's look at possible corrections of a word\n",
    "print(possible_corrections(\"emfasize\"))"
   ]
  },
  {
   "cell_type": "code",
   "execution_count": null,
   "metadata": {},
   "outputs": [],
   "source": [
    "print(possible_corrections(\"monney\"))"
   ]
  },
  {
   "cell_type": "code",
   "execution_count": 18,
   "metadata": {},
   "outputs": [
    {
     "name": "stdout",
     "output_type": "stream",
     "text": [
      "0.0002922233626303688\n",
      "5.378344097491451e-06\n"
     ]
    }
   ],
   "source": [
    "# Let's look at probability of a word\n",
    "print(prob(\"money\"))\n",
    "print(prob(\"monkey\"))"
   ]
  },
  {
   "cell_type": "code",
   "execution_count": 19,
   "metadata": {},
   "outputs": [],
   "source": [
    "def spell_check(word):\n",
    "    \"Print the most probable spelling correction for `word` out of all the `possible_corrections`\"\n",
    "    correct_word = max(possible_corrections(word), key=prob)\n",
    "    if correct_word != word:\n",
    "        return \"Did you mean \" + correct_word + \"?\"\n",
    "    else:\n",
    "        return \"Correct spelling.\""
   ]
  },
  {
   "cell_type": "code",
   "execution_count": 20,
   "metadata": {},
   "outputs": [
    {
     "name": "stdout",
     "output_type": "stream",
     "text": [
      "Did you mean money?\n"
     ]
    }
   ],
   "source": [
    "# test spell check\n",
    "print(spell_check(\"monney\"))"
   ]
  }
 ],
 "metadata": {
  "kernelspec": {
   "display_name": "Python 3",
   "language": "python",
   "name": "python3"
  },
  "language_info": {
   "codemirror_mode": {
    "name": "ipython",
    "version": 3
   },
   "file_extension": ".py",
   "mimetype": "text/x-python",
   "name": "python",
   "nbconvert_exporter": "python",
   "pygments_lexer": "ipython3",
   "version": "3.8.3"
  }
 },
 "nbformat": 4,
 "nbformat_minor": 2
}
