{
 "cells": [
  {
   "cell_type": "markdown",
   "metadata": {},
   "source": [
    "## Notebook Structure\n",
    "- Load and understand data\n",
    "- Data cleaning and preprocessing\n",
    "    - lemmatization\n",
    "    - pos tagging\n",
    "    - regex filtering\n",
    "- Data Visualisation\n",
    "    - character lengeth distribution\n",
    "    - word cloud\n",
    "    - unigram, bigram, trigram\n",
    "- Feature Extraction\n",
    "    - TF-IDF\n",
    "- Topic Modelling\n",
    "    - NMF\n",
    "- Model building and Inference\n",
    "    - Logistic regression\n",
    "    - Decision Tree\n",
    "    - Random Forest"
   ]
  },
  {
   "cell_type": "markdown",
   "metadata": {
    "id": "rhR-ZUkwJrFn"
   },
   "source": [
    "## Problem Statement \n",
    "\n",
    "You need to build a model that is able to classify customer complaints based on the products/services. By doing so, you can segregate these tickets into their relevant categories and, therefore, help in the quick resolution of the issue.\n",
    "\n",
    "You will be doing topic modelling on the <b>.json</b> data provided by the company. Since this data is not labelled, you need to apply NMF to analyse patterns and classify tickets into the following five clusters based on their products/services:\n",
    "\n",
    "* Credit card / Prepaid card\n",
    "\n",
    "* Bank account services\n",
    "\n",
    "* Theft/Dispute reporting\n",
    "\n",
    "* Mortgages/loans\n",
    "\n",
    "* Others \n",
    "\n",
    "\n",
    "With the help of topic modelling, you will be able to map each ticket onto its respective department/category. You can then use this data to train any supervised model such as logistic regression, decision tree or random forest. Using this trained model, you can classify any new customer complaint support ticket into its relevant department."
   ]
  },
  {
   "cell_type": "markdown",
   "metadata": {
    "id": "mcgXVNyaLUFS"
   },
   "source": [
    "## Pipelines that needs to be performed:\n",
    "\n",
    "You need to perform the following eight major tasks to complete the assignment:\n",
    "\n",
    "1.  Data loading\n",
    "\n",
    "2. Text preprocessing\n",
    "\n",
    "3. Exploratory data analysis (EDA)\n",
    "\n",
    "4. Feature extraction\n",
    "\n",
    "5. Topic modelling \n",
    "\n",
    "6. Model building using supervised learning\n",
    "\n",
    "7. Model training and evaluation\n",
    "\n",
    "8. Model inference"
   ]
  },
  {
   "cell_type": "markdown",
   "metadata": {
    "id": "JuLFIymAL58u"
   },
   "source": [
    "## Importing the necessary libraries"
   ]
  },
  {
   "cell_type": "code",
   "execution_count": 5,
   "metadata": {
    "id": "O-Q9pqrcJrFr"
   },
   "outputs": [],
   "source": [
    "import json \n",
    "import numpy as np\n",
    "import pandas as pd\n",
    "import re, nltk, spacy, string\n",
    "import en_core_web_sm\n",
    "nlp = en_core_web_sm.load()\n",
    "import seaborn as sns\n",
    "sns.set_style('darkgrid')\n",
    "import matplotlib.pyplot as plt\n",
    "%matplotlib inline\n",
    "plt.style.use('default')\n",
    "from plotly.offline import plot\n",
    "import plotly.graph_objects as go\n",
    "import plotly.express as px\n",
    "\n",
    "from sklearn.feature_extraction.text import CountVectorizer, TfidfVectorizer\n",
    "from pprint import pprint\n",
    "from wordcloud import WordCloud\n",
    "from nltk.util import ngrams\n",
    "\n",
    "from sklearn.model_selection import train_test_split\n",
    "from sklearn.linear_model import LogisticRegression\n",
    "from sklearn.ensemble import RandomForestClassifier\n",
    "from sklearn.metrics import confusion_matrix\n",
    "from sklearn import metrics\n",
    "from sklearn.metrics import accuracy_score, classification_report\n",
    "\n",
    "import warnings\n",
    "warnings.filterwarnings('ignore')"
   ]
  },
  {
   "cell_type": "markdown",
   "metadata": {
    "id": "KtRLCsNVJrFt"
   },
   "source": [
    "## Loading the data\n",
    "\n",
    "The data is in JSON format and we need to convert it to a dataframe."
   ]
  },
  {
   "cell_type": "code",
   "execution_count": 6,
   "metadata": {},
   "outputs": [],
   "source": [
    "# pip install wordcloud"
   ]
  },
  {
   "cell_type": "code",
   "execution_count": 7,
   "metadata": {
    "id": "puVzIf_iJrFt"
   },
   "outputs": [],
   "source": [
    "# Opening JSON file \n",
    "f = open('complaints-2021-05-14_08_16.json')# Write the path to your data file and load it \n",
    "  \n",
    "# returns JSON object as  \n",
    "# a dictionary \n",
    "data = json.load(f)\n",
    "df=pd.json_normalize(data)"
   ]
  },
  {
   "cell_type": "markdown",
   "metadata": {
    "id": "_xYpH-sAJrFu"
   },
   "source": [
    "## Data preparation"
   ]
  },
  {
   "cell_type": "code",
   "execution_count": 8,
   "metadata": {
    "id": "Lf8ufHH5JrFu"
   },
   "outputs": [
    {
     "name": "stdout",
     "output_type": "stream",
     "text": [
      "(78313, 22)\n"
     ]
    },
    {
     "data": {
      "text/html": [
       "<div>\n",
       "<style scoped>\n",
       "    .dataframe tbody tr th:only-of-type {\n",
       "        vertical-align: middle;\n",
       "    }\n",
       "\n",
       "    .dataframe tbody tr th {\n",
       "        vertical-align: top;\n",
       "    }\n",
       "\n",
       "    .dataframe thead th {\n",
       "        text-align: right;\n",
       "    }\n",
       "</style>\n",
       "<table border=\"1\" class=\"dataframe\">\n",
       "  <thead>\n",
       "    <tr style=\"text-align: right;\">\n",
       "      <th></th>\n",
       "      <th>_index</th>\n",
       "      <th>_type</th>\n",
       "      <th>_id</th>\n",
       "      <th>_score</th>\n",
       "      <th>_source.tags</th>\n",
       "      <th>_source.zip_code</th>\n",
       "      <th>_source.complaint_id</th>\n",
       "      <th>_source.issue</th>\n",
       "      <th>_source.date_received</th>\n",
       "      <th>_source.state</th>\n",
       "      <th>...</th>\n",
       "      <th>_source.company_response</th>\n",
       "      <th>_source.company</th>\n",
       "      <th>_source.submitted_via</th>\n",
       "      <th>_source.date_sent_to_company</th>\n",
       "      <th>_source.company_public_response</th>\n",
       "      <th>_source.sub_product</th>\n",
       "      <th>_source.timely</th>\n",
       "      <th>_source.complaint_what_happened</th>\n",
       "      <th>_source.sub_issue</th>\n",
       "      <th>_source.consumer_consent_provided</th>\n",
       "    </tr>\n",
       "  </thead>\n",
       "  <tbody>\n",
       "    <tr>\n",
       "      <th>0</th>\n",
       "      <td>complaint-public-v2</td>\n",
       "      <td>complaint</td>\n",
       "      <td>3211475</td>\n",
       "      <td>0.0</td>\n",
       "      <td>None</td>\n",
       "      <td>90301</td>\n",
       "      <td>3211475</td>\n",
       "      <td>Attempts to collect debt not owed</td>\n",
       "      <td>2019-04-13T12:00:00-05:00</td>\n",
       "      <td>CA</td>\n",
       "      <td>...</td>\n",
       "      <td>Closed with explanation</td>\n",
       "      <td>JPMORGAN CHASE &amp; CO.</td>\n",
       "      <td>Web</td>\n",
       "      <td>2019-04-13T12:00:00-05:00</td>\n",
       "      <td>None</td>\n",
       "      <td>Credit card debt</td>\n",
       "      <td>Yes</td>\n",
       "      <td></td>\n",
       "      <td>Debt is not yours</td>\n",
       "      <td>Consent not provided</td>\n",
       "    </tr>\n",
       "    <tr>\n",
       "      <th>1</th>\n",
       "      <td>complaint-public-v2</td>\n",
       "      <td>complaint</td>\n",
       "      <td>3229299</td>\n",
       "      <td>0.0</td>\n",
       "      <td>Servicemember</td>\n",
       "      <td>319XX</td>\n",
       "      <td>3229299</td>\n",
       "      <td>Written notification about debt</td>\n",
       "      <td>2019-05-01T12:00:00-05:00</td>\n",
       "      <td>GA</td>\n",
       "      <td>...</td>\n",
       "      <td>Closed with explanation</td>\n",
       "      <td>JPMORGAN CHASE &amp; CO.</td>\n",
       "      <td>Web</td>\n",
       "      <td>2019-05-01T12:00:00-05:00</td>\n",
       "      <td>None</td>\n",
       "      <td>Credit card debt</td>\n",
       "      <td>Yes</td>\n",
       "      <td>Good morning my name is XXXX XXXX and I apprec...</td>\n",
       "      <td>Didn't receive enough information to verify debt</td>\n",
       "      <td>Consent provided</td>\n",
       "    </tr>\n",
       "    <tr>\n",
       "      <th>2</th>\n",
       "      <td>complaint-public-v2</td>\n",
       "      <td>complaint</td>\n",
       "      <td>3199379</td>\n",
       "      <td>0.0</td>\n",
       "      <td>None</td>\n",
       "      <td>77069</td>\n",
       "      <td>3199379</td>\n",
       "      <td>Other features, terms, or problems</td>\n",
       "      <td>2019-04-02T12:00:00-05:00</td>\n",
       "      <td>TX</td>\n",
       "      <td>...</td>\n",
       "      <td>Closed with explanation</td>\n",
       "      <td>JPMORGAN CHASE &amp; CO.</td>\n",
       "      <td>Web</td>\n",
       "      <td>2019-04-02T12:00:00-05:00</td>\n",
       "      <td>None</td>\n",
       "      <td>General-purpose credit card or charge card</td>\n",
       "      <td>Yes</td>\n",
       "      <td>I upgraded my XXXX XXXX card in XX/XX/2018 and...</td>\n",
       "      <td>Problem with rewards from credit card</td>\n",
       "      <td>Consent provided</td>\n",
       "    </tr>\n",
       "    <tr>\n",
       "      <th>3</th>\n",
       "      <td>complaint-public-v2</td>\n",
       "      <td>complaint</td>\n",
       "      <td>2673060</td>\n",
       "      <td>0.0</td>\n",
       "      <td>None</td>\n",
       "      <td>48066</td>\n",
       "      <td>2673060</td>\n",
       "      <td>Trouble during payment process</td>\n",
       "      <td>2017-09-13T12:00:00-05:00</td>\n",
       "      <td>MI</td>\n",
       "      <td>...</td>\n",
       "      <td>Closed with explanation</td>\n",
       "      <td>JPMORGAN CHASE &amp; CO.</td>\n",
       "      <td>Web</td>\n",
       "      <td>2017-09-14T12:00:00-05:00</td>\n",
       "      <td>None</td>\n",
       "      <td>Conventional home mortgage</td>\n",
       "      <td>Yes</td>\n",
       "      <td></td>\n",
       "      <td>None</td>\n",
       "      <td>Consent not provided</td>\n",
       "    </tr>\n",
       "    <tr>\n",
       "      <th>4</th>\n",
       "      <td>complaint-public-v2</td>\n",
       "      <td>complaint</td>\n",
       "      <td>3203545</td>\n",
       "      <td>0.0</td>\n",
       "      <td>None</td>\n",
       "      <td>10473</td>\n",
       "      <td>3203545</td>\n",
       "      <td>Fees or interest</td>\n",
       "      <td>2019-04-05T12:00:00-05:00</td>\n",
       "      <td>NY</td>\n",
       "      <td>...</td>\n",
       "      <td>Closed with explanation</td>\n",
       "      <td>JPMORGAN CHASE &amp; CO.</td>\n",
       "      <td>Referral</td>\n",
       "      <td>2019-04-05T12:00:00-05:00</td>\n",
       "      <td>None</td>\n",
       "      <td>General-purpose credit card or charge card</td>\n",
       "      <td>Yes</td>\n",
       "      <td></td>\n",
       "      <td>Charged too much interest</td>\n",
       "      <td>N/A</td>\n",
       "    </tr>\n",
       "  </tbody>\n",
       "</table>\n",
       "<p>5 rows × 22 columns</p>\n",
       "</div>"
      ],
      "text/plain": [
       "                _index      _type      _id  _score   _source.tags  \\\n",
       "0  complaint-public-v2  complaint  3211475     0.0           None   \n",
       "1  complaint-public-v2  complaint  3229299     0.0  Servicemember   \n",
       "2  complaint-public-v2  complaint  3199379     0.0           None   \n",
       "3  complaint-public-v2  complaint  2673060     0.0           None   \n",
       "4  complaint-public-v2  complaint  3203545     0.0           None   \n",
       "\n",
       "  _source.zip_code _source.complaint_id                       _source.issue  \\\n",
       "0            90301              3211475   Attempts to collect debt not owed   \n",
       "1            319XX              3229299     Written notification about debt   \n",
       "2            77069              3199379  Other features, terms, or problems   \n",
       "3            48066              2673060      Trouble during payment process   \n",
       "4            10473              3203545                    Fees or interest   \n",
       "\n",
       "       _source.date_received _source.state  ... _source.company_response  \\\n",
       "0  2019-04-13T12:00:00-05:00            CA  ...  Closed with explanation   \n",
       "1  2019-05-01T12:00:00-05:00            GA  ...  Closed with explanation   \n",
       "2  2019-04-02T12:00:00-05:00            TX  ...  Closed with explanation   \n",
       "3  2017-09-13T12:00:00-05:00            MI  ...  Closed with explanation   \n",
       "4  2019-04-05T12:00:00-05:00            NY  ...  Closed with explanation   \n",
       "\n",
       "        _source.company _source.submitted_via _source.date_sent_to_company  \\\n",
       "0  JPMORGAN CHASE & CO.                   Web    2019-04-13T12:00:00-05:00   \n",
       "1  JPMORGAN CHASE & CO.                   Web    2019-05-01T12:00:00-05:00   \n",
       "2  JPMORGAN CHASE & CO.                   Web    2019-04-02T12:00:00-05:00   \n",
       "3  JPMORGAN CHASE & CO.                   Web    2017-09-14T12:00:00-05:00   \n",
       "4  JPMORGAN CHASE & CO.              Referral    2019-04-05T12:00:00-05:00   \n",
       "\n",
       "  _source.company_public_response                         _source.sub_product  \\\n",
       "0                            None                            Credit card debt   \n",
       "1                            None                            Credit card debt   \n",
       "2                            None  General-purpose credit card or charge card   \n",
       "3                            None                  Conventional home mortgage   \n",
       "4                            None  General-purpose credit card or charge card   \n",
       "\n",
       "  _source.timely                    _source.complaint_what_happened  \\\n",
       "0            Yes                                                      \n",
       "1            Yes  Good morning my name is XXXX XXXX and I apprec...   \n",
       "2            Yes  I upgraded my XXXX XXXX card in XX/XX/2018 and...   \n",
       "3            Yes                                                      \n",
       "4            Yes                                                      \n",
       "\n",
       "                                  _source.sub_issue  \\\n",
       "0                                 Debt is not yours   \n",
       "1  Didn't receive enough information to verify debt   \n",
       "2             Problem with rewards from credit card   \n",
       "3                                              None   \n",
       "4                         Charged too much interest   \n",
       "\n",
       "  _source.consumer_consent_provided  \n",
       "0              Consent not provided  \n",
       "1                  Consent provided  \n",
       "2                  Consent provided  \n",
       "3              Consent not provided  \n",
       "4                               N/A  \n",
       "\n",
       "[5 rows x 22 columns]"
      ]
     },
     "execution_count": 8,
     "metadata": {},
     "output_type": "execute_result"
    }
   ],
   "source": [
    "# Inspect the dataframe to understand the given data.\n",
    "print(df.shape)\n",
    "df.head()"
   ]
  },
  {
   "cell_type": "code",
   "execution_count": 9,
   "metadata": {
    "id": "Dwcty-wmJrFw"
   },
   "outputs": [
    {
     "data": {
      "text/plain": [
       "Index(['_index', '_type', '_id', '_score', '_source.tags', '_source.zip_code',\n",
       "       '_source.complaint_id', '_source.issue', '_source.date_received',\n",
       "       '_source.state', '_source.consumer_disputed', '_source.product',\n",
       "       '_source.company_response', '_source.company', '_source.submitted_via',\n",
       "       '_source.date_sent_to_company', '_source.company_public_response',\n",
       "       '_source.sub_product', '_source.timely',\n",
       "       '_source.complaint_what_happened', '_source.sub_issue',\n",
       "       '_source.consumer_consent_provided'],\n",
       "      dtype='object')"
      ]
     },
     "execution_count": 9,
     "metadata": {},
     "output_type": "execute_result"
    }
   ],
   "source": [
    "#print the column names\n",
    "df.columns"
   ]
  },
  {
   "cell_type": "code",
   "execution_count": 12,
   "metadata": {},
   "outputs": [],
   "source": [
    "#Fucntion to remove the '_source.' preceding text from few columns\n",
    "def set_new_column_name(old_col):\n",
    "    new_col = old_col.replace('_source.','')\n",
    "    df.rename(columns = {old_col: new_col},inplace=True)"
   ]
  },
  {
   "cell_type": "code",
   "execution_count": 13,
   "metadata": {
    "id": "FYCtKXD1JrFw"
   },
   "outputs": [
    {
     "data": {
      "text/plain": [
       "Index(['_index', '_type', '_id', '_score', 'tags', 'zip_code', 'complaint_id',\n",
       "       'issue', 'date_received', 'state', 'consumer_disputed', 'product',\n",
       "       'company_response', 'company', 'submitted_via', 'date_sent_to_company',\n",
       "       'company_public_response', 'sub_product', 'timely',\n",
       "       'complaint_what_happened', 'sub_issue', 'consumer_consent_provided'],\n",
       "      dtype='object')"
      ]
     },
     "execution_count": 13,
     "metadata": {},
     "output_type": "execute_result"
    }
   ],
   "source": [
    "#Assign new column names\n",
    "for col in df.columns:\n",
    "    set_new_column_name(col)\n",
    "df.columns"
   ]
  },
  {
   "cell_type": "code",
   "execution_count": 16,
   "metadata": {},
   "outputs": [],
   "source": [
    "#Rename the complaint column\n",
    "df.rename(columns ={'complaint_what_happened': 'complaint'}, inplace =True)"
   ]
  },
  {
   "cell_type": "code",
   "execution_count": 17,
   "metadata": {
    "id": "grQUPFL5JrFx"
   },
   "outputs": [
    {
     "data": {
      "text/plain": [
       "57241"
      ]
     },
     "execution_count": 17,
     "metadata": {},
     "output_type": "execute_result"
    }
   ],
   "source": [
    "#Assign nan in place of blanks in the complaints column\n",
    "len(df[df['complaint']==''])"
   ]
  },
  {
   "cell_type": "code",
   "execution_count": 18,
   "metadata": {},
   "outputs": [
    {
     "data": {
      "text/plain": [
       "0"
      ]
     },
     "execution_count": 18,
     "metadata": {},
     "output_type": "execute_result"
    }
   ],
   "source": [
    "df.complaint = df.complaint.apply(lambda x : np.nan if len(str(x).strip()) == 0 else x)\n",
    "len(df[df.complaint == ''])"
   ]
  },
  {
   "cell_type": "code",
   "execution_count": 70,
   "metadata": {
    "id": "Jfxd8VSmJrFy"
   },
   "outputs": [
    {
     "data": {
      "text/plain": [
       "21072"
      ]
     },
     "execution_count": 70,
     "metadata": {},
     "output_type": "execute_result"
    }
   ],
   "source": [
    "#Remove all rows where complaints column is nan\n",
    "df = df[df['complaint'].notna()]\n",
    "len(df)"
   ]
  },
  {
   "cell_type": "code",
   "execution_count": 20,
   "metadata": {},
   "outputs": [],
   "source": [
    "df = df[[\"complaint\"]].copy()"
   ]
  },
  {
   "cell_type": "code",
   "execution_count": 21,
   "metadata": {},
   "outputs": [
    {
     "data": {
      "text/html": [
       "<div>\n",
       "<style scoped>\n",
       "    .dataframe tbody tr th:only-of-type {\n",
       "        vertical-align: middle;\n",
       "    }\n",
       "\n",
       "    .dataframe tbody tr th {\n",
       "        vertical-align: top;\n",
       "    }\n",
       "\n",
       "    .dataframe thead th {\n",
       "        text-align: right;\n",
       "    }\n",
       "</style>\n",
       "<table border=\"1\" class=\"dataframe\">\n",
       "  <thead>\n",
       "    <tr style=\"text-align: right;\">\n",
       "      <th></th>\n",
       "      <th>complaint</th>\n",
       "    </tr>\n",
       "  </thead>\n",
       "  <tbody>\n",
       "    <tr>\n",
       "      <th>1</th>\n",
       "      <td>Good morning my name is XXXX XXXX and I apprec...</td>\n",
       "    </tr>\n",
       "    <tr>\n",
       "      <th>2</th>\n",
       "      <td>I upgraded my XXXX XXXX card in XX/XX/2018 and...</td>\n",
       "    </tr>\n",
       "    <tr>\n",
       "      <th>10</th>\n",
       "      <td>Chase Card was reported on XX/XX/2019. However...</td>\n",
       "    </tr>\n",
       "    <tr>\n",
       "      <th>11</th>\n",
       "      <td>On XX/XX/2018, while trying to book a XXXX  XX...</td>\n",
       "    </tr>\n",
       "    <tr>\n",
       "      <th>14</th>\n",
       "      <td>my grand son give me check for {$1600.00} i de...</td>\n",
       "    </tr>\n",
       "  </tbody>\n",
       "</table>\n",
       "</div>"
      ],
      "text/plain": [
       "                                            complaint\n",
       "1   Good morning my name is XXXX XXXX and I apprec...\n",
       "2   I upgraded my XXXX XXXX card in XX/XX/2018 and...\n",
       "10  Chase Card was reported on XX/XX/2019. However...\n",
       "11  On XX/XX/2018, while trying to book a XXXX  XX...\n",
       "14  my grand son give me check for {$1600.00} i de..."
      ]
     },
     "execution_count": 21,
     "metadata": {},
     "output_type": "execute_result"
    }
   ],
   "source": [
    "df.head()"
   ]
  },
  {
   "cell_type": "markdown",
   "metadata": {
    "id": "L944HZpsJrFy"
   },
   "source": [
    "## Data Preprocessing (Lemmatization and Topic Modelling)\n",
    "\n",
    "Once you have removed all the blank complaints, you need to:\n",
    "\n",
    "* Make the text lowercase\n",
    "* Remove text in square brackets\n",
    "* Remove punctuation\n",
    "* Remove words containing numbers\n",
    "\n",
    "\n",
    "Once you have done these cleaning operations you need to perform the following:\n",
    "* Lemmatize the texts\n",
    "* Use POS tags to get relevant words from the texts.\n"
   ]
  },
  {
   "cell_type": "code",
   "execution_count": 141,
   "metadata": {
    "id": "qm7SjjSkJrFz"
   },
   "outputs": [
    {
     "data": {
      "text/html": [
       "<div>\n",
       "<style scoped>\n",
       "    .dataframe tbody tr th:only-of-type {\n",
       "        vertical-align: middle;\n",
       "    }\n",
       "\n",
       "    .dataframe tbody tr th {\n",
       "        vertical-align: top;\n",
       "    }\n",
       "\n",
       "    .dataframe thead th {\n",
       "        text-align: right;\n",
       "    }\n",
       "</style>\n",
       "<table border=\"1\" class=\"dataframe\">\n",
       "  <thead>\n",
       "    <tr style=\"text-align: right;\">\n",
       "      <th></th>\n",
       "      <th>complaint</th>\n",
       "      <th>preprocessed</th>\n",
       "      <th>tokens</th>\n",
       "      <th>tokens_with_pos</th>\n",
       "    </tr>\n",
       "  </thead>\n",
       "  <tbody>\n",
       "    <tr>\n",
       "      <th>1</th>\n",
       "      <td>Good morning my name is XXXX XXXX and I apprec...</td>\n",
       "      <td>good morning my name is xxxx xxxx and i apprec...</td>\n",
       "      <td>[morning, name, stop, bank, cardmember, servic...</td>\n",
       "      <td>[morning:NOUN, name:NOUN, stop:NOUN, bank:NOUN...</td>\n",
       "    </tr>\n",
       "    <tr>\n",
       "      <th>2</th>\n",
       "      <td>I upgraded my XXXX XXXX card in XX/XX/2018 and...</td>\n",
       "      <td>i upgraded my xxxx xxxx card in xx/xx/2018 and...</td>\n",
       "      <td>[card, agent, upgrade, anniversary, date, agen...</td>\n",
       "      <td>[card:NOUN, agent:NOUN, upgrade:NOUN, annivers...</td>\n",
       "    </tr>\n",
       "    <tr>\n",
       "      <th>10</th>\n",
       "      <td>Chase Card was reported on XX/XX/2019. However...</td>\n",
       "      <td>chase card was reported on xx/xx/2019. however...</td>\n",
       "      <td>[chase, card, application, identity, consent, ...</td>\n",
       "      <td>[chase:NOUN, card:NOUN, application:NOUN, iden...</td>\n",
       "    </tr>\n",
       "    <tr>\n",
       "      <th>11</th>\n",
       "      <td>On XX/XX/2018, while trying to book a XXXX  XX...</td>\n",
       "      <td>on xx/xx/2018, while trying to book a xxxx  xx...</td>\n",
       "      <td>[ticket, offer, ticket, reward, card, informat...</td>\n",
       "      <td>[ticket:NOUN, offer:NOUN, ticket:NOUN, reward:...</td>\n",
       "    </tr>\n",
       "    <tr>\n",
       "      <th>14</th>\n",
       "      <td>my grand son give me check for {$1600.00} i de...</td>\n",
       "      <td>my grand son give me check for {$1600.00} i de...</td>\n",
       "      <td>[son, check, chase, account, fund, chase, bank...</td>\n",
       "      <td>[son:NOUN, check:NOUN, chase:NOUN, account:NOU...</td>\n",
       "    </tr>\n",
       "  </tbody>\n",
       "</table>\n",
       "</div>"
      ],
      "text/plain": [
       "                                            complaint  \\\n",
       "1   Good morning my name is XXXX XXXX and I apprec...   \n",
       "2   I upgraded my XXXX XXXX card in XX/XX/2018 and...   \n",
       "10  Chase Card was reported on XX/XX/2019. However...   \n",
       "11  On XX/XX/2018, while trying to book a XXXX  XX...   \n",
       "14  my grand son give me check for {$1600.00} i de...   \n",
       "\n",
       "                                         preprocessed  \\\n",
       "1   good morning my name is xxxx xxxx and i apprec...   \n",
       "2   i upgraded my xxxx xxxx card in xx/xx/2018 and...   \n",
       "10  chase card was reported on xx/xx/2019. however...   \n",
       "11  on xx/xx/2018, while trying to book a xxxx  xx...   \n",
       "14  my grand son give me check for {$1600.00} i de...   \n",
       "\n",
       "                                               tokens  \\\n",
       "1   [morning, name, stop, bank, cardmember, servic...   \n",
       "2   [card, agent, upgrade, anniversary, date, agen...   \n",
       "10  [chase, card, application, identity, consent, ...   \n",
       "11  [ticket, offer, ticket, reward, card, informat...   \n",
       "14  [son, check, chase, account, fund, chase, bank...   \n",
       "\n",
       "                                      tokens_with_pos  \n",
       "1   [morning:NOUN, name:NOUN, stop:NOUN, bank:NOUN...  \n",
       "2   [card:NOUN, agent:NOUN, upgrade:NOUN, annivers...  \n",
       "10  [chase:NOUN, card:NOUN, application:NOUN, iden...  \n",
       "11  [ticket:NOUN, offer:NOUN, ticket:NOUN, reward:...  \n",
       "14  [son:NOUN, check:NOUN, chase:NOUN, account:NOU...  "
      ]
     },
     "execution_count": 141,
     "metadata": {},
     "output_type": "execute_result"
    }
   ],
   "source": [
    "# Write your function here to clean the text and remove all the unnecessary elements.\n",
    "\n",
    "def clean(df, col_name):\n",
    "    \n",
    "    def preprocess(row, pattern = r'\\b(x)+\\b'):\n",
    "        '''\n",
    "            skips punctuations and alphanumeric words\n",
    "            adds lemmatized word\n",
    "        '''\n",
    "        words = []\n",
    "        words_with_pos = []\n",
    "        for token in nlp(row['preprocessed']):\n",
    "            lemma = token.lemma_\n",
    "            pos = token.pos_\n",
    "            \n",
    "            if pos == 'PUNCT' or not lemma.isalpha() or pos != 'NOUN':\n",
    "                continue\n",
    "                \n",
    "            if re.match(pattern, lemma):\n",
    "                continue\n",
    "            \n",
    "            words.append(lemma)\n",
    "            words_with_pos.append('{}:{}'.format(lemma, pos))\n",
    "            \n",
    "        row['tokens'] = words\n",
    "        row['tokens_with_pos'] = words_with_pos\n",
    "        return row\n",
    "                        \n",
    "    # change case to lower\n",
    "    df['preprocessed'] = df[col_name].str.lower()\n",
    "    \n",
    "    # remove text in square brackets \n",
    "    df['preprocessed'] = df['preprocessed'].replace('\\[(.*?)\\]', '', regex=True)\n",
    "    \n",
    "    # tokenize sentence into words and words with pos\n",
    "    df = df.apply(lambda row : preprocess(row), axis=1)\n",
    "    return df\n",
    "    \n",
    "df_clean = df.copy()\n",
    "df_clean = clean(df_clean, 'complaint')\n",
    "df_clean.head()"
   ]
  },
  {
   "cell_type": "code",
   "execution_count": 73,
   "metadata": {},
   "outputs": [
    {
     "data": {
      "text/plain": [
       "array(['I have no idea why Chase keep on rejecting my credit card applications for no good reasons. I have a credit score of XXXX and never been a single late payment. I had this offer for XXXX XXXX credit card with {$70.00} cash back via gift card. I Applied but rejected by Chase. \\nReached out to Chase multiple times - calls are getting dropped. they sent some online letter but i have no idea how to access it.'],\n",
       "      dtype=object)"
      ]
     },
     "execution_count": 73,
     "metadata": {},
     "output_type": "execute_result"
    }
   ],
   "source": [
    "df.complaint[317:318].values"
   ]
  },
  {
   "cell_type": "code",
   "execution_count": 584,
   "metadata": {
    "id": "zgOu8t8HJrFz"
   },
   "outputs": [],
   "source": [
    "#Write your function to Lemmatize the texts\n"
   ]
  },
  {
   "cell_type": "code",
   "execution_count": 585,
   "metadata": {
    "id": "uXnN7aa_JrF0"
   },
   "outputs": [],
   "source": [
    "#Create a dataframe('df_clean') that will have only the complaints and the lemmatized complaints \n"
   ]
  },
  {
   "cell_type": "code",
   "execution_count": 142,
   "metadata": {
    "id": "nOiDVvEIJrF0"
   },
   "outputs": [
    {
     "data": {
      "text/html": [
       "<div>\n",
       "<style scoped>\n",
       "    .dataframe tbody tr th:only-of-type {\n",
       "        vertical-align: middle;\n",
       "    }\n",
       "\n",
       "    .dataframe tbody tr th {\n",
       "        vertical-align: top;\n",
       "    }\n",
       "\n",
       "    .dataframe thead th {\n",
       "        text-align: right;\n",
       "    }\n",
       "</style>\n",
       "<table border=\"1\" class=\"dataframe\">\n",
       "  <thead>\n",
       "    <tr style=\"text-align: right;\">\n",
       "      <th></th>\n",
       "      <th>complaint</th>\n",
       "      <th>preprocessed</th>\n",
       "      <th>tokens</th>\n",
       "      <th>tokens_with_pos</th>\n",
       "    </tr>\n",
       "  </thead>\n",
       "  <tbody>\n",
       "    <tr>\n",
       "      <th>1</th>\n",
       "      <td>Good morning my name is XXXX XXXX and I apprec...</td>\n",
       "      <td>good morning my name is xxxx xxxx and i apprec...</td>\n",
       "      <td>[morning, name, stop, bank, cardmember, servic...</td>\n",
       "      <td>[morning:NOUN, name:NOUN, stop:NOUN, bank:NOUN...</td>\n",
       "    </tr>\n",
       "    <tr>\n",
       "      <th>2</th>\n",
       "      <td>I upgraded my XXXX XXXX card in XX/XX/2018 and...</td>\n",
       "      <td>i upgraded my xxxx xxxx card in xx/xx/2018 and...</td>\n",
       "      <td>[card, agent, upgrade, anniversary, date, agen...</td>\n",
       "      <td>[card:NOUN, agent:NOUN, upgrade:NOUN, annivers...</td>\n",
       "    </tr>\n",
       "    <tr>\n",
       "      <th>10</th>\n",
       "      <td>Chase Card was reported on XX/XX/2019. However...</td>\n",
       "      <td>chase card was reported on xx/xx/2019. however...</td>\n",
       "      <td>[chase, card, application, identity, consent, ...</td>\n",
       "      <td>[chase:NOUN, card:NOUN, application:NOUN, iden...</td>\n",
       "    </tr>\n",
       "    <tr>\n",
       "      <th>11</th>\n",
       "      <td>On XX/XX/2018, while trying to book a XXXX  XX...</td>\n",
       "      <td>on xx/xx/2018, while trying to book a xxxx  xx...</td>\n",
       "      <td>[ticket, offer, ticket, reward, card, informat...</td>\n",
       "      <td>[ticket:NOUN, offer:NOUN, ticket:NOUN, reward:...</td>\n",
       "    </tr>\n",
       "    <tr>\n",
       "      <th>14</th>\n",
       "      <td>my grand son give me check for {$1600.00} i de...</td>\n",
       "      <td>my grand son give me check for {$1600.00} i de...</td>\n",
       "      <td>[son, check, chase, account, fund, chase, bank...</td>\n",
       "      <td>[son:NOUN, check:NOUN, chase:NOUN, account:NOU...</td>\n",
       "    </tr>\n",
       "  </tbody>\n",
       "</table>\n",
       "</div>"
      ],
      "text/plain": [
       "                                            complaint  \\\n",
       "1   Good morning my name is XXXX XXXX and I apprec...   \n",
       "2   I upgraded my XXXX XXXX card in XX/XX/2018 and...   \n",
       "10  Chase Card was reported on XX/XX/2019. However...   \n",
       "11  On XX/XX/2018, while trying to book a XXXX  XX...   \n",
       "14  my grand son give me check for {$1600.00} i de...   \n",
       "\n",
       "                                         preprocessed  \\\n",
       "1   good morning my name is xxxx xxxx and i apprec...   \n",
       "2   i upgraded my xxxx xxxx card in xx/xx/2018 and...   \n",
       "10  chase card was reported on xx/xx/2019. however...   \n",
       "11  on xx/xx/2018, while trying to book a xxxx  xx...   \n",
       "14  my grand son give me check for {$1600.00} i de...   \n",
       "\n",
       "                                               tokens  \\\n",
       "1   [morning, name, stop, bank, cardmember, servic...   \n",
       "2   [card, agent, upgrade, anniversary, date, agen...   \n",
       "10  [chase, card, application, identity, consent, ...   \n",
       "11  [ticket, offer, ticket, reward, card, informat...   \n",
       "14  [son, check, chase, account, fund, chase, bank...   \n",
       "\n",
       "                                      tokens_with_pos  \n",
       "1   [morning:NOUN, name:NOUN, stop:NOUN, bank:NOUN...  \n",
       "2   [card:NOUN, agent:NOUN, upgrade:NOUN, annivers...  \n",
       "10  [chase:NOUN, card:NOUN, application:NOUN, iden...  \n",
       "11  [ticket:NOUN, offer:NOUN, ticket:NOUN, reward:...  \n",
       "14  [son:NOUN, check:NOUN, chase:NOUN, account:NOU...  "
      ]
     },
     "execution_count": 142,
     "metadata": {},
     "output_type": "execute_result"
    }
   ],
   "source": [
    "df_clean.head()"
   ]
  },
  {
   "cell_type": "code",
   "execution_count": 587,
   "metadata": {
    "id": "Kk7fc4DuJrF1"
   },
   "outputs": [],
   "source": [
    "#Write your function to extract the POS tags "
   ]
  },
  {
   "cell_type": "code",
   "execution_count": 143,
   "metadata": {
    "id": "AjxfchvFJrF2"
   },
   "outputs": [],
   "source": [
    "#The clean dataframe should now contain the raw complaint, lemmatized complaint and the complaint after removing POS tags.\n",
    "df_clean.drop(columns=['complaint'],axis=1,inplace=True)"
   ]
  },
  {
   "cell_type": "code",
   "execution_count": 144,
   "metadata": {},
   "outputs": [
    {
     "data": {
      "text/html": [
       "<div>\n",
       "<style scoped>\n",
       "    .dataframe tbody tr th:only-of-type {\n",
       "        vertical-align: middle;\n",
       "    }\n",
       "\n",
       "    .dataframe tbody tr th {\n",
       "        vertical-align: top;\n",
       "    }\n",
       "\n",
       "    .dataframe thead th {\n",
       "        text-align: right;\n",
       "    }\n",
       "</style>\n",
       "<table border=\"1\" class=\"dataframe\">\n",
       "  <thead>\n",
       "    <tr style=\"text-align: right;\">\n",
       "      <th></th>\n",
       "      <th>preprocessed</th>\n",
       "      <th>tokens</th>\n",
       "      <th>tokens_with_pos</th>\n",
       "    </tr>\n",
       "  </thead>\n",
       "  <tbody>\n",
       "    <tr>\n",
       "      <th>1</th>\n",
       "      <td>good morning my name is xxxx xxxx and i apprec...</td>\n",
       "      <td>[morning, name, stop, bank, cardmember, servic...</td>\n",
       "      <td>[morning:NOUN, name:NOUN, stop:NOUN, bank:NOUN...</td>\n",
       "    </tr>\n",
       "    <tr>\n",
       "      <th>2</th>\n",
       "      <td>i upgraded my xxxx xxxx card in xx/xx/2018 and...</td>\n",
       "      <td>[card, agent, upgrade, anniversary, date, agen...</td>\n",
       "      <td>[card:NOUN, agent:NOUN, upgrade:NOUN, annivers...</td>\n",
       "    </tr>\n",
       "    <tr>\n",
       "      <th>10</th>\n",
       "      <td>chase card was reported on xx/xx/2019. however...</td>\n",
       "      <td>[chase, card, application, identity, consent, ...</td>\n",
       "      <td>[chase:NOUN, card:NOUN, application:NOUN, iden...</td>\n",
       "    </tr>\n",
       "    <tr>\n",
       "      <th>11</th>\n",
       "      <td>on xx/xx/2018, while trying to book a xxxx  xx...</td>\n",
       "      <td>[ticket, offer, ticket, reward, card, informat...</td>\n",
       "      <td>[ticket:NOUN, offer:NOUN, ticket:NOUN, reward:...</td>\n",
       "    </tr>\n",
       "    <tr>\n",
       "      <th>14</th>\n",
       "      <td>my grand son give me check for {$1600.00} i de...</td>\n",
       "      <td>[son, check, chase, account, fund, chase, bank...</td>\n",
       "      <td>[son:NOUN, check:NOUN, chase:NOUN, account:NOU...</td>\n",
       "    </tr>\n",
       "  </tbody>\n",
       "</table>\n",
       "</div>"
      ],
      "text/plain": [
       "                                         preprocessed  \\\n",
       "1   good morning my name is xxxx xxxx and i apprec...   \n",
       "2   i upgraded my xxxx xxxx card in xx/xx/2018 and...   \n",
       "10  chase card was reported on xx/xx/2019. however...   \n",
       "11  on xx/xx/2018, while trying to book a xxxx  xx...   \n",
       "14  my grand son give me check for {$1600.00} i de...   \n",
       "\n",
       "                                               tokens  \\\n",
       "1   [morning, name, stop, bank, cardmember, servic...   \n",
       "2   [card, agent, upgrade, anniversary, date, agen...   \n",
       "10  [chase, card, application, identity, consent, ...   \n",
       "11  [ticket, offer, ticket, reward, card, informat...   \n",
       "14  [son, check, chase, account, fund, chase, bank...   \n",
       "\n",
       "                                      tokens_with_pos  \n",
       "1   [morning:NOUN, name:NOUN, stop:NOUN, bank:NOUN...  \n",
       "2   [card:NOUN, agent:NOUN, upgrade:NOUN, annivers...  \n",
       "10  [chase:NOUN, card:NOUN, application:NOUN, iden...  \n",
       "11  [ticket:NOUN, offer:NOUN, ticket:NOUN, reward:...  \n",
       "14  [son:NOUN, check:NOUN, chase:NOUN, account:NOU...  "
      ]
     },
     "execution_count": 144,
     "metadata": {},
     "output_type": "execute_result"
    }
   ],
   "source": [
    "df_clean.head()"
   ]
  },
  {
   "cell_type": "markdown",
   "metadata": {
    "id": "_7Un1AElJrF2"
   },
   "source": [
    "## Exploratory data analysis\n",
    "\n",
    "Write the code in this task to perform the following:\n",
    "\n",
    "*   Visualise the data according to the 'Complaint' character length\n",
    "*   Using a word cloud find the top 40 words by frequency among all the articles after processing the text\n",
    "*   Find the top unigrams,bigrams and trigrams by frequency among all the complaints after processing the text. ‘\n",
    "\n",
    "\n"
   ]
  },
  {
   "cell_type": "code",
   "execution_count": 145,
   "metadata": {},
   "outputs": [],
   "source": [
    "# Function to get sentecnce length\n",
    "df_clean[\"complaint_length\"] = df_clean[\"preprocessed\"].apply(lambda complain : len(str(complain)))"
   ]
  },
  {
   "cell_type": "code",
   "execution_count": 146,
   "metadata": {
    "id": "q-zaqJF6JrF2"
   },
   "outputs": [],
   "source": [
    "# Function to get word frequency in a sentence\n",
    "def check_word_frequency(text):\n",
    "    return len(str(text).split(' '))"
   ]
  },
  {
   "cell_type": "code",
   "execution_count": 147,
   "metadata": {},
   "outputs": [
    {
     "data": {
      "text/plain": [
       "253.87196279422932"
      ]
     },
     "execution_count": 147,
     "metadata": {},
     "output_type": "execute_result"
    }
   ],
   "source": [
    "df_clean['word_freq'] = df_clean['preprocessed'].apply(check_word_frequency)\n",
    "df_clean['word_freq'].mean()"
   ]
  },
  {
   "cell_type": "code",
   "execution_count": 148,
   "metadata": {},
   "outputs": [
    {
     "data": {
      "text/plain": [
       "count    21072.000000\n",
       "mean       253.871963\n",
       "std        271.628750\n",
       "min          1.000000\n",
       "25%         97.000000\n",
       "50%        181.000000\n",
       "75%        321.000000\n",
       "max       5526.000000\n",
       "Name: word_freq, dtype: float64"
      ]
     },
     "execution_count": 148,
     "metadata": {},
     "output_type": "execute_result"
    }
   ],
   "source": [
    "df_clean['word_freq'].describe()"
   ]
  },
  {
   "cell_type": "code",
   "execution_count": 149,
   "metadata": {},
   "outputs": [
    {
     "data": {
      "text/plain": [
       "count    21072.000000\n",
       "mean      1383.386105\n",
       "std       1500.584774\n",
       "min         19.000000\n",
       "25%        528.000000\n",
       "50%        983.000000\n",
       "75%       1738.000000\n",
       "max      31611.000000\n",
       "Name: complaint_length, dtype: float64"
      ]
     },
     "execution_count": 149,
     "metadata": {},
     "output_type": "execute_result"
    }
   ],
   "source": [
    "df_clean['complaint_length'].describe()"
   ]
  },
  {
   "cell_type": "code",
   "execution_count": 150,
   "metadata": {},
   "outputs": [
    {
     "data": {
      "image/png": "[encoded data removed]",
      "text/plain": [
       "<Figure size 300x500 with 1 Axes>"
      ]
     },
     "metadata": {},
     "output_type": "display_data"
    }
   ],
   "source": [
    "# Plot a boxplot of the word counts\n",
    "fig = plt.figure(figsize=(3,5))\n",
    "\n",
    "sns.boxplot(\n",
    "    df_clean['word_freq'],\n",
    "    orient='v',\n",
    "    width=.5,\n",
    "    color='#30105C'\n",
    ")\n",
    "plt.xlabel(\"Word Count\", fontsize=12)\n",
    "plt.title('Distribution - Word Count', fontsize=16)\n",
    "plt.yticks(np.arange(0, 100, 100))\n",
    "\n",
    "file_name = 'box_plot'\n",
    "'''\n",
    "fig.savefig(\n",
    "    file_path + file_name + '.png',\n",
    "    dpi=fig.dpi,\n",
    "    bbox_inches='tight'\n",
    ")\n",
    "'''\n",
    "plt.show()\n"
   ]
  },
  {
   "cell_type": "code",
   "execution_count": 151,
   "metadata": {},
   "outputs": [
    {
     "data": {
      "text/plain": [
       "<AxesSubplot:xlabel='complaint_length'>"
      ]
     },
     "execution_count": 151,
     "metadata": {},
     "output_type": "execute_result"
    },
    {
     "data": {
      "image/png": "[encoded data removed]",
      "text/plain": [
       "<Figure size 300x500 with 1 Axes>"
      ]
     },
     "metadata": {},
     "output_type": "display_data"
    }
   ],
   "source": [
    "# Plot a boxplot of the cpm\n",
    "fig = plt.figure(figsize=(3,5))\n",
    "sns.boxplot(df_clean['complaint_length'])"
   ]
  },
  {
   "cell_type": "markdown",
   "metadata": {
    "id": "T9jD_6SeJrF3"
   },
   "source": [
    "#### Find the top 40 words by frequency among all the articles after processing the text."
   ]
  },
  {
   "cell_type": "markdown",
   "metadata": {},
   "source": [
    "### WordCloud"
   ]
  },
  {
   "cell_type": "code",
   "execution_count": 152,
   "metadata": {
    "id": "QcfdvtfZJrF3"
   },
   "outputs": [
    {
     "data": {
      "text/plain": [
       "'chase card was reported on xx/xx/2019. however, fraudulent application have been submitted my identity without my consent to fraudulently obtain services. do not extend credit without verifying the identity of the applicant.'"
      ]
     },
     "execution_count": 152,
     "metadata": {},
     "output_type": "execute_result"
    }
   ],
   "source": [
    "#Using a word cloud find the top 40 words by frequency among all the articles after processing the text\n",
    "df_clean['preprocessed'][10]"
   ]
  },
  {
   "cell_type": "code",
   "execution_count": 153,
   "metadata": {},
   "outputs": [],
   "source": [
    "complaint_words = [word for word_list in df_clean['tokens'] for word in word_list]"
   ]
  },
  {
   "cell_type": "code",
   "execution_count": 154,
   "metadata": {},
   "outputs": [
    {
     "data": {
      "text/plain": [
       "1138122"
      ]
     },
     "execution_count": 154,
     "metadata": {},
     "output_type": "execute_result"
    }
   ],
   "source": [
    "len(complaint_words)"
   ]
  },
  {
   "cell_type": "code",
   "execution_count": 156,
   "metadata": {},
   "outputs": [],
   "source": [
    "# removing the 'xxxx' word\n",
    "complaint_words_list = [word for word in complaint_words if word != 'xxxx']"
   ]
  },
  {
   "cell_type": "code",
   "execution_count": 157,
   "metadata": {},
   "outputs": [
    {
     "data": {
      "text/plain": [
       "[('chase', 74018),\n",
       " ('account', 47660),\n",
       " ('credit', 32809),\n",
       " ('card', 30515),\n",
       " ('bank', 28075),\n",
       " ('payment', 21311),\n",
       " ('time', 16281),\n",
       " ('day', 13207),\n",
       " ('charge', 12254),\n",
       " ('money', 11980),\n",
       " ('loan', 11003),\n",
       " ('check', 10411),\n",
       " ('letter', 9700),\n",
       " ('information', 9670),\n",
       " ('fee', 8997),\n",
       " ('transaction', 8643),\n",
       " ('number', 8617),\n",
       " ('month', 8586),\n",
       " ('year', 8420),\n",
       " ('amount', 8317),\n",
       " ('mortgage', 8197),\n",
       " ('customer', 8189),\n",
       " ('balance', 7794),\n",
       " ('service', 7654),\n",
       " ('company', 7643),\n",
       " ('phone', 7594),\n",
       " ('fraud', 7175),\n",
       " ('report', 7066),\n",
       " ('fund', 7049),\n",
       " ('call', 6651),\n",
       " ('claim', 6590),\n",
       " ('business', 5630),\n",
       " ('email', 5482),\n",
       " ('interest', 5424),\n",
       " ('statement', 5282),\n",
       " ('issue', 5277),\n",
       " ('dispute', 5097),\n",
       " ('complaint', 5072),\n",
       " ('branch', 5031),\n",
       " ('date', 5026)]"
      ]
     },
     "execution_count": 157,
     "metadata": {},
     "output_type": "execute_result"
    }
   ],
   "source": [
    "nltk.FreqDist(complaint_words_list).most_common(40)"
   ]
  },
  {
   "cell_type": "code",
   "execution_count": 158,
   "metadata": {},
   "outputs": [],
   "source": [
    "word_dist = pd.DataFrame(nltk.FreqDist(complaint_words_list).items() ,columns = ['word','WordCount_pos'])\n",
    "word_dist = word_dist.set_index('word')"
   ]
  },
  {
   "cell_type": "code",
   "execution_count": 159,
   "metadata": {},
   "outputs": [],
   "source": [
    "most_freq_words = word_dist.sort_values(by='WordCount_pos',ascending=False)"
   ]
  },
  {
   "cell_type": "code",
   "execution_count": 160,
   "metadata": {},
   "outputs": [
    {
     "data": {
      "text/html": [
       "<div>\n",
       "<style scoped>\n",
       "    .dataframe tbody tr th:only-of-type {\n",
       "        vertical-align: middle;\n",
       "    }\n",
       "\n",
       "    .dataframe tbody tr th {\n",
       "        vertical-align: top;\n",
       "    }\n",
       "\n",
       "    .dataframe thead th {\n",
       "        text-align: right;\n",
       "    }\n",
       "</style>\n",
       "<table border=\"1\" class=\"dataframe\">\n",
       "  <thead>\n",
       "    <tr style=\"text-align: right;\">\n",
       "      <th></th>\n",
       "      <th>WordCount_pos</th>\n",
       "    </tr>\n",
       "    <tr>\n",
       "      <th>word</th>\n",
       "      <th></th>\n",
       "    </tr>\n",
       "  </thead>\n",
       "  <tbody>\n",
       "    <tr>\n",
       "      <th>chase</th>\n",
       "      <td>74018</td>\n",
       "    </tr>\n",
       "    <tr>\n",
       "      <th>account</th>\n",
       "      <td>47660</td>\n",
       "    </tr>\n",
       "    <tr>\n",
       "      <th>credit</th>\n",
       "      <td>32809</td>\n",
       "    </tr>\n",
       "    <tr>\n",
       "      <th>card</th>\n",
       "      <td>30515</td>\n",
       "    </tr>\n",
       "    <tr>\n",
       "      <th>bank</th>\n",
       "      <td>28075</td>\n",
       "    </tr>\n",
       "    <tr>\n",
       "      <th>payment</th>\n",
       "      <td>21311</td>\n",
       "    </tr>\n",
       "    <tr>\n",
       "      <th>time</th>\n",
       "      <td>16281</td>\n",
       "    </tr>\n",
       "    <tr>\n",
       "      <th>day</th>\n",
       "      <td>13207</td>\n",
       "    </tr>\n",
       "    <tr>\n",
       "      <th>charge</th>\n",
       "      <td>12254</td>\n",
       "    </tr>\n",
       "    <tr>\n",
       "      <th>money</th>\n",
       "      <td>11980</td>\n",
       "    </tr>\n",
       "    <tr>\n",
       "      <th>loan</th>\n",
       "      <td>11003</td>\n",
       "    </tr>\n",
       "    <tr>\n",
       "      <th>check</th>\n",
       "      <td>10411</td>\n",
       "    </tr>\n",
       "    <tr>\n",
       "      <th>letter</th>\n",
       "      <td>9700</td>\n",
       "    </tr>\n",
       "    <tr>\n",
       "      <th>information</th>\n",
       "      <td>9670</td>\n",
       "    </tr>\n",
       "    <tr>\n",
       "      <th>fee</th>\n",
       "      <td>8997</td>\n",
       "    </tr>\n",
       "    <tr>\n",
       "      <th>transaction</th>\n",
       "      <td>8643</td>\n",
       "    </tr>\n",
       "    <tr>\n",
       "      <th>number</th>\n",
       "      <td>8617</td>\n",
       "    </tr>\n",
       "    <tr>\n",
       "      <th>month</th>\n",
       "      <td>8586</td>\n",
       "    </tr>\n",
       "    <tr>\n",
       "      <th>year</th>\n",
       "      <td>8420</td>\n",
       "    </tr>\n",
       "    <tr>\n",
       "      <th>amount</th>\n",
       "      <td>8317</td>\n",
       "    </tr>\n",
       "    <tr>\n",
       "      <th>mortgage</th>\n",
       "      <td>8197</td>\n",
       "    </tr>\n",
       "    <tr>\n",
       "      <th>customer</th>\n",
       "      <td>8189</td>\n",
       "    </tr>\n",
       "    <tr>\n",
       "      <th>balance</th>\n",
       "      <td>7794</td>\n",
       "    </tr>\n",
       "    <tr>\n",
       "      <th>service</th>\n",
       "      <td>7654</td>\n",
       "    </tr>\n",
       "    <tr>\n",
       "      <th>company</th>\n",
       "      <td>7643</td>\n",
       "    </tr>\n",
       "    <tr>\n",
       "      <th>phone</th>\n",
       "      <td>7594</td>\n",
       "    </tr>\n",
       "    <tr>\n",
       "      <th>fraud</th>\n",
       "      <td>7175</td>\n",
       "    </tr>\n",
       "    <tr>\n",
       "      <th>report</th>\n",
       "      <td>7066</td>\n",
       "    </tr>\n",
       "    <tr>\n",
       "      <th>fund</th>\n",
       "      <td>7049</td>\n",
       "    </tr>\n",
       "    <tr>\n",
       "      <th>call</th>\n",
       "      <td>6651</td>\n",
       "    </tr>\n",
       "    <tr>\n",
       "      <th>claim</th>\n",
       "      <td>6590</td>\n",
       "    </tr>\n",
       "    <tr>\n",
       "      <th>business</th>\n",
       "      <td>5630</td>\n",
       "    </tr>\n",
       "    <tr>\n",
       "      <th>email</th>\n",
       "      <td>5482</td>\n",
       "    </tr>\n",
       "    <tr>\n",
       "      <th>interest</th>\n",
       "      <td>5424</td>\n",
       "    </tr>\n",
       "    <tr>\n",
       "      <th>statement</th>\n",
       "      <td>5282</td>\n",
       "    </tr>\n",
       "    <tr>\n",
       "      <th>issue</th>\n",
       "      <td>5277</td>\n",
       "    </tr>\n",
       "    <tr>\n",
       "      <th>dispute</th>\n",
       "      <td>5097</td>\n",
       "    </tr>\n",
       "    <tr>\n",
       "      <th>complaint</th>\n",
       "      <td>5072</td>\n",
       "    </tr>\n",
       "    <tr>\n",
       "      <th>branch</th>\n",
       "      <td>5031</td>\n",
       "    </tr>\n",
       "    <tr>\n",
       "      <th>date</th>\n",
       "      <td>5026</td>\n",
       "    </tr>\n",
       "  </tbody>\n",
       "</table>\n",
       "</div>"
      ],
      "text/plain": [
       "             WordCount_pos\n",
       "word                      \n",
       "chase                74018\n",
       "account              47660\n",
       "credit               32809\n",
       "card                 30515\n",
       "bank                 28075\n",
       "payment              21311\n",
       "time                 16281\n",
       "day                  13207\n",
       "charge               12254\n",
       "money                11980\n",
       "loan                 11003\n",
       "check                10411\n",
       "letter                9700\n",
       "information           9670\n",
       "fee                   8997\n",
       "transaction           8643\n",
       "number                8617\n",
       "month                 8586\n",
       "year                  8420\n",
       "amount                8317\n",
       "mortgage              8197\n",
       "customer              8189\n",
       "balance               7794\n",
       "service               7654\n",
       "company               7643\n",
       "phone                 7594\n",
       "fraud                 7175\n",
       "report                7066\n",
       "fund                  7049\n",
       "call                  6651\n",
       "claim                 6590\n",
       "business              5630\n",
       "email                 5482\n",
       "interest              5424\n",
       "statement             5282\n",
       "issue                 5277\n",
       "dispute               5097\n",
       "complaint             5072\n",
       "branch                5031\n",
       "date                  5026"
      ]
     },
     "execution_count": 160,
     "metadata": {},
     "output_type": "execute_result"
    }
   ],
   "source": [
    "most_freq_words.head(40)"
   ]
  },
  {
   "cell_type": "code",
   "execution_count": 161,
   "metadata": {},
   "outputs": [],
   "source": [
    "top40_words = most_freq_words.head(40).index"
   ]
  },
  {
   "cell_type": "code",
   "execution_count": 162,
   "metadata": {},
   "outputs": [
    {
     "data": {
      "text/plain": [
       "Index(['chase', 'account', 'credit', 'card', 'bank', 'payment', 'time', 'day',\n",
       "       'charge', 'money', 'loan', 'check', 'letter', 'information', 'fee',\n",
       "       'transaction', 'number', 'month', 'year', 'amount', 'mortgage',\n",
       "       'customer', 'balance', 'service', 'company', 'phone', 'fraud', 'report',\n",
       "       'fund', 'call', 'claim', 'business', 'email', 'interest', 'statement',\n",
       "       'issue', 'dispute', 'complaint', 'branch', 'date'],\n",
       "      dtype='object', name='word')"
      ]
     },
     "execution_count": 162,
     "metadata": {},
     "output_type": "execute_result"
    }
   ],
   "source": [
    "top40_words"
   ]
  },
  {
   "cell_type": "code",
   "execution_count": 163,
   "metadata": {},
   "outputs": [],
   "source": [
    "wordcloud = WordCloud(background_color = 'black', width = 800, height = 400,\n",
    "                      colormap = 'viridis', max_words = 180, contour_width = 3,\n",
    "                      max_font_size = 80, contour_color = 'steelblue',\n",
    "                      random_state = 0, collocations=False)"
   ]
  },
  {
   "cell_type": "code",
   "execution_count": 164,
   "metadata": {},
   "outputs": [],
   "source": [
    "text = ' '.join([w for w in complaint_words_list if w in top40_words.tolist()])"
   ]
  },
  {
   "cell_type": "code",
   "execution_count": 165,
   "metadata": {},
   "outputs": [
    {
     "data": {
      "text/plain": [
       "<matplotlib.image.AxesImage at 0x7f3d7f1b63a0>"
      ]
     },
     "execution_count": 165,
     "metadata": {},
     "output_type": "execute_result"
    },
    {
     "data": {
      "image/png": "[encoded data removed]",
      "text/plain": [
       "<Figure size 640x480 with 1 Axes>"
      ]
     },
     "metadata": {},
     "output_type": "display_data"
    }
   ],
   "source": [
    "wordcloud.generate(text)\n",
    "plt.imshow(wordcloud)"
   ]
  },
  {
   "cell_type": "code",
   "execution_count": 166,
   "metadata": {
    "id": "OkSmc3UaJrF4"
   },
   "outputs": [],
   "source": [
    "#Removing -PRON- from the text corpus\n",
    "# df_clean['Complaint_clean'] = df_clean['complaint_POS_removed'].str.replace('-PRON-', '')"
   ]
  },
  {
   "cell_type": "markdown",
   "metadata": {
    "id": "5DfCSbbmJrF4"
   },
   "source": [
    "#### Find the top unigrams,bigrams and trigrams by frequency among all the complaints after processing the text."
   ]
  },
  {
   "cell_type": "code",
   "execution_count": 167,
   "metadata": {},
   "outputs": [
    {
     "data": {
      "text/plain": [
       "'good morning my name is xxxx xxxx and i appreciate it if you could help me put a stop to chase bank cardmember services. \\nin 2018 i wrote to chase asking for debt verification and what they sent me a statement which is not acceptable. i am asking the bank to validate the debt. instead i been receiving mail every month from them attempting to collect a debt. \\ni have a right to know this information as a consumer. \\n\\nchase account # xxxx xxxx xxxx xxxx thanks in advance for your help.'"
      ]
     },
     "execution_count": 167,
     "metadata": {},
     "output_type": "execute_result"
    }
   ],
   "source": [
    "df_clean['preprocessed'][1]"
   ]
  },
  {
   "cell_type": "code",
   "execution_count": 168,
   "metadata": {},
   "outputs": [
    {
     "data": {
      "text/html": [
       "<div>\n",
       "<style scoped>\n",
       "    .dataframe tbody tr th:only-of-type {\n",
       "        vertical-align: middle;\n",
       "    }\n",
       "\n",
       "    .dataframe tbody tr th {\n",
       "        vertical-align: top;\n",
       "    }\n",
       "\n",
       "    .dataframe thead th {\n",
       "        text-align: right;\n",
       "    }\n",
       "</style>\n",
       "<table border=\"1\" class=\"dataframe\">\n",
       "  <thead>\n",
       "    <tr style=\"text-align: right;\">\n",
       "      <th></th>\n",
       "      <th>preprocessed</th>\n",
       "      <th>tokens</th>\n",
       "      <th>tokens_with_pos</th>\n",
       "      <th>complaint_length</th>\n",
       "      <th>word_freq</th>\n",
       "    </tr>\n",
       "  </thead>\n",
       "  <tbody>\n",
       "    <tr>\n",
       "      <th>1</th>\n",
       "      <td>good morning my name is xxxx xxxx and i apprec...</td>\n",
       "      <td>[morning, name, stop, bank, cardmember, servic...</td>\n",
       "      <td>[morning:NOUN, name:NOUN, stop:NOUN, bank:NOUN...</td>\n",
       "      <td>486</td>\n",
       "      <td>92</td>\n",
       "    </tr>\n",
       "    <tr>\n",
       "      <th>2</th>\n",
       "      <td>i upgraded my xxxx xxxx card in xx/xx/2018 and...</td>\n",
       "      <td>[card, agent, upgrade, anniversary, date, agen...</td>\n",
       "      <td>[card:NOUN, agent:NOUN, upgrade:NOUN, annivers...</td>\n",
       "      <td>355</td>\n",
       "      <td>65</td>\n",
       "    </tr>\n",
       "    <tr>\n",
       "      <th>10</th>\n",
       "      <td>chase card was reported on xx/xx/2019. however...</td>\n",
       "      <td>[chase, card, application, identity, consent, ...</td>\n",
       "      <td>[chase:NOUN, card:NOUN, application:NOUN, iden...</td>\n",
       "      <td>224</td>\n",
       "      <td>32</td>\n",
       "    </tr>\n",
       "    <tr>\n",
       "      <th>11</th>\n",
       "      <td>on xx/xx/2018, while trying to book a xxxx  xx...</td>\n",
       "      <td>[ticket, offer, ticket, reward, card, informat...</td>\n",
       "      <td>[ticket:NOUN, offer:NOUN, ticket:NOUN, reward:...</td>\n",
       "      <td>1502</td>\n",
       "      <td>272</td>\n",
       "    </tr>\n",
       "    <tr>\n",
       "      <th>14</th>\n",
       "      <td>my grand son give me check for {$1600.00} i de...</td>\n",
       "      <td>[son, check, chase, account, fund, chase, bank...</td>\n",
       "      <td>[son:NOUN, check:NOUN, chase:NOUN, account:NOU...</td>\n",
       "      <td>477</td>\n",
       "      <td>96</td>\n",
       "    </tr>\n",
       "  </tbody>\n",
       "</table>\n",
       "</div>"
      ],
      "text/plain": [
       "                                         preprocessed  \\\n",
       "1   good morning my name is xxxx xxxx and i apprec...   \n",
       "2   i upgraded my xxxx xxxx card in xx/xx/2018 and...   \n",
       "10  chase card was reported on xx/xx/2019. however...   \n",
       "11  on xx/xx/2018, while trying to book a xxxx  xx...   \n",
       "14  my grand son give me check for {$1600.00} i de...   \n",
       "\n",
       "                                               tokens  \\\n",
       "1   [morning, name, stop, bank, cardmember, servic...   \n",
       "2   [card, agent, upgrade, anniversary, date, agen...   \n",
       "10  [chase, card, application, identity, consent, ...   \n",
       "11  [ticket, offer, ticket, reward, card, informat...   \n",
       "14  [son, check, chase, account, fund, chase, bank...   \n",
       "\n",
       "                                      tokens_with_pos  complaint_length  \\\n",
       "1   [morning:NOUN, name:NOUN, stop:NOUN, bank:NOUN...               486   \n",
       "2   [card:NOUN, agent:NOUN, upgrade:NOUN, annivers...               355   \n",
       "10  [chase:NOUN, card:NOUN, application:NOUN, iden...               224   \n",
       "11  [ticket:NOUN, offer:NOUN, ticket:NOUN, reward:...              1502   \n",
       "14  [son:NOUN, check:NOUN, chase:NOUN, account:NOU...               477   \n",
       "\n",
       "    word_freq  \n",
       "1          92  \n",
       "2          65  \n",
       "10         32  \n",
       "11        272  \n",
       "14         96  "
      ]
     },
     "execution_count": 168,
     "metadata": {},
     "output_type": "execute_result"
    }
   ],
   "source": [
    "df_clean.head()"
   ]
  },
  {
   "cell_type": "markdown",
   "metadata": {},
   "source": [
    "### Unigrams"
   ]
  },
  {
   "cell_type": "code",
   "execution_count": 178,
   "metadata": {
    "id": "5mbk5DS5JrF4"
   },
   "outputs": [],
   "source": [
    "#Write your code here to find the top 30 unigram frequency among the complaints in the cleaned datafram(df_clean). \n",
    "unigram = []\n",
    "\n",
    "for token in df_clean['tokens']:\n",
    "    uni = ngrams(token, 1)\n",
    "    for word in uni:\n",
    "        unigram.append(word)"
   ]
  },
  {
   "cell_type": "code",
   "execution_count": 179,
   "metadata": {},
   "outputs": [
    {
     "data": {
      "text/plain": [
       "1138122"
      ]
     },
     "execution_count": 179,
     "metadata": {},
     "output_type": "execute_result"
    }
   ],
   "source": [
    "len(unigram)"
   ]
  },
  {
   "cell_type": "code",
   "execution_count": 182,
   "metadata": {},
   "outputs": [
    {
     "data": {
      "text/plain": [
       "[(('chase',), 74018),\n",
       " (('account',), 47660),\n",
       " (('credit',), 32809),\n",
       " (('card',), 30515),\n",
       " (('bank',), 28075),\n",
       " (('payment',), 21311),\n",
       " (('time',), 16281),\n",
       " (('day',), 13207),\n",
       " (('charge',), 12254),\n",
       " (('money',), 11980),\n",
       " (('loan',), 11003),\n",
       " (('check',), 10411),\n",
       " (('letter',), 9700),\n",
       " (('information',), 9670),\n",
       " (('fee',), 8997),\n",
       " (('transaction',), 8643),\n",
       " (('number',), 8617),\n",
       " (('month',), 8586),\n",
       " (('year',), 8420),\n",
       " (('amount',), 8317),\n",
       " (('mortgage',), 8197),\n",
       " (('customer',), 8189),\n",
       " (('balance',), 7794),\n",
       " (('service',), 7654),\n",
       " (('company',), 7643),\n",
       " (('phone',), 7594),\n",
       " (('fraud',), 7175),\n",
       " (('report',), 7066),\n",
       " (('fund',), 7049),\n",
       " (('call',), 6651)]"
      ]
     },
     "execution_count": 182,
     "metadata": {},
     "output_type": "execute_result"
    }
   ],
   "source": [
    "nltk.FreqDist(unigram).most_common(30)"
   ]
  },
  {
   "cell_type": "code",
   "execution_count": 183,
   "metadata": {},
   "outputs": [],
   "source": [
    "# top 10 unigram\n",
    "word = []\n",
    "count = []\n",
    "for i in nltk.FreqDist(unigram).most_common(10):\n",
    "    word.append(i[0][0])\n",
    "    count.append(i[1])"
   ]
  },
  {
   "cell_type": "code",
   "execution_count": 184,
   "metadata": {},
   "outputs": [],
   "source": [
    "top10_unigram = pd.DataFrame({'word':word,'frequency':count})"
   ]
  },
  {
   "cell_type": "code",
   "execution_count": 185,
   "metadata": {},
   "outputs": [
    {
     "data": {
      "text/html": [
       "<div>\n",
       "<style scoped>\n",
       "    .dataframe tbody tr th:only-of-type {\n",
       "        vertical-align: middle;\n",
       "    }\n",
       "\n",
       "    .dataframe tbody tr th {\n",
       "        vertical-align: top;\n",
       "    }\n",
       "\n",
       "    .dataframe thead th {\n",
       "        text-align: right;\n",
       "    }\n",
       "</style>\n",
       "<table border=\"1\" class=\"dataframe\">\n",
       "  <thead>\n",
       "    <tr style=\"text-align: right;\">\n",
       "      <th></th>\n",
       "      <th>word</th>\n",
       "      <th>frequency</th>\n",
       "    </tr>\n",
       "  </thead>\n",
       "  <tbody>\n",
       "    <tr>\n",
       "      <th>0</th>\n",
       "      <td>chase</td>\n",
       "      <td>74018</td>\n",
       "    </tr>\n",
       "    <tr>\n",
       "      <th>1</th>\n",
       "      <td>account</td>\n",
       "      <td>47660</td>\n",
       "    </tr>\n",
       "    <tr>\n",
       "      <th>2</th>\n",
       "      <td>credit</td>\n",
       "      <td>32809</td>\n",
       "    </tr>\n",
       "    <tr>\n",
       "      <th>3</th>\n",
       "      <td>card</td>\n",
       "      <td>30515</td>\n",
       "    </tr>\n",
       "    <tr>\n",
       "      <th>4</th>\n",
       "      <td>bank</td>\n",
       "      <td>28075</td>\n",
       "    </tr>\n",
       "    <tr>\n",
       "      <th>5</th>\n",
       "      <td>payment</td>\n",
       "      <td>21311</td>\n",
       "    </tr>\n",
       "    <tr>\n",
       "      <th>6</th>\n",
       "      <td>time</td>\n",
       "      <td>16281</td>\n",
       "    </tr>\n",
       "    <tr>\n",
       "      <th>7</th>\n",
       "      <td>day</td>\n",
       "      <td>13207</td>\n",
       "    </tr>\n",
       "    <tr>\n",
       "      <th>8</th>\n",
       "      <td>charge</td>\n",
       "      <td>12254</td>\n",
       "    </tr>\n",
       "    <tr>\n",
       "      <th>9</th>\n",
       "      <td>money</td>\n",
       "      <td>11980</td>\n",
       "    </tr>\n",
       "  </tbody>\n",
       "</table>\n",
       "</div>"
      ],
      "text/plain": [
       "      word  frequency\n",
       "0    chase      74018\n",
       "1  account      47660\n",
       "2   credit      32809\n",
       "3     card      30515\n",
       "4     bank      28075\n",
       "5  payment      21311\n",
       "6     time      16281\n",
       "7      day      13207\n",
       "8   charge      12254\n",
       "9    money      11980"
      ]
     },
     "execution_count": 185,
     "metadata": {},
     "output_type": "execute_result"
    }
   ],
   "source": [
    "top10_unigram"
   ]
  },
  {
   "cell_type": "code",
   "execution_count": 189,
   "metadata": {},
   "outputs": [
    {
     "data": {
      "image/png": "[encoded data removed]",
      "text/plain": [
       "<Figure size 2000x700 with 1 Axes>"
      ]
     },
     "metadata": {},
     "output_type": "display_data"
    }
   ],
   "source": [
    "# top 10 unigram\n",
    "fig = plt.figure(figsize=(20,7))\n",
    "\n",
    "g = sns.barplot(\n",
    "    x='word',\n",
    "    y='frequency',\n",
    "    data=top10_unigram\n",
    ")\n",
    "\n",
    "g.set_xticklabels(\n",
    "    g.get_xticklabels(),\n",
    "    rotation=45,\n",
    "    fontsize=14\n",
    ")\n",
    "\n",
    "plt.yticks(fontsize=14)\n",
    "plt.xlabel('Words', fontsize=14)\n",
    "plt.ylabel('Frequency', fontsize=14)\n",
    "plt.title('Top 10 Unigram Words', fontsize=17)\n",
    "\n",
    "plt.show()"
   ]
  },
  {
   "cell_type": "markdown",
   "metadata": {},
   "source": [
    "### Bigrams"
   ]
  },
  {
   "cell_type": "code",
   "execution_count": 192,
   "metadata": {
    "id": "aV7kD7w8JrF8"
   },
   "outputs": [
    {
     "data": {
      "text/plain": [
       "[(('credit', 'card'), 12916),\n",
       " (('chase', 'bank'), 12202),\n",
       " (('account', 'chase'), 4476),\n",
       " (('credit', 'report'), 3871),\n",
       " (('chase', 'credit'), 3826),\n",
       " (('checking', 'account'), 3412),\n",
       " (('chase', 'account'), 3257),\n",
       " (('customer', 'service'), 3083),\n",
       " (('bank', 'account'), 2935),\n",
       " (('jp', 'morgan'), 2697),\n",
       " (('account', 'account'), 2565),\n",
       " (('morgan', 'chase'), 2521),\n",
       " (('card', 'chase'), 2406),\n",
       " (('debit', 'card'), 2048),\n",
       " (('chase', 'card'), 1973),\n",
       " (('credit', 'score'), 1716),\n",
       " (('card', 'account'), 1656),\n",
       " (('phone', 'call'), 1641),\n",
       " (('chase', 'chase'), 1583),\n",
       " (('payment', 'payment'), 1573),\n",
       " (('account', 'credit'), 1559),\n",
       " (('letter', 'chase'), 1473),\n",
       " (('money', 'account'), 1404),\n",
       " (('chase', 'customer'), 1378),\n",
       " (('payment', 'chase'), 1353),\n",
       " (('interest', 'rate'), 1308),\n",
       " (('bank', 'chase'), 1292),\n",
       " (('business', 'day'), 1267),\n",
       " (('phone', 'number'), 1250),\n",
       " (('account', 'number'), 1219)]"
      ]
     },
     "execution_count": 192,
     "metadata": {},
     "output_type": "execute_result"
    }
   ],
   "source": [
    "#Write your code here to find the top 30 bigram frequency among the complaints in the cleaned datafram(df_clean). \n",
    "bigram = []\n",
    "        \n",
    "for token in df_clean['tokens']:\n",
    "    bi = ngrams(token, 2)\n",
    "    for word in bi:\n",
    "        bigram.append(word)        \n",
    "        \n",
    "nltk.FreqDist(bigram).most_common(30)"
   ]
  },
  {
   "cell_type": "code",
   "execution_count": 194,
   "metadata": {
    "id": "NPnMNIpyJrF9"
   },
   "outputs": [
    {
     "name": "stdout",
     "output_type": "stream",
     "text": [
      "('credit', 'card')\n",
      "('chase', 'bank')\n",
      "('account', 'chase')\n",
      "('credit', 'report')\n",
      "('chase', 'credit')\n",
      "('checking', 'account')\n",
      "('chase', 'account')\n",
      "('customer', 'service')\n",
      "('bank', 'account')\n",
      "('jp', 'morgan')\n"
     ]
    }
   ],
   "source": [
    "#Print the top 10 words in the bigram frequency\n",
    "for i in nltk.FreqDist(bigram).most_common(10):\n",
    "    print(i[0])"
   ]
  },
  {
   "cell_type": "code",
   "execution_count": 195,
   "metadata": {},
   "outputs": [
    {
     "data": {
      "text/html": [
       "<div>\n",
       "<style scoped>\n",
       "    .dataframe tbody tr th:only-of-type {\n",
       "        vertical-align: middle;\n",
       "    }\n",
       "\n",
       "    .dataframe tbody tr th {\n",
       "        vertical-align: top;\n",
       "    }\n",
       "\n",
       "    .dataframe thead th {\n",
       "        text-align: right;\n",
       "    }\n",
       "</style>\n",
       "<table border=\"1\" class=\"dataframe\">\n",
       "  <thead>\n",
       "    <tr style=\"text-align: right;\">\n",
       "      <th></th>\n",
       "      <th>word</th>\n",
       "      <th>frequency</th>\n",
       "    </tr>\n",
       "  </thead>\n",
       "  <tbody>\n",
       "    <tr>\n",
       "      <th>0</th>\n",
       "      <td>(credit, card)</td>\n",
       "      <td>12916</td>\n",
       "    </tr>\n",
       "    <tr>\n",
       "      <th>1</th>\n",
       "      <td>(chase, bank)</td>\n",
       "      <td>12202</td>\n",
       "    </tr>\n",
       "    <tr>\n",
       "      <th>2</th>\n",
       "      <td>(account, chase)</td>\n",
       "      <td>4476</td>\n",
       "    </tr>\n",
       "    <tr>\n",
       "      <th>3</th>\n",
       "      <td>(credit, report)</td>\n",
       "      <td>3871</td>\n",
       "    </tr>\n",
       "    <tr>\n",
       "      <th>4</th>\n",
       "      <td>(chase, credit)</td>\n",
       "      <td>3826</td>\n",
       "    </tr>\n",
       "    <tr>\n",
       "      <th>5</th>\n",
       "      <td>(checking, account)</td>\n",
       "      <td>3412</td>\n",
       "    </tr>\n",
       "    <tr>\n",
       "      <th>6</th>\n",
       "      <td>(chase, account)</td>\n",
       "      <td>3257</td>\n",
       "    </tr>\n",
       "    <tr>\n",
       "      <th>7</th>\n",
       "      <td>(customer, service)</td>\n",
       "      <td>3083</td>\n",
       "    </tr>\n",
       "    <tr>\n",
       "      <th>8</th>\n",
       "      <td>(bank, account)</td>\n",
       "      <td>2935</td>\n",
       "    </tr>\n",
       "    <tr>\n",
       "      <th>9</th>\n",
       "      <td>(jp, morgan)</td>\n",
       "      <td>2697</td>\n",
       "    </tr>\n",
       "  </tbody>\n",
       "</table>\n",
       "</div>"
      ],
      "text/plain": [
       "                  word  frequency\n",
       "0       (credit, card)      12916\n",
       "1        (chase, bank)      12202\n",
       "2     (account, chase)       4476\n",
       "3     (credit, report)       3871\n",
       "4      (chase, credit)       3826\n",
       "5  (checking, account)       3412\n",
       "6     (chase, account)       3257\n",
       "7  (customer, service)       3083\n",
       "8      (bank, account)       2935\n",
       "9         (jp, morgan)       2697"
      ]
     },
     "execution_count": 195,
     "metadata": {},
     "output_type": "execute_result"
    }
   ],
   "source": [
    "word = []\n",
    "count = []\n",
    "for i in nltk.FreqDist(bigram).most_common(10):\n",
    "    word.append(i[0])\n",
    "    count.append(i[1])\n",
    "\n",
    "top10_bigram = pd.DataFrame({'word': word, 'frequency':count})\n",
    "top10_bigram"
   ]
  },
  {
   "cell_type": "code",
   "execution_count": 196,
   "metadata": {},
   "outputs": [
    {
     "data": {
      "image/png": "[encoded data removed]",
      "text/plain": [
       "<Figure size 2000x700 with 1 Axes>"
      ]
     },
     "metadata": {},
     "output_type": "display_data"
    }
   ],
   "source": [
    "fig = plt.figure(figsize=(20,7))\n",
    "\n",
    "g = sns.barplot(\n",
    "    x='word',\n",
    "    y='frequency',\n",
    "    data=top10_bigram\n",
    ")\n",
    "\n",
    "g.set_xticklabels(\n",
    "    g.get_xticklabels(),\n",
    "    rotation=45,\n",
    "    fontsize=14\n",
    ")\n",
    "\n",
    "plt.yticks(fontsize=14)\n",
    "plt.xlabel('Words', fontsize=14)\n",
    "plt.ylabel('Frequency', fontsize=14)\n",
    "plt.title('Top 10 Bigram Words', fontsize=17)\n",
    "\n",
    "'''\n",
    "file_name = 'top_words'\n",
    "\n",
    "fig.savefig(\n",
    "    file_path + file_name + '.png',\n",
    "    dpi=fig.dpi,\n",
    "    bbox_inches='tight'\n",
    ")\n",
    "'''\n",
    "\n",
    "plt.show()"
   ]
  },
  {
   "cell_type": "markdown",
   "metadata": {},
   "source": [
    "### Trigrams"
   ]
  },
  {
   "cell_type": "code",
   "execution_count": 197,
   "metadata": {
    "id": "Xkh7vtbtJrF-"
   },
   "outputs": [
    {
     "data": {
      "text/plain": [
       "[(('chase', 'credit', 'card'), 2636),\n",
       " (('jp', 'morgan', 'chase'), 2194),\n",
       " (('credit', 'card', 'chase'), 1129),\n",
       " (('credit', 'card', 'account'), 1018),\n",
       " (('credit', 'card', 'company'), 1000),\n",
       " (('account', 'chase', 'bank'), 985),\n",
       " (('chase', 'bank', 'account'), 928),\n",
       " (('morgan', 'chase', 'bank'), 694),\n",
       " (('chase', 'customer', 'service'), 626),\n",
       " (('inquiry', 'credit', 'report'), 559),\n",
       " (('checking', 'account', 'chase'), 559),\n",
       " (('chase', 'checking', 'account'), 522),\n",
       " (('chase', 'bank', 'credit'), 518),\n",
       " (('credit', 'card', 'credit'), 514),\n",
       " (('chase', 'bank', 'chase'), 445),\n",
       " (('card', 'chase', 'bank'), 441),\n",
       " (('account', 'credit', 'card'), 439),\n",
       " (('card', 'credit', 'card'), 409),\n",
       " (('bank', 'credit', 'card'), 402),\n",
       " (('credit', 'reporting', 'agency'), 390),\n",
       " (('bank', 'chase', 'bank'), 377),\n",
       " (('credit', 'report', 'credit'), 364),\n",
       " (('charge', 'credit', 'card'), 356),\n",
       " (('account', 'chase', 'account'), 352),\n",
       " (('customer', 'service', 'representative'), 349),\n",
       " (('account', 'credit', 'report'), 335),\n",
       " (('credit', 'reporting', 'act'), 334),\n",
       " (('credit', 'report', 'chase'), 323),\n",
       " (('credit', 'card', 'payment'), 320),\n",
       " (('chase', 'fraud', 'department'), 298)]"
      ]
     },
     "execution_count": 197,
     "metadata": {},
     "output_type": "execute_result"
    }
   ],
   "source": [
    "#Write your code here to find the top 30 trigram frequency among the complaints in the cleaned datafram(df_clean). \n",
    "trigram = []\n",
    "\n",
    "for i in df_clean['tokens']:\n",
    "    tri = ngrams(i, 3)\n",
    "    for word in tri:\n",
    "        trigram.append(word)\n",
    "        \n",
    "nltk.FreqDist(trigram).most_common(30)"
   ]
  },
  {
   "cell_type": "code",
   "execution_count": 198,
   "metadata": {
    "id": "REcVxNfvJrF-"
   },
   "outputs": [
    {
     "name": "stdout",
     "output_type": "stream",
     "text": [
      "('chase', 'credit', 'card')\n",
      "('jp', 'morgan', 'chase')\n",
      "('credit', 'card', 'chase')\n",
      "('credit', 'card', 'account')\n",
      "('credit', 'card', 'company')\n",
      "('account', 'chase', 'bank')\n",
      "('chase', 'bank', 'account')\n",
      "('morgan', 'chase', 'bank')\n",
      "('chase', 'customer', 'service')\n",
      "('inquiry', 'credit', 'report')\n"
     ]
    }
   ],
   "source": [
    "#Print the top 10 words in the trigram frequency\n",
    "for i in nltk.FreqDist(trigram).most_common(10):\n",
    "    print(i[0])"
   ]
  },
  {
   "cell_type": "code",
   "execution_count": 199,
   "metadata": {},
   "outputs": [
    {
     "data": {
      "text/html": [
       "<div>\n",
       "<style scoped>\n",
       "    .dataframe tbody tr th:only-of-type {\n",
       "        vertical-align: middle;\n",
       "    }\n",
       "\n",
       "    .dataframe tbody tr th {\n",
       "        vertical-align: top;\n",
       "    }\n",
       "\n",
       "    .dataframe thead th {\n",
       "        text-align: right;\n",
       "    }\n",
       "</style>\n",
       "<table border=\"1\" class=\"dataframe\">\n",
       "  <thead>\n",
       "    <tr style=\"text-align: right;\">\n",
       "      <th></th>\n",
       "      <th>word</th>\n",
       "      <th>frequency</th>\n",
       "    </tr>\n",
       "  </thead>\n",
       "  <tbody>\n",
       "    <tr>\n",
       "      <th>0</th>\n",
       "      <td>(chase, credit, card)</td>\n",
       "      <td>2636</td>\n",
       "    </tr>\n",
       "    <tr>\n",
       "      <th>1</th>\n",
       "      <td>(jp, morgan, chase)</td>\n",
       "      <td>2194</td>\n",
       "    </tr>\n",
       "    <tr>\n",
       "      <th>2</th>\n",
       "      <td>(credit, card, chase)</td>\n",
       "      <td>1129</td>\n",
       "    </tr>\n",
       "    <tr>\n",
       "      <th>3</th>\n",
       "      <td>(credit, card, account)</td>\n",
       "      <td>1018</td>\n",
       "    </tr>\n",
       "    <tr>\n",
       "      <th>4</th>\n",
       "      <td>(credit, card, company)</td>\n",
       "      <td>1000</td>\n",
       "    </tr>\n",
       "    <tr>\n",
       "      <th>5</th>\n",
       "      <td>(account, chase, bank)</td>\n",
       "      <td>985</td>\n",
       "    </tr>\n",
       "    <tr>\n",
       "      <th>6</th>\n",
       "      <td>(chase, bank, account)</td>\n",
       "      <td>928</td>\n",
       "    </tr>\n",
       "    <tr>\n",
       "      <th>7</th>\n",
       "      <td>(morgan, chase, bank)</td>\n",
       "      <td>694</td>\n",
       "    </tr>\n",
       "    <tr>\n",
       "      <th>8</th>\n",
       "      <td>(chase, customer, service)</td>\n",
       "      <td>626</td>\n",
       "    </tr>\n",
       "    <tr>\n",
       "      <th>9</th>\n",
       "      <td>(inquiry, credit, report)</td>\n",
       "      <td>559</td>\n",
       "    </tr>\n",
       "  </tbody>\n",
       "</table>\n",
       "</div>"
      ],
      "text/plain": [
       "                         word  frequency\n",
       "0       (chase, credit, card)       2636\n",
       "1         (jp, morgan, chase)       2194\n",
       "2       (credit, card, chase)       1129\n",
       "3     (credit, card, account)       1018\n",
       "4     (credit, card, company)       1000\n",
       "5      (account, chase, bank)        985\n",
       "6      (chase, bank, account)        928\n",
       "7       (morgan, chase, bank)        694\n",
       "8  (chase, customer, service)        626\n",
       "9   (inquiry, credit, report)        559"
      ]
     },
     "execution_count": 199,
     "metadata": {},
     "output_type": "execute_result"
    }
   ],
   "source": [
    "\n",
    "word = []\n",
    "count = []\n",
    "for i in nltk.FreqDist(trigram).most_common(10):\n",
    "    word.append(i[0])\n",
    "    count.append(i[1])\n",
    "\n",
    "top10_trigram = pd.DataFrame({'word':word,'frequency':count})\n",
    "top10_trigram"
   ]
  },
  {
   "cell_type": "code",
   "execution_count": 200,
   "metadata": {},
   "outputs": [
    {
     "data": {
      "image/png": "[encoded data removed]",
      "text/plain": [
       "<Figure size 2000x700 with 1 Axes>"
      ]
     },
     "metadata": {},
     "output_type": "display_data"
    }
   ],
   "source": [
    "fig = plt.figure(figsize=(20,7))\n",
    "\n",
    "g = sns.barplot(\n",
    "    x='word',\n",
    "    y='frequency',\n",
    "    data=top10_trigram\n",
    ")\n",
    "\n",
    "g.set_xticklabels(\n",
    "    g.get_xticklabels(),\n",
    "    rotation=45,\n",
    "    fontsize=14\n",
    ")\n",
    "\n",
    "plt.yticks(fontsize=14)\n",
    "plt.xlabel('Words', fontsize=14)\n",
    "plt.ylabel('Frequency', fontsize=14)\n",
    "plt.title('Top 10 Trigram Words', fontsize=17)\n",
    "\n",
    "'''\n",
    "file_name = 'top_words'\n",
    "\n",
    "fig.savefig(\n",
    "    file_path + file_name + '.png',\n",
    "    dpi=fig.dpi,\n",
    "    bbox_inches='tight'\n",
    ")\n",
    "'''\n",
    "\n",
    "plt.show()"
   ]
  },
  {
   "cell_type": "markdown",
   "metadata": {
    "id": "yUXzFji0JrF_"
   },
   "source": [
    "#### The personal details of customer has been masked in the dataset with xxxx. Let's remove the masked text as this will be of no use for our analysis"
   ]
  },
  {
   "cell_type": "code",
   "execution_count": 201,
   "metadata": {
    "id": "wKda-a_IJrF_"
   },
   "outputs": [],
   "source": [
    "df_clean['preprocessed'] = df_clean['preprocessed'].str.replace('xxxx','')"
   ]
  },
  {
   "cell_type": "code",
   "execution_count": 202,
   "metadata": {
    "id": "9UIFk8fQJrF_"
   },
   "outputs": [
    {
     "data": {
      "text/html": [
       "<div>\n",
       "<style scoped>\n",
       "    .dataframe tbody tr th:only-of-type {\n",
       "        vertical-align: middle;\n",
       "    }\n",
       "\n",
       "    .dataframe tbody tr th {\n",
       "        vertical-align: top;\n",
       "    }\n",
       "\n",
       "    .dataframe thead th {\n",
       "        text-align: right;\n",
       "    }\n",
       "</style>\n",
       "<table border=\"1\" class=\"dataframe\">\n",
       "  <thead>\n",
       "    <tr style=\"text-align: right;\">\n",
       "      <th></th>\n",
       "      <th>preprocessed</th>\n",
       "      <th>tokens</th>\n",
       "      <th>tokens_with_pos</th>\n",
       "      <th>complaint_length</th>\n",
       "      <th>word_freq</th>\n",
       "    </tr>\n",
       "  </thead>\n",
       "  <tbody>\n",
       "    <tr>\n",
       "      <th>1</th>\n",
       "      <td>good morning my name is   and i appreciate it ...</td>\n",
       "      <td>[morning, name, stop, bank, cardmember, servic...</td>\n",
       "      <td>[morning:NOUN, name:NOUN, stop:NOUN, bank:NOUN...</td>\n",
       "      <td>486</td>\n",
       "      <td>92</td>\n",
       "    </tr>\n",
       "    <tr>\n",
       "      <th>2</th>\n",
       "      <td>i upgraded my   card in xx/xx/2018 and was tol...</td>\n",
       "      <td>[card, agent, upgrade, anniversary, date, agen...</td>\n",
       "      <td>[card:NOUN, agent:NOUN, upgrade:NOUN, annivers...</td>\n",
       "      <td>355</td>\n",
       "      <td>65</td>\n",
       "    </tr>\n",
       "    <tr>\n",
       "      <th>10</th>\n",
       "      <td>chase card was reported on xx/xx/2019. however...</td>\n",
       "      <td>[chase, card, application, identity, consent, ...</td>\n",
       "      <td>[chase:NOUN, card:NOUN, application:NOUN, iden...</td>\n",
       "      <td>224</td>\n",
       "      <td>32</td>\n",
       "    </tr>\n",
       "    <tr>\n",
       "      <th>11</th>\n",
       "      <td>on xx/xx/2018, while trying to book a     tick...</td>\n",
       "      <td>[ticket, offer, ticket, reward, card, informat...</td>\n",
       "      <td>[ticket:NOUN, offer:NOUN, ticket:NOUN, reward:...</td>\n",
       "      <td>1502</td>\n",
       "      <td>272</td>\n",
       "    </tr>\n",
       "    <tr>\n",
       "      <th>14</th>\n",
       "      <td>my grand son give me check for {$1600.00} i de...</td>\n",
       "      <td>[son, check, chase, account, fund, chase, bank...</td>\n",
       "      <td>[son:NOUN, check:NOUN, chase:NOUN, account:NOU...</td>\n",
       "      <td>477</td>\n",
       "      <td>96</td>\n",
       "    </tr>\n",
       "    <tr>\n",
       "      <th>...</th>\n",
       "      <td>...</td>\n",
       "      <td>...</td>\n",
       "      <td>...</td>\n",
       "      <td>...</td>\n",
       "      <td>...</td>\n",
       "    </tr>\n",
       "    <tr>\n",
       "      <th>78303</th>\n",
       "      <td>after being a chase card customer for well ove...</td>\n",
       "      <td>[chase, card, customer, decade, solicitation, ...</td>\n",
       "      <td>[chase:NOUN, card:NOUN, customer:NOUN, decade:...</td>\n",
       "      <td>679</td>\n",
       "      <td>126</td>\n",
       "    </tr>\n",
       "    <tr>\n",
       "      <th>78309</th>\n",
       "      <td>on wednesday, xx/xx/ i called chas, my   visa ...</td>\n",
       "      <td>[wednesday, chas, visa, credit, card, provider...</td>\n",
       "      <td>[wednesday:NOUN, chas:NOUN, visa:NOUN, credit:...</td>\n",
       "      <td>2114</td>\n",
       "      <td>385</td>\n",
       "    </tr>\n",
       "    <tr>\n",
       "      <th>78310</th>\n",
       "      <td>i am not familiar with  pay and did not unders...</td>\n",
       "      <td>[pay, risk, consumer, chase, bank, app, chase,...</td>\n",
       "      <td>[pay:NOUN, risk:NOUN, consumer:NOUN, chase:NOU...</td>\n",
       "      <td>2319</td>\n",
       "      <td>412</td>\n",
       "    </tr>\n",
       "    <tr>\n",
       "      <th>78311</th>\n",
       "      <td>i have had flawless credit for 30 yrs. i've ha...</td>\n",
       "      <td>[credit, yrs, chase, credit, card, chase, free...</td>\n",
       "      <td>[credit:NOUN, yrs:NOUN, chase:NOUN, credit:NOU...</td>\n",
       "      <td>2171</td>\n",
       "      <td>412</td>\n",
       "    </tr>\n",
       "    <tr>\n",
       "      <th>78312</th>\n",
       "      <td>roughly 10+ years ago i closed out my accounts...</td>\n",
       "      <td>[year, account, jp, morgan, chase, bank, order...</td>\n",
       "      <td>[year:NOUN, account:NOUN, jp:NOUN, morgan:NOUN...</td>\n",
       "      <td>794</td>\n",
       "      <td>155</td>\n",
       "    </tr>\n",
       "  </tbody>\n",
       "</table>\n",
       "<p>21072 rows × 5 columns</p>\n",
       "</div>"
      ],
      "text/plain": [
       "                                            preprocessed  \\\n",
       "1      good morning my name is   and i appreciate it ...   \n",
       "2      i upgraded my   card in xx/xx/2018 and was tol...   \n",
       "10     chase card was reported on xx/xx/2019. however...   \n",
       "11     on xx/xx/2018, while trying to book a     tick...   \n",
       "14     my grand son give me check for {$1600.00} i de...   \n",
       "...                                                  ...   \n",
       "78303  after being a chase card customer for well ove...   \n",
       "78309  on wednesday, xx/xx/ i called chas, my   visa ...   \n",
       "78310  i am not familiar with  pay and did not unders...   \n",
       "78311  i have had flawless credit for 30 yrs. i've ha...   \n",
       "78312  roughly 10+ years ago i closed out my accounts...   \n",
       "\n",
       "                                                  tokens  \\\n",
       "1      [morning, name, stop, bank, cardmember, servic...   \n",
       "2      [card, agent, upgrade, anniversary, date, agen...   \n",
       "10     [chase, card, application, identity, consent, ...   \n",
       "11     [ticket, offer, ticket, reward, card, informat...   \n",
       "14     [son, check, chase, account, fund, chase, bank...   \n",
       "...                                                  ...   \n",
       "78303  [chase, card, customer, decade, solicitation, ...   \n",
       "78309  [wednesday, chas, visa, credit, card, provider...   \n",
       "78310  [pay, risk, consumer, chase, bank, app, chase,...   \n",
       "78311  [credit, yrs, chase, credit, card, chase, free...   \n",
       "78312  [year, account, jp, morgan, chase, bank, order...   \n",
       "\n",
       "                                         tokens_with_pos  complaint_length  \\\n",
       "1      [morning:NOUN, name:NOUN, stop:NOUN, bank:NOUN...               486   \n",
       "2      [card:NOUN, agent:NOUN, upgrade:NOUN, annivers...               355   \n",
       "10     [chase:NOUN, card:NOUN, application:NOUN, iden...               224   \n",
       "11     [ticket:NOUN, offer:NOUN, ticket:NOUN, reward:...              1502   \n",
       "14     [son:NOUN, check:NOUN, chase:NOUN, account:NOU...               477   \n",
       "...                                                  ...               ...   \n",
       "78303  [chase:NOUN, card:NOUN, customer:NOUN, decade:...               679   \n",
       "78309  [wednesday:NOUN, chas:NOUN, visa:NOUN, credit:...              2114   \n",
       "78310  [pay:NOUN, risk:NOUN, consumer:NOUN, chase:NOU...              2319   \n",
       "78311  [credit:NOUN, yrs:NOUN, chase:NOUN, credit:NOU...              2171   \n",
       "78312  [year:NOUN, account:NOUN, jp:NOUN, morgan:NOUN...               794   \n",
       "\n",
       "       word_freq  \n",
       "1             92  \n",
       "2             65  \n",
       "10            32  \n",
       "11           272  \n",
       "14            96  \n",
       "...          ...  \n",
       "78303        126  \n",
       "78309        385  \n",
       "78310        412  \n",
       "78311        412  \n",
       "78312        155  \n",
       "\n",
       "[21072 rows x 5 columns]"
      ]
     },
     "execution_count": 202,
     "metadata": {},
     "output_type": "execute_result"
    }
   ],
   "source": [
    "#All masked texts has been removed\n",
    "df_clean"
   ]
  },
  {
   "cell_type": "markdown",
   "metadata": {
    "id": "k-I0k0QtJrGA"
   },
   "source": [
    "## Feature Extraction\n",
    "Convert the raw texts to a matrix of TF-IDF features\n",
    "\n",
    "**max_df** is used for removing terms that appear too frequently, also known as \"corpus-specific stop words\"\n",
    "max_df = 0.95 means \"ignore terms that appear in more than 95% of the complaints\"\n",
    "\n",
    "**min_df** is used for removing terms that appear too infrequently\n",
    "min_df = 2 means \"ignore terms that appear in less than 2 complaints\""
   ]
  },
  {
   "cell_type": "code",
   "execution_count": 311,
   "metadata": {
    "id": "Y8fGwaCPJrGA"
   },
   "outputs": [],
   "source": [
    "#Write your code here to initialise the TfidfVectorizer \n",
    "vect = TfidfVectorizer(stop_words='english', min_df=3, max_df=0.85)"
   ]
  },
  {
   "cell_type": "markdown",
   "metadata": {
    "id": "yYzD85nTJrGA"
   },
   "source": [
    "#### Create a document term matrix using fit_transform\n",
    "\n",
    "The contents of a document term matrix are tuples of (complaint_id,token_id) tf-idf score:\n",
    "The tuples that are not there have a tf-idf score of 0"
   ]
  },
  {
   "cell_type": "code",
   "execution_count": 312,
   "metadata": {
    "id": "ffzdDpp_JrGB"
   },
   "outputs": [],
   "source": [
    "#Write your code here to create the Document Term Matrix by transforming the complaints column present in df_clean.\n",
    "X = vect.fit_transform(df_clean['preprocessed'])"
   ]
  },
  {
   "cell_type": "markdown",
   "metadata": {
    "id": "7Q9lwvNEJrGB"
   },
   "source": [
    "## Topic Modelling using NMF\n",
    "\n",
    "Non-Negative Matrix Factorization (NMF) is an unsupervised technique so there are no labeling of topics that the model will be trained on. The way it works is that, NMF decomposes (or factorizes) high-dimensional vectors into a lower-dimensional representation. These lower-dimensional vectors are non-negative which also means their coefficients are non-negative.\n",
    "\n",
    "In this task you have to perform the following:\n",
    "\n",
    "* Find the best number of clusters \n",
    "* Apply the best number to create word clusters\n",
    "* Inspect & validate the correction of each cluster wrt the complaints \n",
    "* Correct the labels if needed \n",
    "* Map the clusters to topics/cluster names"
   ]
  },
  {
   "cell_type": "code",
   "execution_count": 313,
   "metadata": {
    "id": "amLT4omWJrGB"
   },
   "outputs": [],
   "source": [
    "from sklearn.decomposition import NMF"
   ]
  },
  {
   "cell_type": "markdown",
   "metadata": {
    "id": "0wYR1xUTJrGD"
   },
   "source": [
    "## Topic Modeling\n",
    "You need to do take the trial & error approach to find the best num of topics for your NMF model.\n",
    "\n",
    "The only parameter that is required is the number of components i.e. the number of topics we want. This is the most crucial step in the whole topic modeling process and will greatly affect how good your final topics are."
   ]
  },
  {
   "cell_type": "code",
   "execution_count": 314,
   "metadata": {
    "id": "sgd2A6bhJrGD"
   },
   "outputs": [],
   "source": [
    "#Load your nmf_model with the n_components i.e 5\n",
    "num_topics = 5\n",
    "\n",
    "#keep the random_state = 40\n",
    "nmf_model = NMF(n_components=num_topics, random_state=40)"
   ]
  },
  {
   "cell_type": "code",
   "execution_count": 315,
   "metadata": {
    "id": "VPMDYbt_JrGE"
   },
   "outputs": [
    {
     "data": {
      "text/plain": [
       "12663"
      ]
     },
     "execution_count": 315,
     "metadata": {},
     "output_type": "execute_result"
    }
   ],
   "source": [
    "W = nmf_model.fit_transform(X)\n",
    "H = nmf_model.components_\n",
    "len(vect.get_feature_names())"
   ]
  },
  {
   "cell_type": "code",
   "execution_count": 316,
   "metadata": {},
   "outputs": [
    {
     "data": {
      "text/plain": [
       "(21072, 5)"
      ]
     },
     "execution_count": 316,
     "metadata": {},
     "output_type": "execute_result"
    }
   ],
   "source": [
    "W.shape"
   ]
  },
  {
   "cell_type": "code",
   "execution_count": 317,
   "metadata": {},
   "outputs": [
    {
     "data": {
      "text/plain": [
       "(5, 12663)"
      ]
     },
     "execution_count": 317,
     "metadata": {},
     "output_type": "execute_result"
    }
   ],
   "source": [
    "H.shape"
   ]
  },
  {
   "cell_type": "code",
   "execution_count": 318,
   "metadata": {
    "id": "16kRfat5JrGE"
   },
   "outputs": [
    {
     "data": {
      "text/html": [
       "<div>\n",
       "<style scoped>\n",
       "    .dataframe tbody tr th:only-of-type {\n",
       "        vertical-align: middle;\n",
       "    }\n",
       "\n",
       "    .dataframe tbody tr th {\n",
       "        vertical-align: top;\n",
       "    }\n",
       "\n",
       "    .dataframe thead th {\n",
       "        text-align: right;\n",
       "    }\n",
       "</style>\n",
       "<table border=\"1\" class=\"dataframe\">\n",
       "  <thead>\n",
       "    <tr style=\"text-align: right;\">\n",
       "      <th></th>\n",
       "      <th>Word 1</th>\n",
       "      <th>Word 2</th>\n",
       "      <th>Word 3</th>\n",
       "      <th>Word 4</th>\n",
       "      <th>Word 5</th>\n",
       "      <th>Word 6</th>\n",
       "      <th>Word 7</th>\n",
       "      <th>Word 8</th>\n",
       "      <th>Word 9</th>\n",
       "      <th>Word 10</th>\n",
       "      <th>Word 11</th>\n",
       "      <th>Word 12</th>\n",
       "      <th>Word 13</th>\n",
       "      <th>Word 14</th>\n",
       "      <th>Word 15</th>\n",
       "    </tr>\n",
       "  </thead>\n",
       "  <tbody>\n",
       "    <tr>\n",
       "      <th>Topic 1</th>\n",
       "      <td>account</td>\n",
       "      <td>bank</td>\n",
       "      <td>check</td>\n",
       "      <td>chase</td>\n",
       "      <td>money</td>\n",
       "      <td>funds</td>\n",
       "      <td>checking</td>\n",
       "      <td>closed</td>\n",
       "      <td>told</td>\n",
       "      <td>deposit</td>\n",
       "      <td>branch</td>\n",
       "      <td>accounts</td>\n",
       "      <td>00</td>\n",
       "      <td>said</td>\n",
       "      <td>deposited</td>\n",
       "    </tr>\n",
       "    <tr>\n",
       "      <th>Topic 2</th>\n",
       "      <td>xx</td>\n",
       "      <td>2020</td>\n",
       "      <td>2018</td>\n",
       "      <td>2019</td>\n",
       "      <td>00</td>\n",
       "      <td>received</td>\n",
       "      <td>letter</td>\n",
       "      <td>date</td>\n",
       "      <td>chase</td>\n",
       "      <td>payment</td>\n",
       "      <td>dated</td>\n",
       "      <td>called</td>\n",
       "      <td>dispute</td>\n",
       "      <td>sent</td>\n",
       "      <td>19</td>\n",
       "    </tr>\n",
       "    <tr>\n",
       "      <th>Topic 3</th>\n",
       "      <td>credit</td>\n",
       "      <td>card</td>\n",
       "      <td>report</td>\n",
       "      <td>inquiry</td>\n",
       "      <td>chase</td>\n",
       "      <td>cards</td>\n",
       "      <td>reporting</td>\n",
       "      <td>account</td>\n",
       "      <td>hard</td>\n",
       "      <td>inquiries</td>\n",
       "      <td>score</td>\n",
       "      <td>accounts</td>\n",
       "      <td>late</td>\n",
       "      <td>closed</td>\n",
       "      <td>debt</td>\n",
       "    </tr>\n",
       "    <tr>\n",
       "      <th>Topic 4</th>\n",
       "      <td>loan</td>\n",
       "      <td>mortgage</td>\n",
       "      <td>payment</td>\n",
       "      <td>chase</td>\n",
       "      <td>payments</td>\n",
       "      <td>home</td>\n",
       "      <td>modification</td>\n",
       "      <td>late</td>\n",
       "      <td>pay</td>\n",
       "      <td>paid</td>\n",
       "      <td>property</td>\n",
       "      <td>time</td>\n",
       "      <td>years</td>\n",
       "      <td>foreclosure</td>\n",
       "      <td>rate</td>\n",
       "    </tr>\n",
       "    <tr>\n",
       "      <th>Topic 5</th>\n",
       "      <td>card</td>\n",
       "      <td>00</td>\n",
       "      <td>chase</td>\n",
       "      <td>charge</td>\n",
       "      <td>charges</td>\n",
       "      <td>dispute</td>\n",
       "      <td>did</td>\n",
       "      <td>charged</td>\n",
       "      <td>called</td>\n",
       "      <td>fraud</td>\n",
       "      <td>fee</td>\n",
       "      <td>merchant</td>\n",
       "      <td>told</td>\n",
       "      <td>transaction</td>\n",
       "      <td>claim</td>\n",
       "    </tr>\n",
       "  </tbody>\n",
       "</table>\n",
       "</div>"
      ],
      "text/plain": [
       "          Word 1    Word 2   Word 3   Word 4    Word 5    Word 6  \\\n",
       "Topic 1  account      bank    check    chase     money     funds   \n",
       "Topic 2       xx      2020     2018     2019        00  received   \n",
       "Topic 3   credit      card   report  inquiry     chase     cards   \n",
       "Topic 4     loan  mortgage  payment    chase  payments      home   \n",
       "Topic 5     card        00    chase   charge   charges   dispute   \n",
       "\n",
       "               Word 7   Word 8  Word 9    Word 10   Word 11   Word 12  \\\n",
       "Topic 1      checking   closed    told    deposit    branch  accounts   \n",
       "Topic 2        letter     date   chase    payment     dated    called   \n",
       "Topic 3     reporting  account    hard  inquiries     score  accounts   \n",
       "Topic 4  modification     late     pay       paid  property      time   \n",
       "Topic 5           did  charged  called      fraud       fee  merchant   \n",
       "\n",
       "         Word 13      Word 14    Word 15  \n",
       "Topic 1       00         said  deposited  \n",
       "Topic 2  dispute         sent         19  \n",
       "Topic 3     late       closed       debt  \n",
       "Topic 4    years  foreclosure       rate  \n",
       "Topic 5     told  transaction      claim  "
      ]
     },
     "execution_count": 318,
     "metadata": {},
     "output_type": "execute_result"
    }
   ],
   "source": [
    "#Print the Top15 words for each of the topics\n",
    "words = np.array(vect.get_feature_names())\n",
    "topic_words = pd.DataFrame(np.zeros((num_topics, 15)), index=[f'Topic {i + 1}' for i in range(num_topics)],\n",
    "                           columns=[f'Word {i + 1}' for i in range(15)]).astype(str)\n",
    "for i in range(num_topics):\n",
    "    ix = H[i].argsort()[::-1][:15]\n",
    "    topic_words.iloc[i] = words[ix]\n",
    "\n",
    "topic_words"
   ]
  },
  {
   "cell_type": "code",
   "execution_count": 319,
   "metadata": {
    "id": "0OIT7LmFJrGF"
   },
   "outputs": [],
   "source": [
    "# Create the best topic for each complaint in terms of integer value 0,1,2,3 & 4\n",
    "# Topic 1 is having words like account, bank, deposit so its related to bank accounts\n",
    "# Topic 3 is having words like credit, card, cards, score so its related to credit cards\n",
    "# Topic 4 is having words liek loan , mortgage , payment, years , month so its related to loans\n",
    "# Topic 5 is having words like dispute, fraud, charged so its related to Disputes\n",
    "# Topic 2 is having mixed random words so its others\n",
    "topics = {\n",
    "    '0': 'Bank Accounts',\n",
    "    '1': 'Others',\n",
    "    '2': 'Credit Card',\n",
    "    '3': 'Loan',\n",
    "    '4': 'Dispute'\n",
    "}"
   ]
  },
  {
   "cell_type": "code",
   "execution_count": 322,
   "metadata": {},
   "outputs": [
    {
     "data": {
      "text/html": [
       "<div>\n",
       "<style scoped>\n",
       "    .dataframe tbody tr th:only-of-type {\n",
       "        vertical-align: middle;\n",
       "    }\n",
       "\n",
       "    .dataframe tbody tr th {\n",
       "        vertical-align: top;\n",
       "    }\n",
       "\n",
       "    .dataframe thead th {\n",
       "        text-align: right;\n",
       "    }\n",
       "</style>\n",
       "<table border=\"1\" class=\"dataframe\">\n",
       "  <thead>\n",
       "    <tr style=\"text-align: right;\">\n",
       "      <th></th>\n",
       "      <th>0</th>\n",
       "      <th>1</th>\n",
       "      <th>2</th>\n",
       "      <th>3</th>\n",
       "      <th>4</th>\n",
       "    </tr>\n",
       "  </thead>\n",
       "  <tbody>\n",
       "    <tr>\n",
       "      <th>Doc 0</th>\n",
       "      <td>0.022127</td>\n",
       "      <td>0.001515</td>\n",
       "      <td>0.013798</td>\n",
       "      <td>0.024055</td>\n",
       "      <td>0.007975</td>\n",
       "    </tr>\n",
       "    <tr>\n",
       "      <th>Doc 1</th>\n",
       "      <td>0.005334</td>\n",
       "      <td>0.071326</td>\n",
       "      <td>0.005019</td>\n",
       "      <td>0.000000</td>\n",
       "      <td>0.009644</td>\n",
       "    </tr>\n",
       "    <tr>\n",
       "      <th>Doc 2</th>\n",
       "      <td>0.000000</td>\n",
       "      <td>0.040481</td>\n",
       "      <td>0.042866</td>\n",
       "      <td>0.000000</td>\n",
       "      <td>0.010067</td>\n",
       "    </tr>\n",
       "    <tr>\n",
       "      <th>Doc 3</th>\n",
       "      <td>0.017195</td>\n",
       "      <td>0.042023</td>\n",
       "      <td>0.046748</td>\n",
       "      <td>0.008025</td>\n",
       "      <td>0.029700</td>\n",
       "    </tr>\n",
       "    <tr>\n",
       "      <th>Doc 4</th>\n",
       "      <td>0.061763</td>\n",
       "      <td>0.020910</td>\n",
       "      <td>0.000000</td>\n",
       "      <td>0.002757</td>\n",
       "      <td>0.001885</td>\n",
       "    </tr>\n",
       "    <tr>\n",
       "      <th>...</th>\n",
       "      <td>...</td>\n",
       "      <td>...</td>\n",
       "      <td>...</td>\n",
       "      <td>...</td>\n",
       "      <td>...</td>\n",
       "    </tr>\n",
       "    <tr>\n",
       "      <th>Doc 21067</th>\n",
       "      <td>0.000000</td>\n",
       "      <td>0.000000</td>\n",
       "      <td>0.056218</td>\n",
       "      <td>0.001665</td>\n",
       "      <td>0.045994</td>\n",
       "    </tr>\n",
       "    <tr>\n",
       "      <th>Doc 21068</th>\n",
       "      <td>0.006924</td>\n",
       "      <td>0.021244</td>\n",
       "      <td>0.003518</td>\n",
       "      <td>0.006028</td>\n",
       "      <td>0.054498</td>\n",
       "    </tr>\n",
       "    <tr>\n",
       "      <th>Doc 21069</th>\n",
       "      <td>0.016820</td>\n",
       "      <td>0.000000</td>\n",
       "      <td>0.008659</td>\n",
       "      <td>0.006528</td>\n",
       "      <td>0.028229</td>\n",
       "    </tr>\n",
       "    <tr>\n",
       "      <th>Doc 21070</th>\n",
       "      <td>0.000000</td>\n",
       "      <td>0.038065</td>\n",
       "      <td>0.025892</td>\n",
       "      <td>0.042295</td>\n",
       "      <td>0.048386</td>\n",
       "    </tr>\n",
       "    <tr>\n",
       "      <th>Doc 21071</th>\n",
       "      <td>0.024452</td>\n",
       "      <td>0.000691</td>\n",
       "      <td>0.035102</td>\n",
       "      <td>0.050482</td>\n",
       "      <td>0.003373</td>\n",
       "    </tr>\n",
       "  </tbody>\n",
       "</table>\n",
       "<p>21072 rows × 5 columns</p>\n",
       "</div>"
      ],
      "text/plain": [
       "                  0         1         2         3         4\n",
       "Doc 0      0.022127  0.001515  0.013798  0.024055  0.007975\n",
       "Doc 1      0.005334  0.071326  0.005019  0.000000  0.009644\n",
       "Doc 2      0.000000  0.040481  0.042866  0.000000  0.010067\n",
       "Doc 3      0.017195  0.042023  0.046748  0.008025  0.029700\n",
       "Doc 4      0.061763  0.020910  0.000000  0.002757  0.001885\n",
       "...             ...       ...       ...       ...       ...\n",
       "Doc 21067  0.000000  0.000000  0.056218  0.001665  0.045994\n",
       "Doc 21068  0.006924  0.021244  0.003518  0.006028  0.054498\n",
       "Doc 21069  0.016820  0.000000  0.008659  0.006528  0.028229\n",
       "Doc 21070  0.000000  0.038065  0.025892  0.042295  0.048386\n",
       "Doc 21071  0.024452  0.000691  0.035102  0.050482  0.003373\n",
       "\n",
       "[21072 rows x 5 columns]"
      ]
     },
     "execution_count": 322,
     "metadata": {},
     "output_type": "execute_result"
    }
   ],
   "source": [
    "W = pd.DataFrame(W, columns=[0,1,2,3,4], index=[f'Doc {i}' for i in range(X.shape[0])])\n",
    "W"
   ]
  },
  {
   "cell_type": "code",
   "execution_count": 323,
   "metadata": {},
   "outputs": [
    {
     "data": {
      "text/html": [
       "<div>\n",
       "<style scoped>\n",
       "    .dataframe tbody tr th:only-of-type {\n",
       "        vertical-align: middle;\n",
       "    }\n",
       "\n",
       "    .dataframe tbody tr th {\n",
       "        vertical-align: top;\n",
       "    }\n",
       "\n",
       "    .dataframe thead th {\n",
       "        text-align: right;\n",
       "    }\n",
       "</style>\n",
       "<table border=\"1\" class=\"dataframe\">\n",
       "  <thead>\n",
       "    <tr style=\"text-align: right;\">\n",
       "      <th></th>\n",
       "      <th>0</th>\n",
       "      <th>1</th>\n",
       "      <th>2</th>\n",
       "      <th>3</th>\n",
       "      <th>4</th>\n",
       "      <th>max_topic</th>\n",
       "    </tr>\n",
       "  </thead>\n",
       "  <tbody>\n",
       "    <tr>\n",
       "      <th>Doc 0</th>\n",
       "      <td>0.022127</td>\n",
       "      <td>0.001515</td>\n",
       "      <td>0.013798</td>\n",
       "      <td>0.024055</td>\n",
       "      <td>0.007975</td>\n",
       "      <td>3</td>\n",
       "    </tr>\n",
       "    <tr>\n",
       "      <th>Doc 1</th>\n",
       "      <td>0.005334</td>\n",
       "      <td>0.071326</td>\n",
       "      <td>0.005019</td>\n",
       "      <td>0.000000</td>\n",
       "      <td>0.009644</td>\n",
       "      <td>1</td>\n",
       "    </tr>\n",
       "    <tr>\n",
       "      <th>Doc 2</th>\n",
       "      <td>0.000000</td>\n",
       "      <td>0.040481</td>\n",
       "      <td>0.042866</td>\n",
       "      <td>0.000000</td>\n",
       "      <td>0.010067</td>\n",
       "      <td>2</td>\n",
       "    </tr>\n",
       "    <tr>\n",
       "      <th>Doc 3</th>\n",
       "      <td>0.017195</td>\n",
       "      <td>0.042023</td>\n",
       "      <td>0.046748</td>\n",
       "      <td>0.008025</td>\n",
       "      <td>0.029700</td>\n",
       "      <td>2</td>\n",
       "    </tr>\n",
       "    <tr>\n",
       "      <th>Doc 4</th>\n",
       "      <td>0.061763</td>\n",
       "      <td>0.020910</td>\n",
       "      <td>0.000000</td>\n",
       "      <td>0.002757</td>\n",
       "      <td>0.001885</td>\n",
       "      <td>0</td>\n",
       "    </tr>\n",
       "    <tr>\n",
       "      <th>...</th>\n",
       "      <td>...</td>\n",
       "      <td>...</td>\n",
       "      <td>...</td>\n",
       "      <td>...</td>\n",
       "      <td>...</td>\n",
       "      <td>...</td>\n",
       "    </tr>\n",
       "    <tr>\n",
       "      <th>Doc 21067</th>\n",
       "      <td>0.000000</td>\n",
       "      <td>0.000000</td>\n",
       "      <td>0.056218</td>\n",
       "      <td>0.001665</td>\n",
       "      <td>0.045994</td>\n",
       "      <td>2</td>\n",
       "    </tr>\n",
       "    <tr>\n",
       "      <th>Doc 21068</th>\n",
       "      <td>0.006924</td>\n",
       "      <td>0.021244</td>\n",
       "      <td>0.003518</td>\n",
       "      <td>0.006028</td>\n",
       "      <td>0.054498</td>\n",
       "      <td>4</td>\n",
       "    </tr>\n",
       "    <tr>\n",
       "      <th>Doc 21069</th>\n",
       "      <td>0.016820</td>\n",
       "      <td>0.000000</td>\n",
       "      <td>0.008659</td>\n",
       "      <td>0.006528</td>\n",
       "      <td>0.028229</td>\n",
       "      <td>4</td>\n",
       "    </tr>\n",
       "    <tr>\n",
       "      <th>Doc 21070</th>\n",
       "      <td>0.000000</td>\n",
       "      <td>0.038065</td>\n",
       "      <td>0.025892</td>\n",
       "      <td>0.042295</td>\n",
       "      <td>0.048386</td>\n",
       "      <td>4</td>\n",
       "    </tr>\n",
       "    <tr>\n",
       "      <th>Doc 21071</th>\n",
       "      <td>0.024452</td>\n",
       "      <td>0.000691</td>\n",
       "      <td>0.035102</td>\n",
       "      <td>0.050482</td>\n",
       "      <td>0.003373</td>\n",
       "      <td>3</td>\n",
       "    </tr>\n",
       "  </tbody>\n",
       "</table>\n",
       "<p>21072 rows × 6 columns</p>\n",
       "</div>"
      ],
      "text/plain": [
       "                  0         1         2         3         4  max_topic\n",
       "Doc 0      0.022127  0.001515  0.013798  0.024055  0.007975          3\n",
       "Doc 1      0.005334  0.071326  0.005019  0.000000  0.009644          1\n",
       "Doc 2      0.000000  0.040481  0.042866  0.000000  0.010067          2\n",
       "Doc 3      0.017195  0.042023  0.046748  0.008025  0.029700          2\n",
       "Doc 4      0.061763  0.020910  0.000000  0.002757  0.001885          0\n",
       "...             ...       ...       ...       ...       ...        ...\n",
       "Doc 21067  0.000000  0.000000  0.056218  0.001665  0.045994          2\n",
       "Doc 21068  0.006924  0.021244  0.003518  0.006028  0.054498          4\n",
       "Doc 21069  0.016820  0.000000  0.008659  0.006528  0.028229          4\n",
       "Doc 21070  0.000000  0.038065  0.025892  0.042295  0.048386          4\n",
       "Doc 21071  0.024452  0.000691  0.035102  0.050482  0.003373          3\n",
       "\n",
       "[21072 rows x 6 columns]"
      ]
     },
     "execution_count": 323,
     "metadata": {},
     "output_type": "execute_result"
    }
   ],
   "source": [
    "W['max_topic'] = W.apply(lambda x: x.idxmax(), axis=1)\n",
    "W"
   ]
  },
  {
   "cell_type": "code",
   "execution_count": 324,
   "metadata": {},
   "outputs": [
    {
     "data": {
      "text/html": [
       "<div>\n",
       "<style scoped>\n",
       "    .dataframe tbody tr th:only-of-type {\n",
       "        vertical-align: middle;\n",
       "    }\n",
       "\n",
       "    .dataframe tbody tr th {\n",
       "        vertical-align: top;\n",
       "    }\n",
       "\n",
       "    .dataframe thead th {\n",
       "        text-align: right;\n",
       "    }\n",
       "</style>\n",
       "<table border=\"1\" class=\"dataframe\">\n",
       "  <thead>\n",
       "    <tr style=\"text-align: right;\">\n",
       "      <th></th>\n",
       "      <th>0</th>\n",
       "      <th>1</th>\n",
       "      <th>2</th>\n",
       "      <th>3</th>\n",
       "      <th>4</th>\n",
       "      <th>max_topic</th>\n",
       "    </tr>\n",
       "  </thead>\n",
       "  <tbody>\n",
       "    <tr>\n",
       "      <th>Doc 0</th>\n",
       "      <td>0.022127</td>\n",
       "      <td>0.001515</td>\n",
       "      <td>0.013798</td>\n",
       "      <td>0.024055</td>\n",
       "      <td>0.007975</td>\n",
       "      <td>3</td>\n",
       "    </tr>\n",
       "    <tr>\n",
       "      <th>Doc 1</th>\n",
       "      <td>0.005334</td>\n",
       "      <td>0.071326</td>\n",
       "      <td>0.005019</td>\n",
       "      <td>0.000000</td>\n",
       "      <td>0.009644</td>\n",
       "      <td>1</td>\n",
       "    </tr>\n",
       "    <tr>\n",
       "      <th>Doc 2</th>\n",
       "      <td>0.000000</td>\n",
       "      <td>0.040481</td>\n",
       "      <td>0.042866</td>\n",
       "      <td>0.000000</td>\n",
       "      <td>0.010067</td>\n",
       "      <td>2</td>\n",
       "    </tr>\n",
       "    <tr>\n",
       "      <th>Doc 3</th>\n",
       "      <td>0.017195</td>\n",
       "      <td>0.042023</td>\n",
       "      <td>0.046748</td>\n",
       "      <td>0.008025</td>\n",
       "      <td>0.029700</td>\n",
       "      <td>2</td>\n",
       "    </tr>\n",
       "    <tr>\n",
       "      <th>Doc 4</th>\n",
       "      <td>0.061763</td>\n",
       "      <td>0.020910</td>\n",
       "      <td>0.000000</td>\n",
       "      <td>0.002757</td>\n",
       "      <td>0.001885</td>\n",
       "      <td>0</td>\n",
       "    </tr>\n",
       "    <tr>\n",
       "      <th>Doc 5</th>\n",
       "      <td>0.000000</td>\n",
       "      <td>0.001247</td>\n",
       "      <td>0.042551</td>\n",
       "      <td>0.000000</td>\n",
       "      <td>0.000000</td>\n",
       "      <td>2</td>\n",
       "    </tr>\n",
       "    <tr>\n",
       "      <th>Doc 6</th>\n",
       "      <td>0.056109</td>\n",
       "      <td>0.036880</td>\n",
       "      <td>0.002422</td>\n",
       "      <td>0.012529</td>\n",
       "      <td>0.000000</td>\n",
       "      <td>0</td>\n",
       "    </tr>\n",
       "    <tr>\n",
       "      <th>Doc 7</th>\n",
       "      <td>0.002867</td>\n",
       "      <td>0.014656</td>\n",
       "      <td>0.002485</td>\n",
       "      <td>0.055379</td>\n",
       "      <td>0.009594</td>\n",
       "      <td>3</td>\n",
       "    </tr>\n",
       "    <tr>\n",
       "      <th>Doc 8</th>\n",
       "      <td>0.021625</td>\n",
       "      <td>0.018173</td>\n",
       "      <td>0.000000</td>\n",
       "      <td>0.012605</td>\n",
       "      <td>0.064280</td>\n",
       "      <td>4</td>\n",
       "    </tr>\n",
       "    <tr>\n",
       "      <th>Doc 9</th>\n",
       "      <td>0.000000</td>\n",
       "      <td>0.000000</td>\n",
       "      <td>0.099257</td>\n",
       "      <td>0.000000</td>\n",
       "      <td>0.007267</td>\n",
       "      <td>2</td>\n",
       "    </tr>\n",
       "    <tr>\n",
       "      <th>Doc 10</th>\n",
       "      <td>0.023143</td>\n",
       "      <td>0.000099</td>\n",
       "      <td>0.006471</td>\n",
       "      <td>0.006962</td>\n",
       "      <td>0.000000</td>\n",
       "      <td>0</td>\n",
       "    </tr>\n",
       "    <tr>\n",
       "      <th>Doc 11</th>\n",
       "      <td>0.020930</td>\n",
       "      <td>0.025589</td>\n",
       "      <td>0.070943</td>\n",
       "      <td>0.004347</td>\n",
       "      <td>0.000000</td>\n",
       "      <td>2</td>\n",
       "    </tr>\n",
       "    <tr>\n",
       "      <th>Doc 12</th>\n",
       "      <td>0.044666</td>\n",
       "      <td>0.028412</td>\n",
       "      <td>0.002782</td>\n",
       "      <td>0.002082</td>\n",
       "      <td>0.001012</td>\n",
       "      <td>0</td>\n",
       "    </tr>\n",
       "    <tr>\n",
       "      <th>Doc 13</th>\n",
       "      <td>0.021410</td>\n",
       "      <td>0.000000</td>\n",
       "      <td>0.000000</td>\n",
       "      <td>0.005081</td>\n",
       "      <td>0.051674</td>\n",
       "      <td>4</td>\n",
       "    </tr>\n",
       "    <tr>\n",
       "      <th>Doc 14</th>\n",
       "      <td>0.009063</td>\n",
       "      <td>0.009533</td>\n",
       "      <td>0.016101</td>\n",
       "      <td>0.000000</td>\n",
       "      <td>0.079571</td>\n",
       "      <td>4</td>\n",
       "    </tr>\n",
       "    <tr>\n",
       "      <th>Doc 15</th>\n",
       "      <td>0.038620</td>\n",
       "      <td>0.047627</td>\n",
       "      <td>0.000000</td>\n",
       "      <td>0.000000</td>\n",
       "      <td>0.001890</td>\n",
       "      <td>1</td>\n",
       "    </tr>\n",
       "    <tr>\n",
       "      <th>Doc 16</th>\n",
       "      <td>0.005237</td>\n",
       "      <td>0.000000</td>\n",
       "      <td>0.000000</td>\n",
       "      <td>0.000000</td>\n",
       "      <td>0.033312</td>\n",
       "      <td>4</td>\n",
       "    </tr>\n",
       "  </tbody>\n",
       "</table>\n",
       "</div>"
      ],
      "text/plain": [
       "               0         1         2         3         4  max_topic\n",
       "Doc 0   0.022127  0.001515  0.013798  0.024055  0.007975          3\n",
       "Doc 1   0.005334  0.071326  0.005019  0.000000  0.009644          1\n",
       "Doc 2   0.000000  0.040481  0.042866  0.000000  0.010067          2\n",
       "Doc 3   0.017195  0.042023  0.046748  0.008025  0.029700          2\n",
       "Doc 4   0.061763  0.020910  0.000000  0.002757  0.001885          0\n",
       "Doc 5   0.000000  0.001247  0.042551  0.000000  0.000000          2\n",
       "Doc 6   0.056109  0.036880  0.002422  0.012529  0.000000          0\n",
       "Doc 7   0.002867  0.014656  0.002485  0.055379  0.009594          3\n",
       "Doc 8   0.021625  0.018173  0.000000  0.012605  0.064280          4\n",
       "Doc 9   0.000000  0.000000  0.099257  0.000000  0.007267          2\n",
       "Doc 10  0.023143  0.000099  0.006471  0.006962  0.000000          0\n",
       "Doc 11  0.020930  0.025589  0.070943  0.004347  0.000000          2\n",
       "Doc 12  0.044666  0.028412  0.002782  0.002082  0.001012          0\n",
       "Doc 13  0.021410  0.000000  0.000000  0.005081  0.051674          4\n",
       "Doc 14  0.009063  0.009533  0.016101  0.000000  0.079571          4\n",
       "Doc 15  0.038620  0.047627  0.000000  0.000000  0.001890          1\n",
       "Doc 16  0.005237  0.000000  0.000000  0.000000  0.033312          4"
      ]
     },
     "execution_count": 324,
     "metadata": {},
     "output_type": "execute_result"
    }
   ],
   "source": [
    "W.head(17)"
   ]
  },
  {
   "cell_type": "code",
   "execution_count": 325,
   "metadata": {},
   "outputs": [
    {
     "data": {
      "text/plain": [
       "0     good morning my name is   and i appreciate it ...\n",
       "1     i upgraded my   card in xx/xx/2018 and was tol...\n",
       "2     chase card was reported on xx/xx/2019. however...\n",
       "3     on xx/xx/2018, while trying to book a     tick...\n",
       "4     my grand son give me check for {$1600.00} i de...\n",
       "5                         can you please remove inquiry\n",
       "6     with out notice j.p. morgan chase restricted m...\n",
       "7     during the summer months, i experience a decli...\n",
       "8     on  xx/xx/2019, i made a {$300.00} payment to ...\n",
       "9     i have a chase credit card which is incorrectl...\n",
       "10      mishandling of this account by chase auto and .\n",
       "11    i have reached out to  several times in attemp...\n",
       "12    i opened an account with chase bank on  and us...\n",
       "13    to whom it may concern, chase bank charged wro...\n",
       "14    my chase amazon card was declined for a cateri...\n",
       "15    i opened the saving account for the {$25.00} b...\n",
       "16      a sofa, love seat, table and chairs and was ...\n",
       "17    my card went missing and i didnt realize it un...\n",
       "18    chase sent me an email today with the innocuou...\n",
       "19    i made a purchase with    on xx/xx/2019 in the...\n",
       "Name: preprocessed, dtype: object"
      ]
     },
     "execution_count": 325,
     "metadata": {},
     "output_type": "execute_result"
    }
   ],
   "source": [
    "df_clean['preprocessed'].head(20)"
   ]
  },
  {
   "cell_type": "code",
   "execution_count": 326,
   "metadata": {},
   "outputs": [
    {
     "data": {
      "text/plain": [
       "Doc 0        3\n",
       "Doc 1        1\n",
       "Doc 2        2\n",
       "Doc 3        2\n",
       "Doc 4        0\n",
       "            ..\n",
       "Doc 21067    2\n",
       "Doc 21068    4\n",
       "Doc 21069    4\n",
       "Doc 21070    4\n",
       "Doc 21071    3\n",
       "Name: max_topic, Length: 21072, dtype: int64"
      ]
     },
     "execution_count": 326,
     "metadata": {},
     "output_type": "execute_result"
    }
   ],
   "source": [
    "W['max_topic']"
   ]
  },
  {
   "cell_type": "code",
   "execution_count": 327,
   "metadata": {},
   "outputs": [
    {
     "data": {
      "text/plain": [
       "21072"
      ]
     },
     "execution_count": 327,
     "metadata": {},
     "output_type": "execute_result"
    }
   ],
   "source": [
    "df_clean.shape[0]"
   ]
  },
  {
   "cell_type": "code",
   "execution_count": 328,
   "metadata": {},
   "outputs": [
    {
     "data": {
      "text/html": [
       "<div>\n",
       "<style scoped>\n",
       "    .dataframe tbody tr th:only-of-type {\n",
       "        vertical-align: middle;\n",
       "    }\n",
       "\n",
       "    .dataframe tbody tr th {\n",
       "        vertical-align: top;\n",
       "    }\n",
       "\n",
       "    .dataframe thead th {\n",
       "        text-align: right;\n",
       "    }\n",
       "</style>\n",
       "<table border=\"1\" class=\"dataframe\">\n",
       "  <thead>\n",
       "    <tr style=\"text-align: right;\">\n",
       "      <th></th>\n",
       "      <th>preprocessed</th>\n",
       "      <th>tokens</th>\n",
       "      <th>tokens_with_pos</th>\n",
       "      <th>complaint_length</th>\n",
       "      <th>word_freq</th>\n",
       "      <th>Topic</th>\n",
       "    </tr>\n",
       "  </thead>\n",
       "  <tbody>\n",
       "    <tr>\n",
       "      <th>0</th>\n",
       "      <td>good morning my name is   and i appreciate it ...</td>\n",
       "      <td>[morning, name, stop, bank, cardmember, servic...</td>\n",
       "      <td>[morning:NOUN, name:NOUN, stop:NOUN, bank:NOUN...</td>\n",
       "      <td>486</td>\n",
       "      <td>92</td>\n",
       "      <td>0</td>\n",
       "    </tr>\n",
       "    <tr>\n",
       "      <th>1</th>\n",
       "      <td>i upgraded my   card in xx/xx/2018 and was tol...</td>\n",
       "      <td>[card, agent, upgrade, anniversary, date, agen...</td>\n",
       "      <td>[card:NOUN, agent:NOUN, upgrade:NOUN, annivers...</td>\n",
       "      <td>355</td>\n",
       "      <td>65</td>\n",
       "      <td>0</td>\n",
       "    </tr>\n",
       "    <tr>\n",
       "      <th>2</th>\n",
       "      <td>chase card was reported on xx/xx/2019. however...</td>\n",
       "      <td>[chase, card, application, identity, consent, ...</td>\n",
       "      <td>[chase:NOUN, card:NOUN, application:NOUN, iden...</td>\n",
       "      <td>224</td>\n",
       "      <td>32</td>\n",
       "      <td>0</td>\n",
       "    </tr>\n",
       "    <tr>\n",
       "      <th>3</th>\n",
       "      <td>on xx/xx/2018, while trying to book a     tick...</td>\n",
       "      <td>[ticket, offer, ticket, reward, card, informat...</td>\n",
       "      <td>[ticket:NOUN, offer:NOUN, ticket:NOUN, reward:...</td>\n",
       "      <td>1502</td>\n",
       "      <td>272</td>\n",
       "      <td>4</td>\n",
       "    </tr>\n",
       "    <tr>\n",
       "      <th>4</th>\n",
       "      <td>my grand son give me check for {$1600.00} i de...</td>\n",
       "      <td>[son, check, chase, account, fund, chase, bank...</td>\n",
       "      <td>[son:NOUN, check:NOUN, chase:NOUN, account:NOU...</td>\n",
       "      <td>477</td>\n",
       "      <td>96</td>\n",
       "      <td>0</td>\n",
       "    </tr>\n",
       "  </tbody>\n",
       "</table>\n",
       "</div>"
      ],
      "text/plain": [
       "                                        preprocessed  \\\n",
       "0  good morning my name is   and i appreciate it ...   \n",
       "1  i upgraded my   card in xx/xx/2018 and was tol...   \n",
       "2  chase card was reported on xx/xx/2019. however...   \n",
       "3  on xx/xx/2018, while trying to book a     tick...   \n",
       "4  my grand son give me check for {$1600.00} i de...   \n",
       "\n",
       "                                              tokens  \\\n",
       "0  [morning, name, stop, bank, cardmember, servic...   \n",
       "1  [card, agent, upgrade, anniversary, date, agen...   \n",
       "2  [chase, card, application, identity, consent, ...   \n",
       "3  [ticket, offer, ticket, reward, card, informat...   \n",
       "4  [son, check, chase, account, fund, chase, bank...   \n",
       "\n",
       "                                     tokens_with_pos  complaint_length  \\\n",
       "0  [morning:NOUN, name:NOUN, stop:NOUN, bank:NOUN...               486   \n",
       "1  [card:NOUN, agent:NOUN, upgrade:NOUN, annivers...               355   \n",
       "2  [chase:NOUN, card:NOUN, application:NOUN, iden...               224   \n",
       "3  [ticket:NOUN, offer:NOUN, ticket:NOUN, reward:...              1502   \n",
       "4  [son:NOUN, check:NOUN, chase:NOUN, account:NOU...               477   \n",
       "\n",
       "   word_freq  Topic  \n",
       "0         92      0  \n",
       "1         65      0  \n",
       "2         32      0  \n",
       "3        272      4  \n",
       "4         96      0  "
      ]
     },
     "execution_count": 328,
     "metadata": {},
     "output_type": "execute_result"
    }
   ],
   "source": [
    "df_clean.head()"
   ]
  },
  {
   "cell_type": "code",
   "execution_count": 329,
   "metadata": {},
   "outputs": [],
   "source": [
    "df_clean = df_clean.reset_index(drop=True)"
   ]
  },
  {
   "cell_type": "code",
   "execution_count": 330,
   "metadata": {},
   "outputs": [
    {
     "data": {
      "text/html": [
       "<div>\n",
       "<style scoped>\n",
       "    .dataframe tbody tr th:only-of-type {\n",
       "        vertical-align: middle;\n",
       "    }\n",
       "\n",
       "    .dataframe tbody tr th {\n",
       "        vertical-align: top;\n",
       "    }\n",
       "\n",
       "    .dataframe thead th {\n",
       "        text-align: right;\n",
       "    }\n",
       "</style>\n",
       "<table border=\"1\" class=\"dataframe\">\n",
       "  <thead>\n",
       "    <tr style=\"text-align: right;\">\n",
       "      <th></th>\n",
       "      <th>preprocessed</th>\n",
       "      <th>tokens</th>\n",
       "      <th>tokens_with_pos</th>\n",
       "      <th>complaint_length</th>\n",
       "      <th>word_freq</th>\n",
       "      <th>Topic</th>\n",
       "    </tr>\n",
       "  </thead>\n",
       "  <tbody>\n",
       "    <tr>\n",
       "      <th>0</th>\n",
       "      <td>good morning my name is   and i appreciate it ...</td>\n",
       "      <td>[morning, name, stop, bank, cardmember, servic...</td>\n",
       "      <td>[morning:NOUN, name:NOUN, stop:NOUN, bank:NOUN...</td>\n",
       "      <td>486</td>\n",
       "      <td>92</td>\n",
       "      <td>0</td>\n",
       "    </tr>\n",
       "    <tr>\n",
       "      <th>1</th>\n",
       "      <td>i upgraded my   card in xx/xx/2018 and was tol...</td>\n",
       "      <td>[card, agent, upgrade, anniversary, date, agen...</td>\n",
       "      <td>[card:NOUN, agent:NOUN, upgrade:NOUN, annivers...</td>\n",
       "      <td>355</td>\n",
       "      <td>65</td>\n",
       "      <td>0</td>\n",
       "    </tr>\n",
       "    <tr>\n",
       "      <th>2</th>\n",
       "      <td>chase card was reported on xx/xx/2019. however...</td>\n",
       "      <td>[chase, card, application, identity, consent, ...</td>\n",
       "      <td>[chase:NOUN, card:NOUN, application:NOUN, iden...</td>\n",
       "      <td>224</td>\n",
       "      <td>32</td>\n",
       "      <td>0</td>\n",
       "    </tr>\n",
       "    <tr>\n",
       "      <th>3</th>\n",
       "      <td>on xx/xx/2018, while trying to book a     tick...</td>\n",
       "      <td>[ticket, offer, ticket, reward, card, informat...</td>\n",
       "      <td>[ticket:NOUN, offer:NOUN, ticket:NOUN, reward:...</td>\n",
       "      <td>1502</td>\n",
       "      <td>272</td>\n",
       "      <td>4</td>\n",
       "    </tr>\n",
       "    <tr>\n",
       "      <th>4</th>\n",
       "      <td>my grand son give me check for {$1600.00} i de...</td>\n",
       "      <td>[son, check, chase, account, fund, chase, bank...</td>\n",
       "      <td>[son:NOUN, check:NOUN, chase:NOUN, account:NOU...</td>\n",
       "      <td>477</td>\n",
       "      <td>96</td>\n",
       "      <td>0</td>\n",
       "    </tr>\n",
       "    <tr>\n",
       "      <th>...</th>\n",
       "      <td>...</td>\n",
       "      <td>...</td>\n",
       "      <td>...</td>\n",
       "      <td>...</td>\n",
       "      <td>...</td>\n",
       "      <td>...</td>\n",
       "    </tr>\n",
       "    <tr>\n",
       "      <th>21067</th>\n",
       "      <td>after being a chase card customer for well ove...</td>\n",
       "      <td>[chase, card, customer, decade, solicitation, ...</td>\n",
       "      <td>[chase:NOUN, card:NOUN, customer:NOUN, decade:...</td>\n",
       "      <td>679</td>\n",
       "      <td>126</td>\n",
       "      <td>1</td>\n",
       "    </tr>\n",
       "    <tr>\n",
       "      <th>21068</th>\n",
       "      <td>on wednesday, xx/xx/ i called chas, my   visa ...</td>\n",
       "      <td>[wednesday, chas, visa, credit, card, provider...</td>\n",
       "      <td>[wednesday:NOUN, chas:NOUN, visa:NOUN, credit:...</td>\n",
       "      <td>2114</td>\n",
       "      <td>385</td>\n",
       "      <td>0</td>\n",
       "    </tr>\n",
       "    <tr>\n",
       "      <th>21069</th>\n",
       "      <td>i am not familiar with  pay and did not unders...</td>\n",
       "      <td>[pay, risk, consumer, chase, bank, app, chase,...</td>\n",
       "      <td>[pay:NOUN, risk:NOUN, consumer:NOUN, chase:NOU...</td>\n",
       "      <td>2319</td>\n",
       "      <td>412</td>\n",
       "      <td>0</td>\n",
       "    </tr>\n",
       "    <tr>\n",
       "      <th>21070</th>\n",
       "      <td>i have had flawless credit for 30 yrs. i've ha...</td>\n",
       "      <td>[credit, yrs, chase, credit, card, chase, free...</td>\n",
       "      <td>[credit:NOUN, yrs:NOUN, chase:NOUN, credit:NOU...</td>\n",
       "      <td>2171</td>\n",
       "      <td>412</td>\n",
       "      <td>0</td>\n",
       "    </tr>\n",
       "    <tr>\n",
       "      <th>21071</th>\n",
       "      <td>roughly 10+ years ago i closed out my accounts...</td>\n",
       "      <td>[year, account, jp, morgan, chase, bank, order...</td>\n",
       "      <td>[year:NOUN, account:NOUN, jp:NOUN, morgan:NOUN...</td>\n",
       "      <td>794</td>\n",
       "      <td>155</td>\n",
       "      <td>4</td>\n",
       "    </tr>\n",
       "  </tbody>\n",
       "</table>\n",
       "<p>21072 rows × 6 columns</p>\n",
       "</div>"
      ],
      "text/plain": [
       "                                            preprocessed  \\\n",
       "0      good morning my name is   and i appreciate it ...   \n",
       "1      i upgraded my   card in xx/xx/2018 and was tol...   \n",
       "2      chase card was reported on xx/xx/2019. however...   \n",
       "3      on xx/xx/2018, while trying to book a     tick...   \n",
       "4      my grand son give me check for {$1600.00} i de...   \n",
       "...                                                  ...   \n",
       "21067  after being a chase card customer for well ove...   \n",
       "21068  on wednesday, xx/xx/ i called chas, my   visa ...   \n",
       "21069  i am not familiar with  pay and did not unders...   \n",
       "21070  i have had flawless credit for 30 yrs. i've ha...   \n",
       "21071  roughly 10+ years ago i closed out my accounts...   \n",
       "\n",
       "                                                  tokens  \\\n",
       "0      [morning, name, stop, bank, cardmember, servic...   \n",
       "1      [card, agent, upgrade, anniversary, date, agen...   \n",
       "2      [chase, card, application, identity, consent, ...   \n",
       "3      [ticket, offer, ticket, reward, card, informat...   \n",
       "4      [son, check, chase, account, fund, chase, bank...   \n",
       "...                                                  ...   \n",
       "21067  [chase, card, customer, decade, solicitation, ...   \n",
       "21068  [wednesday, chas, visa, credit, card, provider...   \n",
       "21069  [pay, risk, consumer, chase, bank, app, chase,...   \n",
       "21070  [credit, yrs, chase, credit, card, chase, free...   \n",
       "21071  [year, account, jp, morgan, chase, bank, order...   \n",
       "\n",
       "                                         tokens_with_pos  complaint_length  \\\n",
       "0      [morning:NOUN, name:NOUN, stop:NOUN, bank:NOUN...               486   \n",
       "1      [card:NOUN, agent:NOUN, upgrade:NOUN, annivers...               355   \n",
       "2      [chase:NOUN, card:NOUN, application:NOUN, iden...               224   \n",
       "3      [ticket:NOUN, offer:NOUN, ticket:NOUN, reward:...              1502   \n",
       "4      [son:NOUN, check:NOUN, chase:NOUN, account:NOU...               477   \n",
       "...                                                  ...               ...   \n",
       "21067  [chase:NOUN, card:NOUN, customer:NOUN, decade:...               679   \n",
       "21068  [wednesday:NOUN, chas:NOUN, visa:NOUN, credit:...              2114   \n",
       "21069  [pay:NOUN, risk:NOUN, consumer:NOUN, chase:NOU...              2319   \n",
       "21070  [credit:NOUN, yrs:NOUN, chase:NOUN, credit:NOU...              2171   \n",
       "21071  [year:NOUN, account:NOUN, jp:NOUN, morgan:NOUN...               794   \n",
       "\n",
       "       word_freq  Topic  \n",
       "0             92      0  \n",
       "1             65      0  \n",
       "2             32      0  \n",
       "3            272      4  \n",
       "4             96      0  \n",
       "...          ...    ...  \n",
       "21067        126      1  \n",
       "21068        385      0  \n",
       "21069        412      0  \n",
       "21070        412      0  \n",
       "21071        155      4  \n",
       "\n",
       "[21072 rows x 6 columns]"
      ]
     },
     "execution_count": 330,
     "metadata": {},
     "output_type": "execute_result"
    }
   ],
   "source": [
    "df_clean"
   ]
  },
  {
   "cell_type": "code",
   "execution_count": 331,
   "metadata": {
    "id": "peyYv-ORJrGF"
   },
   "outputs": [],
   "source": [
    "#Assign the best topic to each of the cmplaints in Topic Column\n",
    "df_clean['Topic'] = \"Not Assigned\"\n",
    "for i in range(df_clean.shape[0]):\n",
    "    df_clean['Topic'][i] = W['max_topic'][i]  # write your code to assign topics to each rows."
   ]
  },
  {
   "cell_type": "code",
   "execution_count": 362,
   "metadata": {
    "id": "fLh_Gf3nJrGF"
   },
   "outputs": [
    {
     "data": {
      "text/html": [
       "<div>\n",
       "<style scoped>\n",
       "    .dataframe tbody tr th:only-of-type {\n",
       "        vertical-align: middle;\n",
       "    }\n",
       "\n",
       "    .dataframe tbody tr th {\n",
       "        vertical-align: top;\n",
       "    }\n",
       "\n",
       "    .dataframe thead th {\n",
       "        text-align: right;\n",
       "    }\n",
       "</style>\n",
       "<table border=\"1\" class=\"dataframe\">\n",
       "  <thead>\n",
       "    <tr style=\"text-align: right;\">\n",
       "      <th></th>\n",
       "      <th>preprocessed</th>\n",
       "      <th>tokens</th>\n",
       "      <th>tokens_with_pos</th>\n",
       "      <th>complaint_length</th>\n",
       "      <th>word_freq</th>\n",
       "      <th>Topic</th>\n",
       "    </tr>\n",
       "  </thead>\n",
       "  <tbody>\n",
       "    <tr>\n",
       "      <th>0</th>\n",
       "      <td>good morning my name is   and i appreciate it ...</td>\n",
       "      <td>[morning, name, stop, bank, cardmember, servic...</td>\n",
       "      <td>[morning:NOUN, name:NOUN, stop:NOUN, bank:NOUN...</td>\n",
       "      <td>486</td>\n",
       "      <td>92</td>\n",
       "      <td>NaN</td>\n",
       "    </tr>\n",
       "    <tr>\n",
       "      <th>1</th>\n",
       "      <td>i upgraded my   card in xx/xx/2018 and was tol...</td>\n",
       "      <td>[card, agent, upgrade, anniversary, date, agen...</td>\n",
       "      <td>[card:NOUN, agent:NOUN, upgrade:NOUN, annivers...</td>\n",
       "      <td>355</td>\n",
       "      <td>65</td>\n",
       "      <td>NaN</td>\n",
       "    </tr>\n",
       "    <tr>\n",
       "      <th>2</th>\n",
       "      <td>chase card was reported on xx/xx/2019. however...</td>\n",
       "      <td>[chase, card, application, identity, consent, ...</td>\n",
       "      <td>[chase:NOUN, card:NOUN, application:NOUN, iden...</td>\n",
       "      <td>224</td>\n",
       "      <td>32</td>\n",
       "      <td>NaN</td>\n",
       "    </tr>\n",
       "    <tr>\n",
       "      <th>3</th>\n",
       "      <td>on xx/xx/2018, while trying to book a     tick...</td>\n",
       "      <td>[ticket, offer, ticket, reward, card, informat...</td>\n",
       "      <td>[ticket:NOUN, offer:NOUN, ticket:NOUN, reward:...</td>\n",
       "      <td>1502</td>\n",
       "      <td>272</td>\n",
       "      <td>NaN</td>\n",
       "    </tr>\n",
       "    <tr>\n",
       "      <th>4</th>\n",
       "      <td>my grand son give me check for {$1600.00} i de...</td>\n",
       "      <td>[son, check, chase, account, fund, chase, bank...</td>\n",
       "      <td>[son:NOUN, check:NOUN, chase:NOUN, account:NOU...</td>\n",
       "      <td>477</td>\n",
       "      <td>96</td>\n",
       "      <td>NaN</td>\n",
       "    </tr>\n",
       "    <tr>\n",
       "      <th>5</th>\n",
       "      <td>can you please remove inquiry</td>\n",
       "      <td>[inquiry]</td>\n",
       "      <td>[inquiry:NOUN]</td>\n",
       "      <td>29</td>\n",
       "      <td>5</td>\n",
       "      <td>NaN</td>\n",
       "    </tr>\n",
       "    <tr>\n",
       "      <th>6</th>\n",
       "      <td>with out notice j.p. morgan chase restricted m...</td>\n",
       "      <td>[notice, morgan, chase, account, debit, card, ...</td>\n",
       "      <td>[notice:NOUN, morgan:NOUN, chase:NOUN, account...</td>\n",
       "      <td>2277</td>\n",
       "      <td>420</td>\n",
       "      <td>NaN</td>\n",
       "    </tr>\n",
       "    <tr>\n",
       "      <th>7</th>\n",
       "      <td>during the summer months, i experience a decli...</td>\n",
       "      <td>[summer, month, decline, income, employment, m...</td>\n",
       "      <td>[summer:NOUN, month:NOUN, decline:NOUN, income...</td>\n",
       "      <td>1396</td>\n",
       "      <td>229</td>\n",
       "      <td>NaN</td>\n",
       "    </tr>\n",
       "    <tr>\n",
       "      <th>8</th>\n",
       "      <td>on  xx/xx/2019, i made a {$300.00} payment to ...</td>\n",
       "      <td>[payment, retailer, chase, pay, chase, website...</td>\n",
       "      <td>[payment:NOUN, retailer:NOUN, chase:NOUN, pay:...</td>\n",
       "      <td>3541</td>\n",
       "      <td>628</td>\n",
       "      <td>NaN</td>\n",
       "    </tr>\n",
       "    <tr>\n",
       "      <th>9</th>\n",
       "      <td>i have a chase credit card which is incorrectl...</td>\n",
       "      <td>[chase, credit, card, datum, credit, report, c...</td>\n",
       "      <td>[chase:NOUN, credit:NOUN, card:NOUN, datum:NOU...</td>\n",
       "      <td>129</td>\n",
       "      <td>23</td>\n",
       "      <td>NaN</td>\n",
       "    </tr>\n",
       "  </tbody>\n",
       "</table>\n",
       "</div>"
      ],
      "text/plain": [
       "                                        preprocessed  \\\n",
       "0  good morning my name is   and i appreciate it ...   \n",
       "1  i upgraded my   card in xx/xx/2018 and was tol...   \n",
       "2  chase card was reported on xx/xx/2019. however...   \n",
       "3  on xx/xx/2018, while trying to book a     tick...   \n",
       "4  my grand son give me check for {$1600.00} i de...   \n",
       "5                      can you please remove inquiry   \n",
       "6  with out notice j.p. morgan chase restricted m...   \n",
       "7  during the summer months, i experience a decli...   \n",
       "8  on  xx/xx/2019, i made a {$300.00} payment to ...   \n",
       "9  i have a chase credit card which is incorrectl...   \n",
       "\n",
       "                                              tokens  \\\n",
       "0  [morning, name, stop, bank, cardmember, servic...   \n",
       "1  [card, agent, upgrade, anniversary, date, agen...   \n",
       "2  [chase, card, application, identity, consent, ...   \n",
       "3  [ticket, offer, ticket, reward, card, informat...   \n",
       "4  [son, check, chase, account, fund, chase, bank...   \n",
       "5                                          [inquiry]   \n",
       "6  [notice, morgan, chase, account, debit, card, ...   \n",
       "7  [summer, month, decline, income, employment, m...   \n",
       "8  [payment, retailer, chase, pay, chase, website...   \n",
       "9  [chase, credit, card, datum, credit, report, c...   \n",
       "\n",
       "                                     tokens_with_pos  complaint_length  \\\n",
       "0  [morning:NOUN, name:NOUN, stop:NOUN, bank:NOUN...               486   \n",
       "1  [card:NOUN, agent:NOUN, upgrade:NOUN, annivers...               355   \n",
       "2  [chase:NOUN, card:NOUN, application:NOUN, iden...               224   \n",
       "3  [ticket:NOUN, offer:NOUN, ticket:NOUN, reward:...              1502   \n",
       "4  [son:NOUN, check:NOUN, chase:NOUN, account:NOU...               477   \n",
       "5                                     [inquiry:NOUN]                29   \n",
       "6  [notice:NOUN, morgan:NOUN, chase:NOUN, account...              2277   \n",
       "7  [summer:NOUN, month:NOUN, decline:NOUN, income...              1396   \n",
       "8  [payment:NOUN, retailer:NOUN, chase:NOUN, pay:...              3541   \n",
       "9  [chase:NOUN, credit:NOUN, card:NOUN, datum:NOU...               129   \n",
       "\n",
       "   word_freq  Topic  \n",
       "0         92    NaN  \n",
       "1         65    NaN  \n",
       "2         32    NaN  \n",
       "3        272    NaN  \n",
       "4         96    NaN  \n",
       "5          5    NaN  \n",
       "6        420    NaN  \n",
       "7        229    NaN  \n",
       "8        628    NaN  \n",
       "9         23    NaN  "
      ]
     },
     "execution_count": 362,
     "metadata": {},
     "output_type": "execute_result"
    }
   ],
   "source": [
    "df_clean.head(10)"
   ]
  },
  {
   "cell_type": "code",
   "execution_count": 363,
   "metadata": {
    "id": "aQKpufSPJrGG"
   },
   "outputs": [
    {
     "data": {
      "text/html": [
       "<div>\n",
       "<style scoped>\n",
       "    .dataframe tbody tr th:only-of-type {\n",
       "        vertical-align: middle;\n",
       "    }\n",
       "\n",
       "    .dataframe tbody tr th {\n",
       "        vertical-align: top;\n",
       "    }\n",
       "\n",
       "    .dataframe thead th {\n",
       "        text-align: right;\n",
       "    }\n",
       "</style>\n",
       "<table border=\"1\" class=\"dataframe\">\n",
       "  <thead>\n",
       "    <tr style=\"text-align: right;\">\n",
       "      <th></th>\n",
       "      <th>preprocessed</th>\n",
       "      <th>tokens</th>\n",
       "      <th>tokens_with_pos</th>\n",
       "      <th>complaint_length</th>\n",
       "      <th>word_freq</th>\n",
       "      <th>Topic</th>\n",
       "    </tr>\n",
       "  </thead>\n",
       "  <tbody>\n",
       "    <tr>\n",
       "      <th>0</th>\n",
       "      <td>good morning my name is   and i appreciate it ...</td>\n",
       "      <td>[morning, name, stop, bank, cardmember, servic...</td>\n",
       "      <td>[morning:NOUN, name:NOUN, stop:NOUN, bank:NOUN...</td>\n",
       "      <td>486</td>\n",
       "      <td>92</td>\n",
       "      <td>NaN</td>\n",
       "    </tr>\n",
       "    <tr>\n",
       "      <th>1</th>\n",
       "      <td>i upgraded my   card in xx/xx/2018 and was tol...</td>\n",
       "      <td>[card, agent, upgrade, anniversary, date, agen...</td>\n",
       "      <td>[card:NOUN, agent:NOUN, upgrade:NOUN, annivers...</td>\n",
       "      <td>355</td>\n",
       "      <td>65</td>\n",
       "      <td>NaN</td>\n",
       "    </tr>\n",
       "    <tr>\n",
       "      <th>2</th>\n",
       "      <td>chase card was reported on xx/xx/2019. however...</td>\n",
       "      <td>[chase, card, application, identity, consent, ...</td>\n",
       "      <td>[chase:NOUN, card:NOUN, application:NOUN, iden...</td>\n",
       "      <td>224</td>\n",
       "      <td>32</td>\n",
       "      <td>NaN</td>\n",
       "    </tr>\n",
       "    <tr>\n",
       "      <th>3</th>\n",
       "      <td>on xx/xx/2018, while trying to book a     tick...</td>\n",
       "      <td>[ticket, offer, ticket, reward, card, informat...</td>\n",
       "      <td>[ticket:NOUN, offer:NOUN, ticket:NOUN, reward:...</td>\n",
       "      <td>1502</td>\n",
       "      <td>272</td>\n",
       "      <td>NaN</td>\n",
       "    </tr>\n",
       "    <tr>\n",
       "      <th>4</th>\n",
       "      <td>my grand son give me check for {$1600.00} i de...</td>\n",
       "      <td>[son, check, chase, account, fund, chase, bank...</td>\n",
       "      <td>[son:NOUN, check:NOUN, chase:NOUN, account:NOU...</td>\n",
       "      <td>477</td>\n",
       "      <td>96</td>\n",
       "      <td>NaN</td>\n",
       "    </tr>\n",
       "  </tbody>\n",
       "</table>\n",
       "</div>"
      ],
      "text/plain": [
       "                                        preprocessed  \\\n",
       "0  good morning my name is   and i appreciate it ...   \n",
       "1  i upgraded my   card in xx/xx/2018 and was tol...   \n",
       "2  chase card was reported on xx/xx/2019. however...   \n",
       "3  on xx/xx/2018, while trying to book a     tick...   \n",
       "4  my grand son give me check for {$1600.00} i de...   \n",
       "\n",
       "                                              tokens  \\\n",
       "0  [morning, name, stop, bank, cardmember, servic...   \n",
       "1  [card, agent, upgrade, anniversary, date, agen...   \n",
       "2  [chase, card, application, identity, consent, ...   \n",
       "3  [ticket, offer, ticket, reward, card, informat...   \n",
       "4  [son, check, chase, account, fund, chase, bank...   \n",
       "\n",
       "                                     tokens_with_pos  complaint_length  \\\n",
       "0  [morning:NOUN, name:NOUN, stop:NOUN, bank:NOUN...               486   \n",
       "1  [card:NOUN, agent:NOUN, upgrade:NOUN, annivers...               355   \n",
       "2  [chase:NOUN, card:NOUN, application:NOUN, iden...               224   \n",
       "3  [ticket:NOUN, offer:NOUN, ticket:NOUN, reward:...              1502   \n",
       "4  [son:NOUN, check:NOUN, chase:NOUN, account:NOU...               477   \n",
       "\n",
       "   word_freq  Topic  \n",
       "0         92    NaN  \n",
       "1         65    NaN  \n",
       "2         32    NaN  \n",
       "3        272    NaN  \n",
       "4         96    NaN  "
      ]
     },
     "execution_count": 363,
     "metadata": {},
     "output_type": "execute_result"
    }
   ],
   "source": [
    "#Print the first 5 Complaint for each of the Topics\n",
    "df_clean_temp=df_clean.groupby('Topic').head(5)\n",
    "df_clean_temp.sort_values('Topic')"
   ]
  },
  {
   "cell_type": "markdown",
   "metadata": {
    "id": "piyLxzj6v07j"
   },
   "source": [
    "### Map the clusters to topics/cluster names\n",
    "* Bank Account services\n",
    "* Credit card or prepaid card\n",
    "* Theft/Dispute Reporting\n",
    "* Mortgage/Loan\n",
    "* Others"
   ]
  },
  {
   "cell_type": "code",
   "execution_count": 335,
   "metadata": {
    "id": "TWpwDG4RJrGG"
   },
   "outputs": [],
   "source": [
    "#Create the dictionary of Topic names and Topics\n",
    "\n",
    "Topic_names = {  \n",
    "    0: 'Bank Account services',\n",
    "    1: 'Others',\n",
    "    2: 'Credit card or prepaid card',\n",
    "    3: 'Mortgage/Loan',\n",
    "    4: 'Theft/Dispute Reporting',\n",
    "}\n",
    "#Replace Topics with Topic Names\n",
    "df_clean['Topic'] = df_clean['Topic'].map(Topic_names)"
   ]
  },
  {
   "cell_type": "code",
   "execution_count": 336,
   "metadata": {
    "id": "-2ULY5K6JrGG"
   },
   "outputs": [
    {
     "data": {
      "text/plain": [
       "(21072, 6)"
      ]
     },
     "execution_count": 336,
     "metadata": {},
     "output_type": "execute_result"
    }
   ],
   "source": [
    "df_clean.shape"
   ]
  },
  {
   "cell_type": "markdown",
   "metadata": {
    "id": "7Mu0QBOcJrGH"
   },
   "source": [
    "## Model Building and Inference\n",
    "\n",
    "You have now build the model to create the topics for each complaints.Now in the below section you will use them to classify any new complaints.\n",
    "\n",
    "Since you will be using supervised learning technique we have to convert the topic names to numbers(numpy arrays only understand numbers)"
   ]
  },
  {
   "cell_type": "markdown",
   "metadata": {},
   "source": [
    "### Training data preparation"
   ]
  },
  {
   "cell_type": "code",
   "execution_count": 337,
   "metadata": {
    "id": "_U8J3J8wJrGH"
   },
   "outputs": [],
   "source": [
    "#Create the dictionary again of Topic names and Topics\n",
    "Topic_names = {  \n",
    "      'Bank Account services' : 0 ,\n",
    "                     'Others' : 1 ,\n",
    "'Credit card or prepaid card' : 2 ,\n",
    "              'Mortgage/Loan' : 3 ,\n",
    "    'Theft/Dispute Reporting' : 4 ,\n",
    "}\n",
    "#Replace Topics with Topic Names\n",
    "df_clean['Topic'] = df_clean['Topic'].map(Topic_names)"
   ]
  },
  {
   "cell_type": "code",
   "execution_count": 338,
   "metadata": {
    "id": "BWIgJUkQJrGH"
   },
   "outputs": [
    {
     "data": {
      "text/html": [
       "<div>\n",
       "<style scoped>\n",
       "    .dataframe tbody tr th:only-of-type {\n",
       "        vertical-align: middle;\n",
       "    }\n",
       "\n",
       "    .dataframe tbody tr th {\n",
       "        vertical-align: top;\n",
       "    }\n",
       "\n",
       "    .dataframe thead th {\n",
       "        text-align: right;\n",
       "    }\n",
       "</style>\n",
       "<table border=\"1\" class=\"dataframe\">\n",
       "  <thead>\n",
       "    <tr style=\"text-align: right;\">\n",
       "      <th></th>\n",
       "      <th>preprocessed</th>\n",
       "      <th>tokens</th>\n",
       "      <th>tokens_with_pos</th>\n",
       "      <th>complaint_length</th>\n",
       "      <th>word_freq</th>\n",
       "      <th>Topic</th>\n",
       "    </tr>\n",
       "  </thead>\n",
       "  <tbody>\n",
       "    <tr>\n",
       "      <th>0</th>\n",
       "      <td>good morning my name is   and i appreciate it ...</td>\n",
       "      <td>[morning, name, stop, bank, cardmember, servic...</td>\n",
       "      <td>[morning:NOUN, name:NOUN, stop:NOUN, bank:NOUN...</td>\n",
       "      <td>486</td>\n",
       "      <td>92</td>\n",
       "      <td>3</td>\n",
       "    </tr>\n",
       "    <tr>\n",
       "      <th>1</th>\n",
       "      <td>i upgraded my   card in xx/xx/2018 and was tol...</td>\n",
       "      <td>[card, agent, upgrade, anniversary, date, agen...</td>\n",
       "      <td>[card:NOUN, agent:NOUN, upgrade:NOUN, annivers...</td>\n",
       "      <td>355</td>\n",
       "      <td>65</td>\n",
       "      <td>1</td>\n",
       "    </tr>\n",
       "    <tr>\n",
       "      <th>2</th>\n",
       "      <td>chase card was reported on xx/xx/2019. however...</td>\n",
       "      <td>[chase, card, application, identity, consent, ...</td>\n",
       "      <td>[chase:NOUN, card:NOUN, application:NOUN, iden...</td>\n",
       "      <td>224</td>\n",
       "      <td>32</td>\n",
       "      <td>2</td>\n",
       "    </tr>\n",
       "    <tr>\n",
       "      <th>3</th>\n",
       "      <td>on xx/xx/2018, while trying to book a     tick...</td>\n",
       "      <td>[ticket, offer, ticket, reward, card, informat...</td>\n",
       "      <td>[ticket:NOUN, offer:NOUN, ticket:NOUN, reward:...</td>\n",
       "      <td>1502</td>\n",
       "      <td>272</td>\n",
       "      <td>2</td>\n",
       "    </tr>\n",
       "    <tr>\n",
       "      <th>4</th>\n",
       "      <td>my grand son give me check for {$1600.00} i de...</td>\n",
       "      <td>[son, check, chase, account, fund, chase, bank...</td>\n",
       "      <td>[son:NOUN, check:NOUN, chase:NOUN, account:NOU...</td>\n",
       "      <td>477</td>\n",
       "      <td>96</td>\n",
       "      <td>0</td>\n",
       "    </tr>\n",
       "    <tr>\n",
       "      <th>5</th>\n",
       "      <td>can you please remove inquiry</td>\n",
       "      <td>[inquiry]</td>\n",
       "      <td>[inquiry:NOUN]</td>\n",
       "      <td>29</td>\n",
       "      <td>5</td>\n",
       "      <td>2</td>\n",
       "    </tr>\n",
       "    <tr>\n",
       "      <th>6</th>\n",
       "      <td>with out notice j.p. morgan chase restricted m...</td>\n",
       "      <td>[notice, morgan, chase, account, debit, card, ...</td>\n",
       "      <td>[notice:NOUN, morgan:NOUN, chase:NOUN, account...</td>\n",
       "      <td>2277</td>\n",
       "      <td>420</td>\n",
       "      <td>0</td>\n",
       "    </tr>\n",
       "    <tr>\n",
       "      <th>7</th>\n",
       "      <td>during the summer months, i experience a decli...</td>\n",
       "      <td>[summer, month, decline, income, employment, m...</td>\n",
       "      <td>[summer:NOUN, month:NOUN, decline:NOUN, income...</td>\n",
       "      <td>1396</td>\n",
       "      <td>229</td>\n",
       "      <td>3</td>\n",
       "    </tr>\n",
       "    <tr>\n",
       "      <th>8</th>\n",
       "      <td>on  xx/xx/2019, i made a {$300.00} payment to ...</td>\n",
       "      <td>[payment, retailer, chase, pay, chase, website...</td>\n",
       "      <td>[payment:NOUN, retailer:NOUN, chase:NOUN, pay:...</td>\n",
       "      <td>3541</td>\n",
       "      <td>628</td>\n",
       "      <td>4</td>\n",
       "    </tr>\n",
       "    <tr>\n",
       "      <th>9</th>\n",
       "      <td>i have a chase credit card which is incorrectl...</td>\n",
       "      <td>[chase, credit, card, datum, credit, report, c...</td>\n",
       "      <td>[chase:NOUN, credit:NOUN, card:NOUN, datum:NOU...</td>\n",
       "      <td>129</td>\n",
       "      <td>23</td>\n",
       "      <td>2</td>\n",
       "    </tr>\n",
       "  </tbody>\n",
       "</table>\n",
       "</div>"
      ],
      "text/plain": [
       "                                        preprocessed  \\\n",
       "0  good morning my name is   and i appreciate it ...   \n",
       "1  i upgraded my   card in xx/xx/2018 and was tol...   \n",
       "2  chase card was reported on xx/xx/2019. however...   \n",
       "3  on xx/xx/2018, while trying to book a     tick...   \n",
       "4  my grand son give me check for {$1600.00} i de...   \n",
       "5                      can you please remove inquiry   \n",
       "6  with out notice j.p. morgan chase restricted m...   \n",
       "7  during the summer months, i experience a decli...   \n",
       "8  on  xx/xx/2019, i made a {$300.00} payment to ...   \n",
       "9  i have a chase credit card which is incorrectl...   \n",
       "\n",
       "                                              tokens  \\\n",
       "0  [morning, name, stop, bank, cardmember, servic...   \n",
       "1  [card, agent, upgrade, anniversary, date, agen...   \n",
       "2  [chase, card, application, identity, consent, ...   \n",
       "3  [ticket, offer, ticket, reward, card, informat...   \n",
       "4  [son, check, chase, account, fund, chase, bank...   \n",
       "5                                          [inquiry]   \n",
       "6  [notice, morgan, chase, account, debit, card, ...   \n",
       "7  [summer, month, decline, income, employment, m...   \n",
       "8  [payment, retailer, chase, pay, chase, website...   \n",
       "9  [chase, credit, card, datum, credit, report, c...   \n",
       "\n",
       "                                     tokens_with_pos  complaint_length  \\\n",
       "0  [morning:NOUN, name:NOUN, stop:NOUN, bank:NOUN...               486   \n",
       "1  [card:NOUN, agent:NOUN, upgrade:NOUN, annivers...               355   \n",
       "2  [chase:NOUN, card:NOUN, application:NOUN, iden...               224   \n",
       "3  [ticket:NOUN, offer:NOUN, ticket:NOUN, reward:...              1502   \n",
       "4  [son:NOUN, check:NOUN, chase:NOUN, account:NOU...               477   \n",
       "5                                     [inquiry:NOUN]                29   \n",
       "6  [notice:NOUN, morgan:NOUN, chase:NOUN, account...              2277   \n",
       "7  [summer:NOUN, month:NOUN, decline:NOUN, income...              1396   \n",
       "8  [payment:NOUN, retailer:NOUN, chase:NOUN, pay:...              3541   \n",
       "9  [chase:NOUN, credit:NOUN, card:NOUN, datum:NOU...               129   \n",
       "\n",
       "   word_freq  Topic  \n",
       "0         92      3  \n",
       "1         65      1  \n",
       "2         32      2  \n",
       "3        272      2  \n",
       "4         96      0  \n",
       "5          5      2  \n",
       "6        420      0  \n",
       "7        229      3  \n",
       "8        628      4  \n",
       "9         23      2  "
      ]
     },
     "execution_count": 338,
     "metadata": {},
     "output_type": "execute_result"
    }
   ],
   "source": [
    "df_clean.head(10)"
   ]
  },
  {
   "cell_type": "code",
   "execution_count": 339,
   "metadata": {
    "id": "Xx-FrbkWJrGH"
   },
   "outputs": [],
   "source": [
    "#Keep the columns\"complaint_what_happened\" & \"Topic\" only in the new dataframe --> training_data\n",
    "training_data= df_clean.drop(columns=['tokens','tokens_with_pos','word_freq', 'complaint_length'])"
   ]
  },
  {
   "cell_type": "code",
   "execution_count": 340,
   "metadata": {
    "id": "lVg2pa12JrGI"
   },
   "outputs": [
    {
     "data": {
      "text/html": [
       "<div>\n",
       "<style scoped>\n",
       "    .dataframe tbody tr th:only-of-type {\n",
       "        vertical-align: middle;\n",
       "    }\n",
       "\n",
       "    .dataframe tbody tr th {\n",
       "        vertical-align: top;\n",
       "    }\n",
       "\n",
       "    .dataframe thead th {\n",
       "        text-align: right;\n",
       "    }\n",
       "</style>\n",
       "<table border=\"1\" class=\"dataframe\">\n",
       "  <thead>\n",
       "    <tr style=\"text-align: right;\">\n",
       "      <th></th>\n",
       "      <th>preprocessed</th>\n",
       "      <th>Topic</th>\n",
       "    </tr>\n",
       "  </thead>\n",
       "  <tbody>\n",
       "    <tr>\n",
       "      <th>0</th>\n",
       "      <td>good morning my name is   and i appreciate it ...</td>\n",
       "      <td>3</td>\n",
       "    </tr>\n",
       "    <tr>\n",
       "      <th>1</th>\n",
       "      <td>i upgraded my   card in xx/xx/2018 and was tol...</td>\n",
       "      <td>1</td>\n",
       "    </tr>\n",
       "    <tr>\n",
       "      <th>2</th>\n",
       "      <td>chase card was reported on xx/xx/2019. however...</td>\n",
       "      <td>2</td>\n",
       "    </tr>\n",
       "    <tr>\n",
       "      <th>3</th>\n",
       "      <td>on xx/xx/2018, while trying to book a     tick...</td>\n",
       "      <td>2</td>\n",
       "    </tr>\n",
       "    <tr>\n",
       "      <th>4</th>\n",
       "      <td>my grand son give me check for {$1600.00} i de...</td>\n",
       "      <td>0</td>\n",
       "    </tr>\n",
       "    <tr>\n",
       "      <th>...</th>\n",
       "      <td>...</td>\n",
       "      <td>...</td>\n",
       "    </tr>\n",
       "    <tr>\n",
       "      <th>21067</th>\n",
       "      <td>after being a chase card customer for well ove...</td>\n",
       "      <td>2</td>\n",
       "    </tr>\n",
       "    <tr>\n",
       "      <th>21068</th>\n",
       "      <td>on wednesday, xx/xx/ i called chas, my   visa ...</td>\n",
       "      <td>4</td>\n",
       "    </tr>\n",
       "    <tr>\n",
       "      <th>21069</th>\n",
       "      <td>i am not familiar with  pay and did not unders...</td>\n",
       "      <td>4</td>\n",
       "    </tr>\n",
       "    <tr>\n",
       "      <th>21070</th>\n",
       "      <td>i have had flawless credit for 30 yrs. i've ha...</td>\n",
       "      <td>4</td>\n",
       "    </tr>\n",
       "    <tr>\n",
       "      <th>21071</th>\n",
       "      <td>roughly 10+ years ago i closed out my accounts...</td>\n",
       "      <td>3</td>\n",
       "    </tr>\n",
       "  </tbody>\n",
       "</table>\n",
       "<p>21072 rows × 2 columns</p>\n",
       "</div>"
      ],
      "text/plain": [
       "                                            preprocessed  Topic\n",
       "0      good morning my name is   and i appreciate it ...      3\n",
       "1      i upgraded my   card in xx/xx/2018 and was tol...      1\n",
       "2      chase card was reported on xx/xx/2019. however...      2\n",
       "3      on xx/xx/2018, while trying to book a     tick...      2\n",
       "4      my grand son give me check for {$1600.00} i de...      0\n",
       "...                                                  ...    ...\n",
       "21067  after being a chase card customer for well ove...      2\n",
       "21068  on wednesday, xx/xx/ i called chas, my   visa ...      4\n",
       "21069  i am not familiar with  pay and did not unders...      4\n",
       "21070  i have had flawless credit for 30 yrs. i've ha...      4\n",
       "21071  roughly 10+ years ago i closed out my accounts...      3\n",
       "\n",
       "[21072 rows x 2 columns]"
      ]
     },
     "execution_count": 340,
     "metadata": {},
     "output_type": "execute_result"
    }
   ],
   "source": [
    "training_data"
   ]
  },
  {
   "cell_type": "markdown",
   "metadata": {
    "id": "280Vbqk-7a8M"
   },
   "source": [
    "#### Apply the supervised models on the training data created. In this process, you have to do the following:\n",
    "* Create the vector counts using Count Vectoriser\n",
    "* Transform the word vecotr to tf-idf\n",
    "* Create the train & test data using the train_test_split on the tf-idf & topics\n"
   ]
  },
  {
   "cell_type": "code",
   "execution_count": 341,
   "metadata": {},
   "outputs": [],
   "source": [
    "y = training_data.pop('Topic')\n",
    "X = training_data['preprocessed']"
   ]
  },
  {
   "cell_type": "code",
   "execution_count": 342,
   "metadata": {},
   "outputs": [
    {
     "data": {
      "text/plain": [
       "(21072,)"
      ]
     },
     "execution_count": 342,
     "metadata": {},
     "output_type": "execute_result"
    }
   ],
   "source": [
    "X.shape"
   ]
  },
  {
   "cell_type": "code",
   "execution_count": 343,
   "metadata": {},
   "outputs": [
    {
     "data": {
      "text/plain": [
       "0        3\n",
       "1        1\n",
       "2        2\n",
       "3        2\n",
       "4        0\n",
       "        ..\n",
       "21067    2\n",
       "21068    4\n",
       "21069    4\n",
       "21070    4\n",
       "21071    3\n",
       "Name: Topic, Length: 21072, dtype: int64"
      ]
     },
     "execution_count": 343,
     "metadata": {},
     "output_type": "execute_result"
    }
   ],
   "source": [
    "y"
   ]
  },
  {
   "cell_type": "code",
   "execution_count": 344,
   "metadata": {
    "id": "oUlQpgkzJrGI"
   },
   "outputs": [],
   "source": [
    "from sklearn.feature_extraction.text import CountVectorizer\n",
    "cv = CountVectorizer(stop_words='english')\n",
    "#Write your code to get the Vector count\n",
    "vector = cv.fit_transform(X)\n",
    "#Write your code here to transform the word vector to tf-idf"
   ]
  },
  {
   "cell_type": "code",
   "execution_count": 345,
   "metadata": {},
   "outputs": [
    {
     "name": "stdout",
     "output_type": "stream",
     "text": [
      "[[0 0 0 ... 0 0 0]\n",
      " [0 0 0 ... 0 0 0]\n",
      " [0 0 0 ... 0 0 0]\n",
      " ...\n",
      " [0 0 0 ... 0 0 0]\n",
      " [6 0 0 ... 0 0 0]\n",
      " [2 0 0 ... 0 0 0]]\n"
     ]
    }
   ],
   "source": [
    "print(vector.toarray())"
   ]
  },
  {
   "cell_type": "code",
   "execution_count": 346,
   "metadata": {},
   "outputs": [],
   "source": [
    "X_train,X_test,y_train,y_test = train_test_split(X, y, test_size=0.2,random_state=0)"
   ]
  },
  {
   "cell_type": "code",
   "execution_count": 347,
   "metadata": {},
   "outputs": [
    {
     "data": {
      "text/plain": [
       "((16857,), (4215,))"
      ]
     },
     "execution_count": 347,
     "metadata": {},
     "output_type": "execute_result"
    }
   ],
   "source": [
    "X_train.shape , X_test.shape"
   ]
  },
  {
   "cell_type": "code",
   "execution_count": 348,
   "metadata": {},
   "outputs": [],
   "source": [
    "td = TfidfVectorizer(max_features = 10000, ngram_range=(1,3))\n",
    "X_train = td.fit_transform(X_train).toarray()\n",
    "X_test = td.transform(X_test).toarray()"
   ]
  },
  {
   "cell_type": "code",
   "execution_count": 349,
   "metadata": {},
   "outputs": [
    {
     "data": {
      "text/plain": [
       "((16857, 10000), (4215, 10000))"
      ]
     },
     "execution_count": 349,
     "metadata": {},
     "output_type": "execute_result"
    }
   ],
   "source": [
    "X_train.shape , X_test.shape"
   ]
  },
  {
   "cell_type": "markdown",
   "metadata": {
    "id": "uMU3vj6w-wqL"
   },
   "source": [
    "You have to try atleast 3 models on the train & test data from these options:\n",
    "* Logistic regression\n",
    "* Decision Tree\n",
    "* Random Forest\n",
    "* Naive Bayes (optional)\n",
    "\n",
    "**Using the required evaluation metrics judge the tried models and select the ones performing the best**"
   ]
  },
  {
   "cell_type": "code",
   "execution_count": 350,
   "metadata": {},
   "outputs": [
    {
     "data": {
      "text/plain": [
       "((16857,), (4215,))"
      ]
     },
     "execution_count": 350,
     "metadata": {},
     "output_type": "execute_result"
    }
   ],
   "source": [
    "y_train.shape , y_test.shape"
   ]
  },
  {
   "cell_type": "markdown",
   "metadata": {},
   "source": [
    "### Logistic Regression"
   ]
  },
  {
   "cell_type": "code",
   "execution_count": 358,
   "metadata": {},
   "outputs": [
    {
     "name": "stdout",
     "output_type": "stream",
     "text": [
      "ACC : 0.9359430604982206\n",
      "              precision    recall  f1-score   support\n",
      "\n",
      "           0       0.91      0.96      0.93       849\n",
      "           1       0.96      0.89      0.92       677\n",
      "           2       0.95      0.91      0.93       734\n",
      "           3       0.94      0.96      0.95       857\n",
      "           4       0.93      0.95      0.94      1098\n",
      "\n",
      "    accuracy                           0.94      4215\n",
      "   macro avg       0.94      0.93      0.93      4215\n",
      "weighted avg       0.94      0.94      0.94      4215\n",
      "\n"
     ]
    }
   ],
   "source": [
    "lr = LogisticRegression(solver='liblinear')\n",
    "model = lr.fit(X_train,y_train)\n",
    "#Making prediction on the test data\n",
    "y_pred_lr = model.predict(X_test)\n",
    "\n",
    "clf_report = classification_report(y_test,y_pred_lr)\n",
    "print(F'ACC : {accuracy_score(y_test,y_pred_lr)}')\n",
    "print(clf_report)"
   ]
  },
  {
   "cell_type": "markdown",
   "metadata": {},
   "source": [
    "### Random Forest"
   ]
  },
  {
   "cell_type": "code",
   "execution_count": 352,
   "metadata": {
    "id": "udLHpPsZJrGI"
   },
   "outputs": [
    {
     "name": "stdout",
     "output_type": "stream",
     "text": [
      "ACC : 0.8474495848161329\n",
      "              precision    recall  f1-score   support\n",
      "\n",
      "           0       0.81      0.90      0.85       849\n",
      "           1       0.86      0.79      0.83       677\n",
      "           2       0.87      0.85      0.86       734\n",
      "           3       0.90      0.87      0.88       857\n",
      "           4       0.82      0.83      0.82      1098\n",
      "\n",
      "    accuracy                           0.85      4215\n",
      "   macro avg       0.85      0.85      0.85      4215\n",
      "weighted avg       0.85      0.85      0.85      4215\n",
      "\n"
     ]
    }
   ],
   "source": [
    "# Write your code here to build any 3 models and evaluate them using the required metrics\n",
    "rf = RandomForestClassifier(n_estimators= 50)\n",
    "rf.fit(X_train,y_train)\n",
    "\n",
    "y_pred_rf = rf.predict(X_test)\n",
    "\n",
    "from sklearn.metrics import accuracy_score,classification_report\n",
    "\n",
    "clf_report = classification_report(y_test,y_pred_rf)\n",
    "print(F'ACC : {accuracy_score(y_test,y_pred_rf)}')\n",
    "print(clf_report)"
   ]
  },
  {
   "cell_type": "code",
   "execution_count": 353,
   "metadata": {},
   "outputs": [
    {
     "name": "stdout",
     "output_type": "stream",
     "text": [
      "ACC : 0.8702253855278766\n",
      "              precision    recall  f1-score   support\n",
      "\n",
      "           0       0.84      0.92      0.88       849\n",
      "           1       0.88      0.83      0.85       677\n",
      "           2       0.87      0.88      0.87       734\n",
      "           3       0.93      0.87      0.90       857\n",
      "           4       0.85      0.86      0.85      1098\n",
      "\n",
      "    accuracy                           0.87      4215\n",
      "   macro avg       0.87      0.87      0.87      4215\n",
      "weighted avg       0.87      0.87      0.87      4215\n",
      "\n"
     ]
    }
   ],
   "source": [
    "# Write your code here to build any 3 models and evaluate them using the required metrics\n",
    "rf = RandomForestClassifier(n_estimators= 400)\n",
    "rf.fit(X_train,y_train)\n",
    "\n",
    "y_pred_rf = rf.predict(X_test)\n",
    "\n",
    "from sklearn.metrics import accuracy_score,classification_report\n",
    "\n",
    "clf_report = classification_report(y_test,y_pred_rf)\n",
    "print(F'ACC : {accuracy_score(y_test,y_pred_rf)}')\n",
    "print(clf_report)"
   ]
  },
  {
   "cell_type": "markdown",
   "metadata": {},
   "source": [
    "### Decision Tree"
   ]
  },
  {
   "cell_type": "code",
   "execution_count": 354,
   "metadata": {
    "id": "N2OznsObJrGP"
   },
   "outputs": [
    {
     "name": "stdout",
     "output_type": "stream",
     "text": [
      "ACC : 0.8702253855278766\n",
      "              precision    recall  f1-score   support\n",
      "\n",
      "           0       0.84      0.92      0.88       849\n",
      "           1       0.88      0.83      0.85       677\n",
      "           2       0.87      0.88      0.87       734\n",
      "           3       0.93      0.87      0.90       857\n",
      "           4       0.85      0.86      0.85      1098\n",
      "\n",
      "    accuracy                           0.87      4215\n",
      "   macro avg       0.87      0.87      0.87      4215\n",
      "weighted avg       0.87      0.87      0.87      4215\n",
      "\n"
     ]
    }
   ],
   "source": [
    "from sklearn.tree import DecisionTreeClassifier\n",
    "dt = DecisionTreeClassifier(max_depth=3)\n",
    "dt.fit(X_train, y_train)\n",
    "y_pred_dt = rf.predict(X_test)\n",
    "\n",
    "from sklearn.metrics import accuracy_score,classification_report\n",
    "\n",
    "clf_report = classification_report(y_test,y_pred_dt)\n",
    "print(F'ACC : {accuracy_score(y_test,y_pred_rf)}')\n",
    "print(clf_report)"
   ]
  },
  {
   "cell_type": "markdown",
   "metadata": {},
   "source": [
    "## Conclusion\n",
    "- Logistic Regression is selected as the best model because\n",
    "    - it has a good accuracy of 93.5%\n",
    "    - it is fast and interpretable"
   ]
  }
 ],
 "metadata": {
  "colab": {
   "collapsed_sections": [
    "T9jD_6SeJrF3",
    "5DfCSbbmJrF4",
    "yYzD85nTJrGA",
    "piyLxzj6v07j",
    "280Vbqk-7a8M"
   ],
   "name": "Automatic_Ticket_Classification_Assignment.ipynb",
   "provenance": []
  },
  "kernelspec": {
   "display_name": "Python 3",
   "language": "python",
   "name": "python3"
  },
  "language_info": {
   "codemirror_mode": {
    "name": "ipython",
    "version": 3
   },
   "file_extension": ".py",
   "mimetype": "text/x-python",
   "name": "python",
   "nbconvert_exporter": "python",
   "pygments_lexer": "ipython3",
   "version": "3.8.3"
  }
 },
 "nbformat": 4,
 "nbformat_minor": 1
}
